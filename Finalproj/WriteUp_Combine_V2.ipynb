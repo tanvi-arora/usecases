{
 "cells": [
  {
   "cell_type": "markdown",
   "metadata": {},
   "source": [
    "<h1><center>Final Case Study: Predicting Anonymized Data with Machine Learning</center></h1>\n",
    "<h3><center>Steven Cocke, Hannah Kosinovsky, Tanvi Arora</center></h3>\n",
    "<h3><center>December 6th, 2019</center></h3>"
   ]
  },
  {
   "cell_type": "markdown",
   "metadata": {},
   "source": [
    "## 1 Introduction\n",
    "\n",
    "The goal of this project is to help our business partner predict a response variable that he has indicated. In the dataset provided, there is no explanation of what the explanatory variables represent, where the data comes from, or what influences the response variable in a business sense. The data is completely anonymized. Still, the partner expects a machine learning algorithm as a deliverable to predict the values of the target variable. \n",
    "\n",
    "This may seem unreasonable, but in fact, this is a common applied business analytics problem. Many companies hire contractors or even post their projects on open source project competitions like Kaggle. These companies cannot disclose propriotary information, so they instead use anonymization techniques to hide the actual information within the data tables. It is up to the data scientist to use applied machine learning to fit a model without any business understanding of the data or prior knowledge or intuition about what outcomes they expect from the target variable. "
   ]
  },
  {
   "cell_type": "markdown",
   "metadata": {},
   "source": [
    "## 2 Methods\n",
    "\n",
    "### 2.1 Exploratory Data Analysis"
   ]
  },
  {
   "cell_type": "markdown",
   "metadata": {},
   "source": [
    "First, we needed to find as much information about the data as possible without an actual description. Using the info() function we see that this dataframe has 51 columns. All the columns are labeled x0 to x49 except the last column that is just called y. We know from the business partner that y is the variable we would like to predict. Using the describe() function we can get the distributions of the continuous variables in the dataframe. Most of the variables were continuous but there were several columns with missing values or categorical data. However, we found using the duplicated() function that there were no duplicate rows. \n",
    "\n",
    "Next, we want to start looking at the relationships between the variables. In order to do this we began by creating a color coded correlation plot. In this plot, the squares ar dark blue if there is no correlation and dark red if they are perfectly correlated. As expected, the same variables are perfectly correlated with each other so the diagonal line is dark red, but we found from the plot that the variables x2 and x6 are perfectly correlated as well as x38 and x41. This could mean that perhaps the variables represent the same information and having both in a model would be unhelpful. \n",
    "\n",
    "Next, we need to explore the categorical variables that were found in the data. We found that the columns x24, x29, and x30 were all true categorical variables. However, columns 32 and 37 were numerical values that needed to be converted and added back into the data frame. So, we converted those. \n",
    "\n",
    "We found that about 1% of the data rows had columns with NA values, so we dropped them. \n",
    "\n",
    "Finally, we inspected our response variable, y. The y column is binary. After comparing the proportion of both outcomes possible in the column, we see that the target variable is not highly imbalanced. The percentage of 'no' is 60 % and the percentage of yes is 40%."
   ]
  },
  {
   "cell_type": "markdown",
   "metadata": {},
   "source": [
    "### 2.2 Data Preparation"
   ]
  },
  {
   "cell_type": "markdown",
   "metadata": {},
   "source": [
    "Next we need to prepare the data in order to apply machine learning algorithms to it. The first step is to use one hot encoding to transofrm the categorical variables so that they can be modelled with dummy variables. \n",
    "\n",
    "In addition to the cross validation within the modeling analysis, we wanted to set aside an \"outer fold\" of validation data. This would be a 20% random sampling of the entire data set."
   ]
  },
  {
   "cell_type": "markdown",
   "metadata": {},
   "source": [
    "### 2.3 Logistic Regression\n",
    "\n",
    "The first model we explored was Logistic Regression. We decided to start with this model because we know that the response variable is binary, but unlike other machine learning algorithms, the inputs are easily understandable and explainable to a non-technical audience. \n",
    "\n",
    "For our logistic regression model, we used a Lasso penalty."
   ]
  },
  {
   "cell_type": "markdown",
   "metadata": {},
   "source": [
    "### 2.4 Random Forest Classification\n",
    "\n",
    "Since logistic regression didn't provide high enough accuracy, we decided to try a random forest classifier next. At first, we simply set parameters on our own, but we kept running in to overfitting with an accuracy of 1. To try and mitigate this problem, we ran a random grid search to set hyper parameters based on these results. "
   ]
  },
  {
   "cell_type": "markdown",
   "metadata": {},
   "source": [
    "### 2.5 Dense Neural Network\n",
    "\n",
    "After a low accuracy score with logistic regression and a potential overfit problem in our random forest classification, we decided to try a dense neural network. This technique is perhaps the hardest to explain to a non-technical audience. \n",
    "\n",
    "This method is modeled and named after the neurons in our brain which fire after a certain threshold is reached. In the statistical model, after the inputs of the model reach a certain threshold, the neuron in the model also \"fires\". Since we have multiple neurons in the model, it becomes a network. Each neuron in our model computes an \"activation function\". In our model, we first scaled the data to be able to run our network, and then used sigmoid and relu as the activation functions. "
   ]
  },
  {
   "cell_type": "markdown",
   "metadata": {},
   "source": [
    "## 3 Results\n",
    "\n",
    "### 3.1 Logistic Regression\n",
    "\n",
    "We found that the ccuracy of the logistic regression classifier on normalized test set: 0.71. This is not high enough to be considered a good model and should not be presented to the business partner as a solution, despite it being perhaps the easiest model to understand. \n",
    "\n",
    "\n",
    "### 3.2 Random Forest Classification\n",
    "\n",
    "Despite attempting to fix our overfit problem with random grid search, our model accuracy is still 1. This can seem like a good thing to an outside audience, like our business partner, but we will stress that this is a very clear example of overfitting and not a good model to deploy.\n",
    "\n",
    "### 3.3 Dense Neural Network\n",
    "\n"
   ]
  },
  {
   "cell_type": "markdown",
   "metadata": {},
   "source": [
    "## 4 Conclusions\n"
   ]
  },
  {
   "cell_type": "markdown",
   "metadata": {},
   "source": [
    "## References\n"
   ]
  },
  {
   "cell_type": "markdown",
   "metadata": {},
   "source": [
    "## Code"
   ]
  },
  {
   "cell_type": "code",
   "execution_count": 4,
   "metadata": {},
   "outputs": [],
   "source": [
    "import os, fnmatch\n",
    "import pandas as pd\n",
    "import numpy as np\n",
    "import matplotlib\n",
    "import matplotlib.pyplot as plt\n",
    "import seaborn as sns\n",
    "import missingno\n",
    "%matplotlib inline\n",
    "\n",
    "from sklearn import datasets, linear_model\n",
    "from sklearn.metrics import mean_squared_error, r2_score\n",
    "\n",
    "from sklearn import metrics\n",
    "import itertools\n",
    "\n",
    "\n",
    "from sklearn.model_selection import train_test_split\n",
    "from sklearn.linear_model import LinearRegression\n",
    "from sklearn import metrics\n",
    "import numpy\n",
    "import pandas\n",
    "from sklearn.model_selection import cross_val_score\n",
    "from sklearn.model_selection import KFold\n",
    "from sklearn.preprocessing import StandardScaler\n",
    "from sklearn.pipeline import Pipeline\n",
    "import sklearn.preprocessing\n",
    "from sklearn.preprocessing import StandardScaler\n",
    "from scipy import stats\n",
    "\n",
    "import warnings\n",
    "warnings.simplefilter('ignore', DeprecationWarning)\n",
    "warnings.simplefilter('ignore', FutureWarning)\n",
    "\n",
    "# To display plots inside the iPython Notebook itself\n",
    "%matplotlib inline"
   ]
  },
  {
   "cell_type": "code",
   "execution_count": 5,
   "metadata": {},
   "outputs": [
    {
     "data": {
      "text/html": [
       "<div>\n",
       "<style scoped>\n",
       "    .dataframe tbody tr th:only-of-type {\n",
       "        vertical-align: middle;\n",
       "    }\n",
       "\n",
       "    .dataframe tbody tr th {\n",
       "        vertical-align: top;\n",
       "    }\n",
       "\n",
       "    .dataframe thead th {\n",
       "        text-align: right;\n",
       "    }\n",
       "</style>\n",
       "<table border=\"1\" class=\"dataframe\">\n",
       "  <thead>\n",
       "    <tr style=\"text-align: right;\">\n",
       "      <th></th>\n",
       "      <th>x0</th>\n",
       "      <th>x1</th>\n",
       "      <th>x2</th>\n",
       "      <th>x3</th>\n",
       "      <th>x4</th>\n",
       "      <th>x5</th>\n",
       "      <th>x6</th>\n",
       "      <th>x7</th>\n",
       "      <th>x8</th>\n",
       "      <th>x9</th>\n",
       "      <th>...</th>\n",
       "      <th>x41</th>\n",
       "      <th>x42</th>\n",
       "      <th>x43</th>\n",
       "      <th>x44</th>\n",
       "      <th>x45</th>\n",
       "      <th>x46</th>\n",
       "      <th>x47</th>\n",
       "      <th>x48</th>\n",
       "      <th>x49</th>\n",
       "      <th>y</th>\n",
       "    </tr>\n",
       "  </thead>\n",
       "  <tbody>\n",
       "    <tr>\n",
       "      <th>0</th>\n",
       "      <td>-0.166563</td>\n",
       "      <td>-3.961588</td>\n",
       "      <td>4.621113</td>\n",
       "      <td>2.481908</td>\n",
       "      <td>-1.800135</td>\n",
       "      <td>0.804684</td>\n",
       "      <td>6.718751</td>\n",
       "      <td>-14.789997</td>\n",
       "      <td>-1.040673</td>\n",
       "      <td>-4.204950</td>\n",
       "      <td>...</td>\n",
       "      <td>-1.497117</td>\n",
       "      <td>5.414063</td>\n",
       "      <td>-2.325655</td>\n",
       "      <td>1.674827</td>\n",
       "      <td>-0.264332</td>\n",
       "      <td>60.781427</td>\n",
       "      <td>-7.689696</td>\n",
       "      <td>0.151589</td>\n",
       "      <td>-8.040166</td>\n",
       "      <td>0</td>\n",
       "    </tr>\n",
       "    <tr>\n",
       "      <th>1</th>\n",
       "      <td>-0.149894</td>\n",
       "      <td>-0.585676</td>\n",
       "      <td>27.839856</td>\n",
       "      <td>4.152333</td>\n",
       "      <td>6.426802</td>\n",
       "      <td>-2.426943</td>\n",
       "      <td>40.477058</td>\n",
       "      <td>-6.725709</td>\n",
       "      <td>0.896421</td>\n",
       "      <td>0.330165</td>\n",
       "      <td>...</td>\n",
       "      <td>36.292790</td>\n",
       "      <td>4.490915</td>\n",
       "      <td>0.762561</td>\n",
       "      <td>6.526662</td>\n",
       "      <td>1.007927</td>\n",
       "      <td>15.805696</td>\n",
       "      <td>-4.896678</td>\n",
       "      <td>-0.320283</td>\n",
       "      <td>16.719974</td>\n",
       "      <td>0</td>\n",
       "    </tr>\n",
       "    <tr>\n",
       "      <th>2</th>\n",
       "      <td>-0.321707</td>\n",
       "      <td>-1.429819</td>\n",
       "      <td>12.251561</td>\n",
       "      <td>6.586874</td>\n",
       "      <td>-5.304647</td>\n",
       "      <td>-11.311090</td>\n",
       "      <td>17.812850</td>\n",
       "      <td>11.060572</td>\n",
       "      <td>5.325880</td>\n",
       "      <td>-2.632984</td>\n",
       "      <td>...</td>\n",
       "      <td>-0.368491</td>\n",
       "      <td>9.088864</td>\n",
       "      <td>-0.689886</td>\n",
       "      <td>-2.731118</td>\n",
       "      <td>0.754200</td>\n",
       "      <td>30.856417</td>\n",
       "      <td>-7.428573</td>\n",
       "      <td>-2.090804</td>\n",
       "      <td>-7.869421</td>\n",
       "      <td>0</td>\n",
       "    </tr>\n",
       "    <tr>\n",
       "      <th>3</th>\n",
       "      <td>-0.245594</td>\n",
       "      <td>5.076677</td>\n",
       "      <td>-24.149632</td>\n",
       "      <td>3.637307</td>\n",
       "      <td>6.505811</td>\n",
       "      <td>2.290224</td>\n",
       "      <td>-35.111751</td>\n",
       "      <td>-18.913592</td>\n",
       "      <td>-0.337041</td>\n",
       "      <td>-5.568076</td>\n",
       "      <td>...</td>\n",
       "      <td>15.691546</td>\n",
       "      <td>-7.467775</td>\n",
       "      <td>2.940789</td>\n",
       "      <td>-6.424112</td>\n",
       "      <td>0.419776</td>\n",
       "      <td>-72.424569</td>\n",
       "      <td>5.361375</td>\n",
       "      <td>1.806070</td>\n",
       "      <td>-7.670847</td>\n",
       "      <td>0</td>\n",
       "    </tr>\n",
       "    <tr>\n",
       "      <th>4</th>\n",
       "      <td>-0.273366</td>\n",
       "      <td>0.306326</td>\n",
       "      <td>-11.352593</td>\n",
       "      <td>1.676758</td>\n",
       "      <td>2.928441</td>\n",
       "      <td>-0.616824</td>\n",
       "      <td>-16.505817</td>\n",
       "      <td>27.532281</td>\n",
       "      <td>1.199715</td>\n",
       "      <td>-4.309105</td>\n",
       "      <td>...</td>\n",
       "      <td>-13.911297</td>\n",
       "      <td>-5.229937</td>\n",
       "      <td>1.783928</td>\n",
       "      <td>3.957801</td>\n",
       "      <td>-0.096988</td>\n",
       "      <td>-14.085435</td>\n",
       "      <td>-0.208351</td>\n",
       "      <td>-0.894942</td>\n",
       "      <td>15.724742</td>\n",
       "      <td>1</td>\n",
       "    </tr>\n",
       "  </tbody>\n",
       "</table>\n",
       "<p>5 rows × 51 columns</p>\n",
       "</div>"
      ],
      "text/plain": [
       "         x0        x1         x2        x3        x4         x5         x6  \\\n",
       "0 -0.166563 -3.961588   4.621113  2.481908 -1.800135   0.804684   6.718751   \n",
       "1 -0.149894 -0.585676  27.839856  4.152333  6.426802  -2.426943  40.477058   \n",
       "2 -0.321707 -1.429819  12.251561  6.586874 -5.304647 -11.311090  17.812850   \n",
       "3 -0.245594  5.076677 -24.149632  3.637307  6.505811   2.290224 -35.111751   \n",
       "4 -0.273366  0.306326 -11.352593  1.676758  2.928441  -0.616824 -16.505817   \n",
       "\n",
       "          x7        x8        x9 ...        x41       x42       x43       x44  \\\n",
       "0 -14.789997 -1.040673 -4.204950 ...  -1.497117  5.414063 -2.325655  1.674827   \n",
       "1  -6.725709  0.896421  0.330165 ...  36.292790  4.490915  0.762561  6.526662   \n",
       "2  11.060572  5.325880 -2.632984 ...  -0.368491  9.088864 -0.689886 -2.731118   \n",
       "3 -18.913592 -0.337041 -5.568076 ...  15.691546 -7.467775  2.940789 -6.424112   \n",
       "4  27.532281  1.199715 -4.309105 ... -13.911297 -5.229937  1.783928  3.957801   \n",
       "\n",
       "        x45        x46       x47       x48        x49  y  \n",
       "0 -0.264332  60.781427 -7.689696  0.151589  -8.040166  0  \n",
       "1  1.007927  15.805696 -4.896678 -0.320283  16.719974  0  \n",
       "2  0.754200  30.856417 -7.428573 -2.090804  -7.869421  0  \n",
       "3  0.419776 -72.424569  5.361375  1.806070  -7.670847  0  \n",
       "4 -0.096988 -14.085435 -0.208351 -0.894942  15.724742  1  \n",
       "\n",
       "[5 rows x 51 columns]"
      ]
     },
     "execution_count": 5,
     "metadata": {},
     "output_type": "execute_result"
    }
   ],
   "source": [
    "#data_df = pd.read_csv('final_project.csv')  \n",
    "data_df=pd.read_csv('~/Downloads/final_project.csv')\n",
    "data_df.head()"
   ]
  },
  {
   "cell_type": "code",
   "execution_count": 6,
   "metadata": {},
   "outputs": [
    {
     "data": {
      "text/html": [
       "<div>\n",
       "<style scoped>\n",
       "    .dataframe tbody tr th:only-of-type {\n",
       "        vertical-align: middle;\n",
       "    }\n",
       "\n",
       "    .dataframe tbody tr th {\n",
       "        vertical-align: top;\n",
       "    }\n",
       "\n",
       "    .dataframe thead th {\n",
       "        text-align: right;\n",
       "    }\n",
       "</style>\n",
       "<table border=\"1\" class=\"dataframe\">\n",
       "  <thead>\n",
       "    <tr style=\"text-align: right;\">\n",
       "      <th></th>\n",
       "      <th>x0</th>\n",
       "      <th>x1</th>\n",
       "      <th>x2</th>\n",
       "      <th>x3</th>\n",
       "      <th>x4</th>\n",
       "      <th>x5</th>\n",
       "      <th>x6</th>\n",
       "      <th>x7</th>\n",
       "      <th>x8</th>\n",
       "    </tr>\n",
       "  </thead>\n",
       "  <tbody>\n",
       "    <tr>\n",
       "      <th>count</th>\n",
       "      <td>159974.000000</td>\n",
       "      <td>159975.000000</td>\n",
       "      <td>159962.000000</td>\n",
       "      <td>159963.000000</td>\n",
       "      <td>159974.000000</td>\n",
       "      <td>159963.000000</td>\n",
       "      <td>159974.000000</td>\n",
       "      <td>159973.000000</td>\n",
       "      <td>159979.000000</td>\n",
       "    </tr>\n",
       "    <tr>\n",
       "      <th>mean</th>\n",
       "      <td>-0.001028</td>\n",
       "      <td>0.001358</td>\n",
       "      <td>-1.150145</td>\n",
       "      <td>-0.024637</td>\n",
       "      <td>-0.000549</td>\n",
       "      <td>0.013582</td>\n",
       "      <td>-1.670670</td>\n",
       "      <td>-7.692795</td>\n",
       "      <td>-0.030540</td>\n",
       "    </tr>\n",
       "    <tr>\n",
       "      <th>std</th>\n",
       "      <td>0.371137</td>\n",
       "      <td>6.340632</td>\n",
       "      <td>13.273480</td>\n",
       "      <td>8.065032</td>\n",
       "      <td>6.382293</td>\n",
       "      <td>7.670076</td>\n",
       "      <td>19.298665</td>\n",
       "      <td>30.542264</td>\n",
       "      <td>8.901185</td>\n",
       "    </tr>\n",
       "    <tr>\n",
       "      <th>min</th>\n",
       "      <td>-1.592635</td>\n",
       "      <td>-26.278302</td>\n",
       "      <td>-59.394048</td>\n",
       "      <td>-35.476594</td>\n",
       "      <td>-28.467536</td>\n",
       "      <td>-33.822988</td>\n",
       "      <td>-86.354483</td>\n",
       "      <td>-181.506976</td>\n",
       "      <td>-37.691045</td>\n",
       "    </tr>\n",
       "    <tr>\n",
       "      <th>25%</th>\n",
       "      <td>-0.251641</td>\n",
       "      <td>-4.260973</td>\n",
       "      <td>-10.166536</td>\n",
       "      <td>-5.454438</td>\n",
       "      <td>-4.313118</td>\n",
       "      <td>-5.148130</td>\n",
       "      <td>-14.780146</td>\n",
       "      <td>-27.324771</td>\n",
       "      <td>-6.031058</td>\n",
       "    </tr>\n",
       "    <tr>\n",
       "      <th>50%</th>\n",
       "      <td>-0.002047</td>\n",
       "      <td>0.004813</td>\n",
       "      <td>-1.340932</td>\n",
       "      <td>-0.031408</td>\n",
       "      <td>0.000857</td>\n",
       "      <td>0.014118</td>\n",
       "      <td>-1.948594</td>\n",
       "      <td>-6.956789</td>\n",
       "      <td>-0.016840</td>\n",
       "    </tr>\n",
       "    <tr>\n",
       "      <th>75%</th>\n",
       "      <td>0.248532</td>\n",
       "      <td>4.284220</td>\n",
       "      <td>7.871676</td>\n",
       "      <td>5.445179</td>\n",
       "      <td>4.306660</td>\n",
       "      <td>5.190749</td>\n",
       "      <td>11.446931</td>\n",
       "      <td>12.217071</td>\n",
       "      <td>5.972349</td>\n",
       "    </tr>\n",
       "    <tr>\n",
       "      <th>max</th>\n",
       "      <td>1.600849</td>\n",
       "      <td>27.988178</td>\n",
       "      <td>63.545653</td>\n",
       "      <td>38.906025</td>\n",
       "      <td>26.247812</td>\n",
       "      <td>35.550110</td>\n",
       "      <td>92.390605</td>\n",
       "      <td>149.150634</td>\n",
       "      <td>39.049831</td>\n",
       "    </tr>\n",
       "  </tbody>\n",
       "</table>\n",
       "</div>"
      ],
      "text/plain": [
       "                  x0             x1             x2             x3  \\\n",
       "count  159974.000000  159975.000000  159962.000000  159963.000000   \n",
       "mean       -0.001028       0.001358      -1.150145      -0.024637   \n",
       "std         0.371137       6.340632      13.273480       8.065032   \n",
       "min        -1.592635     -26.278302     -59.394048     -35.476594   \n",
       "25%        -0.251641      -4.260973     -10.166536      -5.454438   \n",
       "50%        -0.002047       0.004813      -1.340932      -0.031408   \n",
       "75%         0.248532       4.284220       7.871676       5.445179   \n",
       "max         1.600849      27.988178      63.545653      38.906025   \n",
       "\n",
       "                  x4             x5             x6             x7  \\\n",
       "count  159974.000000  159963.000000  159974.000000  159973.000000   \n",
       "mean       -0.000549       0.013582      -1.670670      -7.692795   \n",
       "std         6.382293       7.670076      19.298665      30.542264   \n",
       "min       -28.467536     -33.822988     -86.354483    -181.506976   \n",
       "25%        -4.313118      -5.148130     -14.780146     -27.324771   \n",
       "50%         0.000857       0.014118      -1.948594      -6.956789   \n",
       "75%         4.306660       5.190749      11.446931      12.217071   \n",
       "max        26.247812      35.550110      92.390605     149.150634   \n",
       "\n",
       "                  x8  \n",
       "count  159979.000000  \n",
       "mean       -0.030540  \n",
       "std         8.901185  \n",
       "min       -37.691045  \n",
       "25%        -6.031058  \n",
       "50%        -0.016840  \n",
       "75%         5.972349  \n",
       "max        39.049831  "
      ]
     },
     "execution_count": 6,
     "metadata": {},
     "output_type": "execute_result"
    }
   ],
   "source": [
    "data_df[['x0','x1','x2','x3','x4','x5','x6','x7','x8']].describe(include='all',)"
   ]
  },
  {
   "cell_type": "code",
   "execution_count": 7,
   "metadata": {},
   "outputs": [
    {
     "data": {
      "text/html": [
       "<div>\n",
       "<style scoped>\n",
       "    .dataframe tbody tr th:only-of-type {\n",
       "        vertical-align: middle;\n",
       "    }\n",
       "\n",
       "    .dataframe tbody tr th {\n",
       "        vertical-align: top;\n",
       "    }\n",
       "\n",
       "    .dataframe thead th {\n",
       "        text-align: right;\n",
       "    }\n",
       "</style>\n",
       "<table border=\"1\" class=\"dataframe\">\n",
       "  <thead>\n",
       "    <tr style=\"text-align: right;\">\n",
       "      <th></th>\n",
       "      <th>x9</th>\n",
       "      <th>x10</th>\n",
       "      <th>x11</th>\n",
       "      <th>x12</th>\n",
       "      <th>x13</th>\n",
       "      <th>x14</th>\n",
       "      <th>x15</th>\n",
       "      <th>x16</th>\n",
       "      <th>x17</th>\n",
       "    </tr>\n",
       "  </thead>\n",
       "  <tbody>\n",
       "    <tr>\n",
       "      <th>count</th>\n",
       "      <td>159970.000000</td>\n",
       "      <td>159957.000000</td>\n",
       "      <td>159970.000000</td>\n",
       "      <td>159964.000000</td>\n",
       "      <td>159969.000000</td>\n",
       "      <td>159966.000000</td>\n",
       "      <td>159965.000000</td>\n",
       "      <td>159974.000000</td>\n",
       "      <td>159973.000000</td>\n",
       "    </tr>\n",
       "    <tr>\n",
       "      <th>mean</th>\n",
       "      <td>0.005462</td>\n",
       "      <td>0.002253</td>\n",
       "      <td>0.030232</td>\n",
       "      <td>-1.334402</td>\n",
       "      <td>0.007669</td>\n",
       "      <td>0.008104</td>\n",
       "      <td>0.001215</td>\n",
       "      <td>0.006223</td>\n",
       "      <td>0.012040</td>\n",
       "    </tr>\n",
       "    <tr>\n",
       "      <th>std</th>\n",
       "      <td>6.355040</td>\n",
       "      <td>7.871429</td>\n",
       "      <td>8.769633</td>\n",
       "      <td>14.750990</td>\n",
       "      <td>8.953837</td>\n",
       "      <td>6.964097</td>\n",
       "      <td>3.271779</td>\n",
       "      <td>4.984065</td>\n",
       "      <td>7.569351</td>\n",
       "    </tr>\n",
       "    <tr>\n",
       "      <th>min</th>\n",
       "      <td>-27.980659</td>\n",
       "      <td>-36.306571</td>\n",
       "      <td>-38.092869</td>\n",
       "      <td>-64.197967</td>\n",
       "      <td>-38.723514</td>\n",
       "      <td>-30.905214</td>\n",
       "      <td>-17.002359</td>\n",
       "      <td>-26.042983</td>\n",
       "      <td>-34.395898</td>\n",
       "    </tr>\n",
       "    <tr>\n",
       "      <th>25%</th>\n",
       "      <td>-4.260619</td>\n",
       "      <td>-5.288196</td>\n",
       "      <td>-5.903274</td>\n",
       "      <td>-11.379492</td>\n",
       "      <td>-6.029945</td>\n",
       "      <td>-4.696755</td>\n",
       "      <td>-2.207774</td>\n",
       "      <td>-3.344027</td>\n",
       "      <td>-5.071470</td>\n",
       "    </tr>\n",
       "    <tr>\n",
       "      <th>50%</th>\n",
       "      <td>0.006045</td>\n",
       "      <td>-0.018176</td>\n",
       "      <td>0.010941</td>\n",
       "      <td>-1.624439</td>\n",
       "      <td>-0.003473</td>\n",
       "      <td>0.002467</td>\n",
       "      <td>0.003535</td>\n",
       "      <td>0.012754</td>\n",
       "      <td>0.024541</td>\n",
       "    </tr>\n",
       "    <tr>\n",
       "      <th>75%</th>\n",
       "      <td>4.305734</td>\n",
       "      <td>5.331573</td>\n",
       "      <td>5.935032</td>\n",
       "      <td>8.374524</td>\n",
       "      <td>6.041959</td>\n",
       "      <td>4.701299</td>\n",
       "      <td>2.211660</td>\n",
       "      <td>3.366853</td>\n",
       "      <td>5.101962</td>\n",
       "    </tr>\n",
       "    <tr>\n",
       "      <th>max</th>\n",
       "      <td>27.377842</td>\n",
       "      <td>37.945583</td>\n",
       "      <td>36.360443</td>\n",
       "      <td>73.279354</td>\n",
       "      <td>42.392177</td>\n",
       "      <td>32.546340</td>\n",
       "      <td>13.782559</td>\n",
       "      <td>21.961123</td>\n",
       "      <td>37.057048</td>\n",
       "    </tr>\n",
       "  </tbody>\n",
       "</table>\n",
       "</div>"
      ],
      "text/plain": [
       "                  x9            x10            x11            x12  \\\n",
       "count  159970.000000  159957.000000  159970.000000  159964.000000   \n",
       "mean        0.005462       0.002253       0.030232      -1.334402   \n",
       "std         6.355040       7.871429       8.769633      14.750990   \n",
       "min       -27.980659     -36.306571     -38.092869     -64.197967   \n",
       "25%        -4.260619      -5.288196      -5.903274     -11.379492   \n",
       "50%         0.006045      -0.018176       0.010941      -1.624439   \n",
       "75%         4.305734       5.331573       5.935032       8.374524   \n",
       "max        27.377842      37.945583      36.360443      73.279354   \n",
       "\n",
       "                 x13            x14            x15            x16  \\\n",
       "count  159969.000000  159966.000000  159965.000000  159974.000000   \n",
       "mean        0.007669       0.008104       0.001215       0.006223   \n",
       "std         8.953837       6.964097       3.271779       4.984065   \n",
       "min       -38.723514     -30.905214     -17.002359     -26.042983   \n",
       "25%        -6.029945      -4.696755      -2.207774      -3.344027   \n",
       "50%        -0.003473       0.002467       0.003535       0.012754   \n",
       "75%         6.041959       4.701299       2.211660       3.366853   \n",
       "max        42.392177      32.546340      13.782559      21.961123   \n",
       "\n",
       "                 x17  \n",
       "count  159973.000000  \n",
       "mean        0.012040  \n",
       "std         7.569351  \n",
       "min       -34.395898  \n",
       "25%        -5.071470  \n",
       "50%         0.024541  \n",
       "75%         5.101962  \n",
       "max        37.057048  "
      ]
     },
     "execution_count": 7,
     "metadata": {},
     "output_type": "execute_result"
    }
   ],
   "source": [
    "data_df[['x9','x10','x11','x12','x13','x14','x15','x16','x17']].describe(include='all',)\n"
   ]
  },
  {
   "cell_type": "code",
   "execution_count": 8,
   "metadata": {},
   "outputs": [
    {
     "data": {
      "text/html": [
       "<div>\n",
       "<style scoped>\n",
       "    .dataframe tbody tr th:only-of-type {\n",
       "        vertical-align: middle;\n",
       "    }\n",
       "\n",
       "    .dataframe tbody tr th {\n",
       "        vertical-align: top;\n",
       "    }\n",
       "\n",
       "    .dataframe thead th {\n",
       "        text-align: right;\n",
       "    }\n",
       "</style>\n",
       "<table border=\"1\" class=\"dataframe\">\n",
       "  <thead>\n",
       "    <tr style=\"text-align: right;\">\n",
       "      <th></th>\n",
       "      <th>x18</th>\n",
       "      <th>x19</th>\n",
       "      <th>x20</th>\n",
       "      <th>x21</th>\n",
       "      <th>x22</th>\n",
       "      <th>x23</th>\n",
       "      <th>x24</th>\n",
       "      <th>x25</th>\n",
       "      <th>x26</th>\n",
       "      <th>x27</th>\n",
       "    </tr>\n",
       "  </thead>\n",
       "  <tbody>\n",
       "    <tr>\n",
       "      <th>count</th>\n",
       "      <td>159960.000000</td>\n",
       "      <td>159965.000000</td>\n",
       "      <td>159962.000000</td>\n",
       "      <td>159971.000000</td>\n",
       "      <td>159973.000000</td>\n",
       "      <td>159953.000000</td>\n",
       "      <td>159972</td>\n",
       "      <td>159978.000000</td>\n",
       "      <td>159964.000000</td>\n",
       "      <td>159970.000000</td>\n",
       "    </tr>\n",
       "    <tr>\n",
       "      <th>unique</th>\n",
       "      <td>NaN</td>\n",
       "      <td>NaN</td>\n",
       "      <td>NaN</td>\n",
       "      <td>NaN</td>\n",
       "      <td>NaN</td>\n",
       "      <td>NaN</td>\n",
       "      <td>3</td>\n",
       "      <td>NaN</td>\n",
       "      <td>NaN</td>\n",
       "      <td>NaN</td>\n",
       "    </tr>\n",
       "    <tr>\n",
       "      <th>top</th>\n",
       "      <td>NaN</td>\n",
       "      <td>NaN</td>\n",
       "      <td>NaN</td>\n",
       "      <td>NaN</td>\n",
       "      <td>NaN</td>\n",
       "      <td>NaN</td>\n",
       "      <td>asia</td>\n",
       "      <td>NaN</td>\n",
       "      <td>NaN</td>\n",
       "      <td>NaN</td>\n",
       "    </tr>\n",
       "    <tr>\n",
       "      <th>freq</th>\n",
       "      <td>NaN</td>\n",
       "      <td>NaN</td>\n",
       "      <td>NaN</td>\n",
       "      <td>NaN</td>\n",
       "      <td>NaN</td>\n",
       "      <td>NaN</td>\n",
       "      <td>138965</td>\n",
       "      <td>NaN</td>\n",
       "      <td>NaN</td>\n",
       "      <td>NaN</td>\n",
       "    </tr>\n",
       "    <tr>\n",
       "      <th>mean</th>\n",
       "      <td>0.012694</td>\n",
       "      <td>0.024555</td>\n",
       "      <td>0.299074</td>\n",
       "      <td>-0.029137</td>\n",
       "      <td>0.008400</td>\n",
       "      <td>0.722028</td>\n",
       "      <td>NaN</td>\n",
       "      <td>-0.000806</td>\n",
       "      <td>-0.001066</td>\n",
       "      <td>-0.004159</td>\n",
       "    </tr>\n",
       "    <tr>\n",
       "      <th>std</th>\n",
       "      <td>4.540714</td>\n",
       "      <td>7.595316</td>\n",
       "      <td>5.806203</td>\n",
       "      <td>9.409635</td>\n",
       "      <td>5.412010</td>\n",
       "      <td>14.909127</td>\n",
       "      <td>NaN</td>\n",
       "      <td>1.263656</td>\n",
       "      <td>0.843258</td>\n",
       "      <td>6.774047</td>\n",
       "    </tr>\n",
       "    <tr>\n",
       "      <th>min</th>\n",
       "      <td>-20.198686</td>\n",
       "      <td>-35.633396</td>\n",
       "      <td>-26.677396</td>\n",
       "      <td>-43.501854</td>\n",
       "      <td>-23.644193</td>\n",
       "      <td>-66.640341</td>\n",
       "      <td>NaN</td>\n",
       "      <td>-6.364653</td>\n",
       "      <td>-3.857484</td>\n",
       "      <td>-32.003555</td>\n",
       "    </tr>\n",
       "    <tr>\n",
       "      <th>25%</th>\n",
       "      <td>-3.056131</td>\n",
       "      <td>-5.101553</td>\n",
       "      <td>-3.607789</td>\n",
       "      <td>-6.361115</td>\n",
       "      <td>-3.649766</td>\n",
       "      <td>-9.268532</td>\n",
       "      <td>NaN</td>\n",
       "      <td>-0.852784</td>\n",
       "      <td>-0.567293</td>\n",
       "      <td>-4.597919</td>\n",
       "    </tr>\n",
       "    <tr>\n",
       "      <th>50%</th>\n",
       "      <td>0.015904</td>\n",
       "      <td>0.044703</td>\n",
       "      <td>0.433055</td>\n",
       "      <td>-0.026385</td>\n",
       "      <td>0.011144</td>\n",
       "      <td>1.029609</td>\n",
       "      <td>NaN</td>\n",
       "      <td>-0.003723</td>\n",
       "      <td>-0.001501</td>\n",
       "      <td>0.037138</td>\n",
       "    </tr>\n",
       "    <tr>\n",
       "      <th>75%</th>\n",
       "      <td>3.073002</td>\n",
       "      <td>5.164732</td>\n",
       "      <td>4.306566</td>\n",
       "      <td>6.316457</td>\n",
       "      <td>3.672678</td>\n",
       "      <td>11.028035</td>\n",
       "      <td>NaN</td>\n",
       "      <td>0.851765</td>\n",
       "      <td>0.567406</td>\n",
       "      <td>4.649773</td>\n",
       "    </tr>\n",
       "    <tr>\n",
       "      <th>max</th>\n",
       "      <td>19.652986</td>\n",
       "      <td>33.515550</td>\n",
       "      <td>27.814560</td>\n",
       "      <td>46.237503</td>\n",
       "      <td>24.863012</td>\n",
       "      <td>58.490500</td>\n",
       "      <td>NaN</td>\n",
       "      <td>5.314169</td>\n",
       "      <td>3.951652</td>\n",
       "      <td>28.645074</td>\n",
       "    </tr>\n",
       "  </tbody>\n",
       "</table>\n",
       "</div>"
      ],
      "text/plain": [
       "                  x18            x19            x20            x21  \\\n",
       "count   159960.000000  159965.000000  159962.000000  159971.000000   \n",
       "unique            NaN            NaN            NaN            NaN   \n",
       "top               NaN            NaN            NaN            NaN   \n",
       "freq              NaN            NaN            NaN            NaN   \n",
       "mean         0.012694       0.024555       0.299074      -0.029137   \n",
       "std          4.540714       7.595316       5.806203       9.409635   \n",
       "min        -20.198686     -35.633396     -26.677396     -43.501854   \n",
       "25%         -3.056131      -5.101553      -3.607789      -6.361115   \n",
       "50%          0.015904       0.044703       0.433055      -0.026385   \n",
       "75%          3.073002       5.164732       4.306566       6.316457   \n",
       "max         19.652986      33.515550      27.814560      46.237503   \n",
       "\n",
       "                  x22            x23     x24            x25            x26  \\\n",
       "count   159973.000000  159953.000000  159972  159978.000000  159964.000000   \n",
       "unique            NaN            NaN       3            NaN            NaN   \n",
       "top               NaN            NaN    asia            NaN            NaN   \n",
       "freq              NaN            NaN  138965            NaN            NaN   \n",
       "mean         0.008400       0.722028     NaN      -0.000806      -0.001066   \n",
       "std          5.412010      14.909127     NaN       1.263656       0.843258   \n",
       "min        -23.644193     -66.640341     NaN      -6.364653      -3.857484   \n",
       "25%         -3.649766      -9.268532     NaN      -0.852784      -0.567293   \n",
       "50%          0.011144       1.029609     NaN      -0.003723      -0.001501   \n",
       "75%          3.672678      11.028035     NaN       0.851765       0.567406   \n",
       "max         24.863012      58.490500     NaN       5.314169       3.951652   \n",
       "\n",
       "                  x27  \n",
       "count   159970.000000  \n",
       "unique            NaN  \n",
       "top               NaN  \n",
       "freq              NaN  \n",
       "mean        -0.004159  \n",
       "std          6.774047  \n",
       "min        -32.003555  \n",
       "25%         -4.597919  \n",
       "50%          0.037138  \n",
       "75%          4.649773  \n",
       "max         28.645074  "
      ]
     },
     "execution_count": 8,
     "metadata": {},
     "output_type": "execute_result"
    }
   ],
   "source": [
    "data_df[['x18','x19','x20','x21','x22','x23','x24','x25','x26','x27']].describe(include='all',)\n"
   ]
  },
  {
   "cell_type": "code",
   "execution_count": 9,
   "metadata": {},
   "outputs": [
    {
     "data": {
      "text/html": [
       "<div>\n",
       "<style scoped>\n",
       "    .dataframe tbody tr th:only-of-type {\n",
       "        vertical-align: middle;\n",
       "    }\n",
       "\n",
       "    .dataframe tbody tr th {\n",
       "        vertical-align: top;\n",
       "    }\n",
       "\n",
       "    .dataframe thead th {\n",
       "        text-align: right;\n",
       "    }\n",
       "</style>\n",
       "<table border=\"1\" class=\"dataframe\">\n",
       "  <thead>\n",
       "    <tr style=\"text-align: right;\">\n",
       "      <th></th>\n",
       "      <th>x18</th>\n",
       "      <th>x19</th>\n",
       "      <th>x20</th>\n",
       "      <th>x21</th>\n",
       "      <th>x22</th>\n",
       "      <th>x23</th>\n",
       "      <th>x24</th>\n",
       "      <th>x25</th>\n",
       "      <th>x26</th>\n",
       "      <th>x27</th>\n",
       "    </tr>\n",
       "  </thead>\n",
       "  <tbody>\n",
       "    <tr>\n",
       "      <th>count</th>\n",
       "      <td>159960.000000</td>\n",
       "      <td>159965.000000</td>\n",
       "      <td>159962.000000</td>\n",
       "      <td>159971.000000</td>\n",
       "      <td>159973.000000</td>\n",
       "      <td>159953.000000</td>\n",
       "      <td>159972</td>\n",
       "      <td>159978.000000</td>\n",
       "      <td>159964.000000</td>\n",
       "      <td>159970.000000</td>\n",
       "    </tr>\n",
       "    <tr>\n",
       "      <th>unique</th>\n",
       "      <td>NaN</td>\n",
       "      <td>NaN</td>\n",
       "      <td>NaN</td>\n",
       "      <td>NaN</td>\n",
       "      <td>NaN</td>\n",
       "      <td>NaN</td>\n",
       "      <td>3</td>\n",
       "      <td>NaN</td>\n",
       "      <td>NaN</td>\n",
       "      <td>NaN</td>\n",
       "    </tr>\n",
       "    <tr>\n",
       "      <th>top</th>\n",
       "      <td>NaN</td>\n",
       "      <td>NaN</td>\n",
       "      <td>NaN</td>\n",
       "      <td>NaN</td>\n",
       "      <td>NaN</td>\n",
       "      <td>NaN</td>\n",
       "      <td>asia</td>\n",
       "      <td>NaN</td>\n",
       "      <td>NaN</td>\n",
       "      <td>NaN</td>\n",
       "    </tr>\n",
       "    <tr>\n",
       "      <th>freq</th>\n",
       "      <td>NaN</td>\n",
       "      <td>NaN</td>\n",
       "      <td>NaN</td>\n",
       "      <td>NaN</td>\n",
       "      <td>NaN</td>\n",
       "      <td>NaN</td>\n",
       "      <td>138965</td>\n",
       "      <td>NaN</td>\n",
       "      <td>NaN</td>\n",
       "      <td>NaN</td>\n",
       "    </tr>\n",
       "    <tr>\n",
       "      <th>mean</th>\n",
       "      <td>0.012694</td>\n",
       "      <td>0.024555</td>\n",
       "      <td>0.299074</td>\n",
       "      <td>-0.029137</td>\n",
       "      <td>0.008400</td>\n",
       "      <td>0.722028</td>\n",
       "      <td>NaN</td>\n",
       "      <td>-0.000806</td>\n",
       "      <td>-0.001066</td>\n",
       "      <td>-0.004159</td>\n",
       "    </tr>\n",
       "    <tr>\n",
       "      <th>std</th>\n",
       "      <td>4.540714</td>\n",
       "      <td>7.595316</td>\n",
       "      <td>5.806203</td>\n",
       "      <td>9.409635</td>\n",
       "      <td>5.412010</td>\n",
       "      <td>14.909127</td>\n",
       "      <td>NaN</td>\n",
       "      <td>1.263656</td>\n",
       "      <td>0.843258</td>\n",
       "      <td>6.774047</td>\n",
       "    </tr>\n",
       "    <tr>\n",
       "      <th>min</th>\n",
       "      <td>-20.198686</td>\n",
       "      <td>-35.633396</td>\n",
       "      <td>-26.677396</td>\n",
       "      <td>-43.501854</td>\n",
       "      <td>-23.644193</td>\n",
       "      <td>-66.640341</td>\n",
       "      <td>NaN</td>\n",
       "      <td>-6.364653</td>\n",
       "      <td>-3.857484</td>\n",
       "      <td>-32.003555</td>\n",
       "    </tr>\n",
       "    <tr>\n",
       "      <th>25%</th>\n",
       "      <td>-3.056131</td>\n",
       "      <td>-5.101553</td>\n",
       "      <td>-3.607789</td>\n",
       "      <td>-6.361115</td>\n",
       "      <td>-3.649766</td>\n",
       "      <td>-9.268532</td>\n",
       "      <td>NaN</td>\n",
       "      <td>-0.852784</td>\n",
       "      <td>-0.567293</td>\n",
       "      <td>-4.597919</td>\n",
       "    </tr>\n",
       "    <tr>\n",
       "      <th>50%</th>\n",
       "      <td>0.015904</td>\n",
       "      <td>0.044703</td>\n",
       "      <td>0.433055</td>\n",
       "      <td>-0.026385</td>\n",
       "      <td>0.011144</td>\n",
       "      <td>1.029609</td>\n",
       "      <td>NaN</td>\n",
       "      <td>-0.003723</td>\n",
       "      <td>-0.001501</td>\n",
       "      <td>0.037138</td>\n",
       "    </tr>\n",
       "    <tr>\n",
       "      <th>75%</th>\n",
       "      <td>3.073002</td>\n",
       "      <td>5.164732</td>\n",
       "      <td>4.306566</td>\n",
       "      <td>6.316457</td>\n",
       "      <td>3.672678</td>\n",
       "      <td>11.028035</td>\n",
       "      <td>NaN</td>\n",
       "      <td>0.851765</td>\n",
       "      <td>0.567406</td>\n",
       "      <td>4.649773</td>\n",
       "    </tr>\n",
       "    <tr>\n",
       "      <th>max</th>\n",
       "      <td>19.652986</td>\n",
       "      <td>33.515550</td>\n",
       "      <td>27.814560</td>\n",
       "      <td>46.237503</td>\n",
       "      <td>24.863012</td>\n",
       "      <td>58.490500</td>\n",
       "      <td>NaN</td>\n",
       "      <td>5.314169</td>\n",
       "      <td>3.951652</td>\n",
       "      <td>28.645074</td>\n",
       "    </tr>\n",
       "  </tbody>\n",
       "</table>\n",
       "</div>"
      ],
      "text/plain": [
       "                  x18            x19            x20            x21  \\\n",
       "count   159960.000000  159965.000000  159962.000000  159971.000000   \n",
       "unique            NaN            NaN            NaN            NaN   \n",
       "top               NaN            NaN            NaN            NaN   \n",
       "freq              NaN            NaN            NaN            NaN   \n",
       "mean         0.012694       0.024555       0.299074      -0.029137   \n",
       "std          4.540714       7.595316       5.806203       9.409635   \n",
       "min        -20.198686     -35.633396     -26.677396     -43.501854   \n",
       "25%         -3.056131      -5.101553      -3.607789      -6.361115   \n",
       "50%          0.015904       0.044703       0.433055      -0.026385   \n",
       "75%          3.073002       5.164732       4.306566       6.316457   \n",
       "max         19.652986      33.515550      27.814560      46.237503   \n",
       "\n",
       "                  x22            x23     x24            x25            x26  \\\n",
       "count   159973.000000  159953.000000  159972  159978.000000  159964.000000   \n",
       "unique            NaN            NaN       3            NaN            NaN   \n",
       "top               NaN            NaN    asia            NaN            NaN   \n",
       "freq              NaN            NaN  138965            NaN            NaN   \n",
       "mean         0.008400       0.722028     NaN      -0.000806      -0.001066   \n",
       "std          5.412010      14.909127     NaN       1.263656       0.843258   \n",
       "min        -23.644193     -66.640341     NaN      -6.364653      -3.857484   \n",
       "25%         -3.649766      -9.268532     NaN      -0.852784      -0.567293   \n",
       "50%          0.011144       1.029609     NaN      -0.003723      -0.001501   \n",
       "75%          3.672678      11.028035     NaN       0.851765       0.567406   \n",
       "max         24.863012      58.490500     NaN       5.314169       3.951652   \n",
       "\n",
       "                  x27  \n",
       "count   159970.000000  \n",
       "unique            NaN  \n",
       "top               NaN  \n",
       "freq              NaN  \n",
       "mean        -0.004159  \n",
       "std          6.774047  \n",
       "min        -32.003555  \n",
       "25%         -4.597919  \n",
       "50%          0.037138  \n",
       "75%          4.649773  \n",
       "max         28.645074  "
      ]
     },
     "execution_count": 9,
     "metadata": {},
     "output_type": "execute_result"
    }
   ],
   "source": [
    "data_df[['x18','x19','x20','x21','x22','x23','x24','x25','x26','x27']].describe(include='all',)\n"
   ]
  },
  {
   "cell_type": "code",
   "execution_count": 10,
   "metadata": {},
   "outputs": [
    {
     "data": {
      "text/html": [
       "<div>\n",
       "<style scoped>\n",
       "    .dataframe tbody tr th:only-of-type {\n",
       "        vertical-align: middle;\n",
       "    }\n",
       "\n",
       "    .dataframe tbody tr th {\n",
       "        vertical-align: top;\n",
       "    }\n",
       "\n",
       "    .dataframe thead th {\n",
       "        text-align: right;\n",
       "    }\n",
       "</style>\n",
       "<table border=\"1\" class=\"dataframe\">\n",
       "  <thead>\n",
       "    <tr style=\"text-align: right;\">\n",
       "      <th></th>\n",
       "      <th>x28</th>\n",
       "      <th>x29</th>\n",
       "      <th>x30</th>\n",
       "      <th>x31</th>\n",
       "      <th>x32</th>\n",
       "      <th>x33</th>\n",
       "      <th>x34</th>\n",
       "      <th>x35</th>\n",
       "      <th>x36</th>\n",
       "      <th>x37</th>\n",
       "    </tr>\n",
       "  </thead>\n",
       "  <tbody>\n",
       "    <tr>\n",
       "      <th>count</th>\n",
       "      <td>159965.000000</td>\n",
       "      <td>159970</td>\n",
       "      <td>159970</td>\n",
       "      <td>159961.000000</td>\n",
       "      <td>159969</td>\n",
       "      <td>159959.000000</td>\n",
       "      <td>159959.000000</td>\n",
       "      <td>159970.000000</td>\n",
       "      <td>159973.000000</td>\n",
       "      <td>159977</td>\n",
       "    </tr>\n",
       "    <tr>\n",
       "      <th>unique</th>\n",
       "      <td>NaN</td>\n",
       "      <td>12</td>\n",
       "      <td>5</td>\n",
       "      <td>NaN</td>\n",
       "      <td>12</td>\n",
       "      <td>NaN</td>\n",
       "      <td>NaN</td>\n",
       "      <td>NaN</td>\n",
       "      <td>NaN</td>\n",
       "      <td>129198</td>\n",
       "    </tr>\n",
       "    <tr>\n",
       "      <th>top</th>\n",
       "      <td>NaN</td>\n",
       "      <td>July</td>\n",
       "      <td>wednesday</td>\n",
       "      <td>NaN</td>\n",
       "      <td>0.01%</td>\n",
       "      <td>NaN</td>\n",
       "      <td>NaN</td>\n",
       "      <td>NaN</td>\n",
       "      <td>NaN</td>\n",
       "      <td>$-336.77</td>\n",
       "    </tr>\n",
       "    <tr>\n",
       "      <th>freq</th>\n",
       "      <td>NaN</td>\n",
       "      <td>45569</td>\n",
       "      <td>101535</td>\n",
       "      <td>NaN</td>\n",
       "      <td>40767</td>\n",
       "      <td>NaN</td>\n",
       "      <td>NaN</td>\n",
       "      <td>NaN</td>\n",
       "      <td>NaN</td>\n",
       "      <td>6</td>\n",
       "    </tr>\n",
       "    <tr>\n",
       "      <th>mean</th>\n",
       "      <td>0.031543</td>\n",
       "      <td>NaN</td>\n",
       "      <td>NaN</td>\n",
       "      <td>-0.005945</td>\n",
       "      <td>NaN</td>\n",
       "      <td>-0.006567</td>\n",
       "      <td>-0.000426</td>\n",
       "      <td>0.000936</td>\n",
       "      <td>0.006453</td>\n",
       "      <td>NaN</td>\n",
       "    </tr>\n",
       "    <tr>\n",
       "      <th>std</th>\n",
       "      <td>14.439534</td>\n",
       "      <td>NaN</td>\n",
       "      <td>NaN</td>\n",
       "      <td>2.767508</td>\n",
       "      <td>NaN</td>\n",
       "      <td>1.747762</td>\n",
       "      <td>8.014180</td>\n",
       "      <td>2.379558</td>\n",
       "      <td>1.593183</td>\n",
       "      <td>NaN</td>\n",
       "    </tr>\n",
       "    <tr>\n",
       "      <th>min</th>\n",
       "      <td>-72.896705</td>\n",
       "      <td>NaN</td>\n",
       "      <td>NaN</td>\n",
       "      <td>-12.289364</td>\n",
       "      <td>NaN</td>\n",
       "      <td>-7.451454</td>\n",
       "      <td>-36.116606</td>\n",
       "      <td>-10.008149</td>\n",
       "      <td>-6.866024</td>\n",
       "      <td>NaN</td>\n",
       "    </tr>\n",
       "    <tr>\n",
       "      <th>25%</th>\n",
       "      <td>-9.702464</td>\n",
       "      <td>NaN</td>\n",
       "      <td>NaN</td>\n",
       "      <td>-1.874206</td>\n",
       "      <td>NaN</td>\n",
       "      <td>-1.183681</td>\n",
       "      <td>-5.401084</td>\n",
       "      <td>-1.610337</td>\n",
       "      <td>-1.068337</td>\n",
       "      <td>NaN</td>\n",
       "    </tr>\n",
       "    <tr>\n",
       "      <th>50%</th>\n",
       "      <td>0.244210</td>\n",
       "      <td>NaN</td>\n",
       "      <td>NaN</td>\n",
       "      <td>0.002013</td>\n",
       "      <td>NaN</td>\n",
       "      <td>-0.006079</td>\n",
       "      <td>-0.013089</td>\n",
       "      <td>-0.002399</td>\n",
       "      <td>0.003645</td>\n",
       "      <td>NaN</td>\n",
       "    </tr>\n",
       "    <tr>\n",
       "      <th>75%</th>\n",
       "      <td>9.936995</td>\n",
       "      <td>NaN</td>\n",
       "      <td>NaN</td>\n",
       "      <td>1.856369</td>\n",
       "      <td>NaN</td>\n",
       "      <td>1.179460</td>\n",
       "      <td>5.411667</td>\n",
       "      <td>1.603089</td>\n",
       "      <td>1.079895</td>\n",
       "      <td>NaN</td>\n",
       "    </tr>\n",
       "    <tr>\n",
       "      <th>max</th>\n",
       "      <td>67.753845</td>\n",
       "      <td>NaN</td>\n",
       "      <td>NaN</td>\n",
       "      <td>12.279356</td>\n",
       "      <td>NaN</td>\n",
       "      <td>7.787120</td>\n",
       "      <td>34.841428</td>\n",
       "      <td>9.892426</td>\n",
       "      <td>6.999544</td>\n",
       "      <td>NaN</td>\n",
       "    </tr>\n",
       "  </tbody>\n",
       "</table>\n",
       "</div>"
      ],
      "text/plain": [
       "                  x28     x29        x30            x31     x32  \\\n",
       "count   159965.000000  159970     159970  159961.000000  159969   \n",
       "unique            NaN      12          5            NaN      12   \n",
       "top               NaN    July  wednesday            NaN   0.01%   \n",
       "freq              NaN   45569     101535            NaN   40767   \n",
       "mean         0.031543     NaN        NaN      -0.005945     NaN   \n",
       "std         14.439534     NaN        NaN       2.767508     NaN   \n",
       "min        -72.896705     NaN        NaN     -12.289364     NaN   \n",
       "25%         -9.702464     NaN        NaN      -1.874206     NaN   \n",
       "50%          0.244210     NaN        NaN       0.002013     NaN   \n",
       "75%          9.936995     NaN        NaN       1.856369     NaN   \n",
       "max         67.753845     NaN        NaN      12.279356     NaN   \n",
       "\n",
       "                  x33            x34            x35            x36       x37  \n",
       "count   159959.000000  159959.000000  159970.000000  159973.000000    159977  \n",
       "unique            NaN            NaN            NaN            NaN    129198  \n",
       "top               NaN            NaN            NaN            NaN  $-336.77  \n",
       "freq              NaN            NaN            NaN            NaN         6  \n",
       "mean        -0.006567      -0.000426       0.000936       0.006453       NaN  \n",
       "std          1.747762       8.014180       2.379558       1.593183       NaN  \n",
       "min         -7.451454     -36.116606     -10.008149      -6.866024       NaN  \n",
       "25%         -1.183681      -5.401084      -1.610337      -1.068337       NaN  \n",
       "50%         -0.006079      -0.013089      -0.002399       0.003645       NaN  \n",
       "75%          1.179460       5.411667       1.603089       1.079895       NaN  \n",
       "max          7.787120      34.841428       9.892426       6.999544       NaN  "
      ]
     },
     "execution_count": 10,
     "metadata": {},
     "output_type": "execute_result"
    }
   ],
   "source": [
    "data_df[['x28','x29','x30','x31','x32','x33','x34','x35','x36','x37']].describe(include='all',)\n"
   ]
  },
  {
   "cell_type": "code",
   "execution_count": 11,
   "metadata": {},
   "outputs": [
    {
     "data": {
      "text/html": [
       "<div>\n",
       "<style scoped>\n",
       "    .dataframe tbody tr th:only-of-type {\n",
       "        vertical-align: middle;\n",
       "    }\n",
       "\n",
       "    .dataframe tbody tr th {\n",
       "        vertical-align: top;\n",
       "    }\n",
       "\n",
       "    .dataframe thead th {\n",
       "        text-align: right;\n",
       "    }\n",
       "</style>\n",
       "<table border=\"1\" class=\"dataframe\">\n",
       "  <thead>\n",
       "    <tr style=\"text-align: right;\">\n",
       "      <th></th>\n",
       "      <th>x38</th>\n",
       "      <th>x39</th>\n",
       "      <th>x40</th>\n",
       "      <th>x41</th>\n",
       "      <th>x42</th>\n",
       "      <th>x43</th>\n",
       "      <th>x44</th>\n",
       "      <th>x45</th>\n",
       "      <th>x46</th>\n",
       "      <th>x47</th>\n",
       "    </tr>\n",
       "  </thead>\n",
       "  <tbody>\n",
       "    <tr>\n",
       "      <th>count</th>\n",
       "      <td>159969.000000</td>\n",
       "      <td>159977.000000</td>\n",
       "      <td>159964.000000</td>\n",
       "      <td>159960.000000</td>\n",
       "      <td>159974.000000</td>\n",
       "      <td>159963.000000</td>\n",
       "      <td>159960.000000</td>\n",
       "      <td>159971.000000</td>\n",
       "      <td>159969.000000</td>\n",
       "      <td>159963.000000</td>\n",
       "    </tr>\n",
       "    <tr>\n",
       "      <th>mean</th>\n",
       "      <td>6.059130</td>\n",
       "      <td>0.004253</td>\n",
       "      <td>-2.316526</td>\n",
       "      <td>6.701076</td>\n",
       "      <td>-1.833820</td>\n",
       "      <td>-0.002091</td>\n",
       "      <td>-0.006250</td>\n",
       "      <td>0.000885</td>\n",
       "      <td>-12.755395</td>\n",
       "      <td>0.028622</td>\n",
       "    </tr>\n",
       "    <tr>\n",
       "      <th>std</th>\n",
       "      <td>16.891603</td>\n",
       "      <td>5.134322</td>\n",
       "      <td>17.043549</td>\n",
       "      <td>18.680196</td>\n",
       "      <td>5.110705</td>\n",
       "      <td>1.534952</td>\n",
       "      <td>4.164595</td>\n",
       "      <td>0.396621</td>\n",
       "      <td>36.608641</td>\n",
       "      <td>4.788157</td>\n",
       "    </tr>\n",
       "    <tr>\n",
       "      <th>min</th>\n",
       "      <td>-74.297559</td>\n",
       "      <td>-22.101647</td>\n",
       "      <td>-74.059196</td>\n",
       "      <td>-82.167224</td>\n",
       "      <td>-27.933750</td>\n",
       "      <td>-6.876234</td>\n",
       "      <td>-17.983487</td>\n",
       "      <td>-1.753221</td>\n",
       "      <td>-201.826828</td>\n",
       "      <td>-21.086333</td>\n",
       "    </tr>\n",
       "    <tr>\n",
       "      <th>25%</th>\n",
       "      <td>-5.249882</td>\n",
       "      <td>-3.458716</td>\n",
       "      <td>-13.953629</td>\n",
       "      <td>-5.804080</td>\n",
       "      <td>-5.162869</td>\n",
       "      <td>-1.039677</td>\n",
       "      <td>-2.812055</td>\n",
       "      <td>-0.266518</td>\n",
       "      <td>-36.428329</td>\n",
       "      <td>-3.216016</td>\n",
       "    </tr>\n",
       "    <tr>\n",
       "      <th>50%</th>\n",
       "      <td>6.184410</td>\n",
       "      <td>0.019068</td>\n",
       "      <td>-2.701867</td>\n",
       "      <td>6.840110</td>\n",
       "      <td>-1.923754</td>\n",
       "      <td>-0.004385</td>\n",
       "      <td>-0.010484</td>\n",
       "      <td>0.001645</td>\n",
       "      <td>-12.982497</td>\n",
       "      <td>0.035865</td>\n",
       "    </tr>\n",
       "    <tr>\n",
       "      <th>75%</th>\n",
       "      <td>17.420148</td>\n",
       "      <td>3.463308</td>\n",
       "      <td>8.981616</td>\n",
       "      <td>19.266367</td>\n",
       "      <td>1.453507</td>\n",
       "      <td>1.033275</td>\n",
       "      <td>2.783274</td>\n",
       "      <td>0.269049</td>\n",
       "      <td>11.445443</td>\n",
       "      <td>3.268028</td>\n",
       "    </tr>\n",
       "    <tr>\n",
       "      <th>max</th>\n",
       "      <td>90.467981</td>\n",
       "      <td>21.545591</td>\n",
       "      <td>88.824477</td>\n",
       "      <td>100.050432</td>\n",
       "      <td>22.668041</td>\n",
       "      <td>6.680922</td>\n",
       "      <td>19.069759</td>\n",
       "      <td>1.669205</td>\n",
       "      <td>150.859415</td>\n",
       "      <td>20.836854</td>\n",
       "    </tr>\n",
       "  </tbody>\n",
       "</table>\n",
       "</div>"
      ],
      "text/plain": [
       "                 x38            x39            x40            x41  \\\n",
       "count  159969.000000  159977.000000  159964.000000  159960.000000   \n",
       "mean        6.059130       0.004253      -2.316526       6.701076   \n",
       "std        16.891603       5.134322      17.043549      18.680196   \n",
       "min       -74.297559     -22.101647     -74.059196     -82.167224   \n",
       "25%        -5.249882      -3.458716     -13.953629      -5.804080   \n",
       "50%         6.184410       0.019068      -2.701867       6.840110   \n",
       "75%        17.420148       3.463308       8.981616      19.266367   \n",
       "max        90.467981      21.545591      88.824477     100.050432   \n",
       "\n",
       "                 x42            x43            x44            x45  \\\n",
       "count  159974.000000  159963.000000  159960.000000  159971.000000   \n",
       "mean       -1.833820      -0.002091      -0.006250       0.000885   \n",
       "std         5.110705       1.534952       4.164595       0.396621   \n",
       "min       -27.933750      -6.876234     -17.983487      -1.753221   \n",
       "25%        -5.162869      -1.039677      -2.812055      -0.266518   \n",
       "50%        -1.923754      -0.004385      -0.010484       0.001645   \n",
       "75%         1.453507       1.033275       2.783274       0.269049   \n",
       "max        22.668041       6.680922      19.069759       1.669205   \n",
       "\n",
       "                 x46            x47  \n",
       "count  159969.000000  159963.000000  \n",
       "mean      -12.755395       0.028622  \n",
       "std        36.608641       4.788157  \n",
       "min      -201.826828     -21.086333  \n",
       "25%       -36.428329      -3.216016  \n",
       "50%       -12.982497       0.035865  \n",
       "75%        11.445443       3.268028  \n",
       "max       150.859415      20.836854  "
      ]
     },
     "execution_count": 11,
     "metadata": {},
     "output_type": "execute_result"
    }
   ],
   "source": [
    "data_df[['x38','x39','x40','x41','x42','x43','x44','x45','x46','x47']].describe(include='all',)\n"
   ]
  },
  {
   "cell_type": "code",
   "execution_count": 12,
   "metadata": {},
   "outputs": [
    {
     "data": {
      "text/html": [
       "<div>\n",
       "<style scoped>\n",
       "    .dataframe tbody tr th:only-of-type {\n",
       "        vertical-align: middle;\n",
       "    }\n",
       "\n",
       "    .dataframe tbody tr th {\n",
       "        vertical-align: top;\n",
       "    }\n",
       "\n",
       "    .dataframe thead th {\n",
       "        text-align: right;\n",
       "    }\n",
       "</style>\n",
       "<table border=\"1\" class=\"dataframe\">\n",
       "  <thead>\n",
       "    <tr style=\"text-align: right;\">\n",
       "      <th></th>\n",
       "      <th>x48</th>\n",
       "      <th>x49</th>\n",
       "      <th>y</th>\n",
       "    </tr>\n",
       "  </thead>\n",
       "  <tbody>\n",
       "    <tr>\n",
       "      <th>count</th>\n",
       "      <td>159968.000000</td>\n",
       "      <td>159968.000000</td>\n",
       "      <td>160000.000000</td>\n",
       "    </tr>\n",
       "    <tr>\n",
       "      <th>mean</th>\n",
       "      <td>-0.000224</td>\n",
       "      <td>-0.674224</td>\n",
       "      <td>0.401231</td>\n",
       "    </tr>\n",
       "    <tr>\n",
       "      <th>std</th>\n",
       "      <td>1.935501</td>\n",
       "      <td>15.036738</td>\n",
       "      <td>0.490149</td>\n",
       "    </tr>\n",
       "    <tr>\n",
       "      <th>min</th>\n",
       "      <td>-8.490155</td>\n",
       "      <td>-65.791191</td>\n",
       "      <td>0.000000</td>\n",
       "    </tr>\n",
       "    <tr>\n",
       "      <th>25%</th>\n",
       "      <td>-1.320800</td>\n",
       "      <td>-10.931753</td>\n",
       "      <td>0.000000</td>\n",
       "    </tr>\n",
       "    <tr>\n",
       "      <th>50%</th>\n",
       "      <td>-0.011993</td>\n",
       "      <td>-0.574410</td>\n",
       "      <td>0.000000</td>\n",
       "    </tr>\n",
       "    <tr>\n",
       "      <th>75%</th>\n",
       "      <td>1.317703</td>\n",
       "      <td>9.651072</td>\n",
       "      <td>1.000000</td>\n",
       "    </tr>\n",
       "    <tr>\n",
       "      <th>max</th>\n",
       "      <td>8.226552</td>\n",
       "      <td>66.877604</td>\n",
       "      <td>1.000000</td>\n",
       "    </tr>\n",
       "  </tbody>\n",
       "</table>\n",
       "</div>"
      ],
      "text/plain": [
       "                 x48            x49              y\n",
       "count  159968.000000  159968.000000  160000.000000\n",
       "mean       -0.000224      -0.674224       0.401231\n",
       "std         1.935501      15.036738       0.490149\n",
       "min        -8.490155     -65.791191       0.000000\n",
       "25%        -1.320800     -10.931753       0.000000\n",
       "50%        -0.011993      -0.574410       0.000000\n",
       "75%         1.317703       9.651072       1.000000\n",
       "max         8.226552      66.877604       1.000000"
      ]
     },
     "execution_count": 12,
     "metadata": {},
     "output_type": "execute_result"
    }
   ],
   "source": [
    "data_df[['x48','x49','y']].describe(include='all',)\n"
   ]
  },
  {
   "cell_type": "code",
   "execution_count": 13,
   "metadata": {},
   "outputs": [
    {
     "data": {
      "text/plain": [
       "x0     26\n",
       "x1     25\n",
       "x2     38\n",
       "x3     37\n",
       "x4     26\n",
       "x5     37\n",
       "x6     26\n",
       "x7     27\n",
       "x8     21\n",
       "x9     30\n",
       "x10    43\n",
       "x11    30\n",
       "x12    36\n",
       "x13    31\n",
       "x14    34\n",
       "x15    35\n",
       "x16    26\n",
       "x17    27\n",
       "x18    40\n",
       "x19    35\n",
       "x20    38\n",
       "x21    29\n",
       "x22    27\n",
       "x23    47\n",
       "x24    28\n",
       "x25    22\n",
       "x26    36\n",
       "x27    30\n",
       "x28    35\n",
       "x29    30\n",
       "x30    30\n",
       "x31    39\n",
       "x32    31\n",
       "x33    41\n",
       "x34    41\n",
       "x35    30\n",
       "x36    27\n",
       "x37    23\n",
       "x38    31\n",
       "x39    23\n",
       "x40    36\n",
       "x41    40\n",
       "x42    26\n",
       "x43    37\n",
       "x44    40\n",
       "x45    29\n",
       "x46    31\n",
       "x47    37\n",
       "x48    32\n",
       "x49    32\n",
       "y       0\n",
       "dtype: int64"
      ]
     },
     "execution_count": 13,
     "metadata": {},
     "output_type": "execute_result"
    }
   ],
   "source": [
    "data_df.isnull().sum()"
   ]
  },
  {
   "cell_type": "code",
   "execution_count": 14,
   "metadata": {},
   "outputs": [
    {
     "name": "stdout",
     "output_type": "stream",
     "text": [
      "<class 'pandas.core.frame.DataFrame'>\n",
      "RangeIndex: 160000 entries, 0 to 159999\n",
      "Data columns (total 51 columns):\n",
      "x0     159974 non-null float64\n",
      "x1     159975 non-null float64\n",
      "x2     159962 non-null float64\n",
      "x3     159963 non-null float64\n",
      "x4     159974 non-null float64\n",
      "x5     159963 non-null float64\n",
      "x6     159974 non-null float64\n",
      "x7     159973 non-null float64\n",
      "x8     159979 non-null float64\n",
      "x9     159970 non-null float64\n",
      "x10    159957 non-null float64\n",
      "x11    159970 non-null float64\n",
      "x12    159964 non-null float64\n",
      "x13    159969 non-null float64\n",
      "x14    159966 non-null float64\n",
      "x15    159965 non-null float64\n",
      "x16    159974 non-null float64\n",
      "x17    159973 non-null float64\n",
      "x18    159960 non-null float64\n",
      "x19    159965 non-null float64\n",
      "x20    159962 non-null float64\n",
      "x21    159971 non-null float64\n",
      "x22    159973 non-null float64\n",
      "x23    159953 non-null float64\n",
      "x24    159972 non-null object\n",
      "x25    159978 non-null float64\n",
      "x26    159964 non-null float64\n",
      "x27    159970 non-null float64\n",
      "x28    159965 non-null float64\n",
      "x29    159970 non-null object\n",
      "x30    159970 non-null object\n",
      "x31    159961 non-null float64\n",
      "x32    159969 non-null object\n",
      "x33    159959 non-null float64\n",
      "x34    159959 non-null float64\n",
      "x35    159970 non-null float64\n",
      "x36    159973 non-null float64\n",
      "x37    159977 non-null object\n",
      "x38    159969 non-null float64\n",
      "x39    159977 non-null float64\n",
      "x40    159964 non-null float64\n",
      "x41    159960 non-null float64\n",
      "x42    159974 non-null float64\n",
      "x43    159963 non-null float64\n",
      "x44    159960 non-null float64\n",
      "x45    159971 non-null float64\n",
      "x46    159969 non-null float64\n",
      "x47    159963 non-null float64\n",
      "x48    159968 non-null float64\n",
      "x49    159968 non-null float64\n",
      "y      160000 non-null int64\n",
      "dtypes: float64(45), int64(1), object(5)\n",
      "memory usage: 62.3+ MB\n"
     ]
    }
   ],
   "source": [
    "data_df.info()"
   ]
  },
  {
   "cell_type": "code",
   "execution_count": 15,
   "metadata": {},
   "outputs": [
    {
     "data": {
      "text/plain": [
       "False"
      ]
     },
     "execution_count": 15,
     "metadata": {},
     "output_type": "execute_result"
    }
   ],
   "source": [
    "# To find duplicated rows in data Frame\n",
    "data_df.duplicated().any()"
   ]
  },
  {
   "cell_type": "code",
   "execution_count": 16,
   "metadata": {},
   "outputs": [
    {
     "ename": "NameError",
     "evalue": "name 'df' is not defined",
     "output_type": "error",
     "traceback": [
      "\u001b[0;31m---------------------------------------------------------------------------\u001b[0m",
      "\u001b[0;31mNameError\u001b[0m                                 Traceback (most recent call last)",
      "\u001b[0;32m<ipython-input-16-5839ec879f96>\u001b[0m in \u001b[0;36m<module>\u001b[0;34m()\u001b[0m\n\u001b[1;32m      2\u001b[0m \u001b[0;32mimport\u001b[0m \u001b[0mnumpy\u001b[0m \u001b[0;32mas\u001b[0m \u001b[0mnp\u001b[0m\u001b[0;34m\u001b[0m\u001b[0;34m\u001b[0m\u001b[0m\n\u001b[1;32m      3\u001b[0m \u001b[0;34m\u001b[0m\u001b[0m\n\u001b[0;32m----> 4\u001b[0;31m \u001b[0mcorr\u001b[0m \u001b[0;34m=\u001b[0m \u001b[0mdf\u001b[0m\u001b[0;34m.\u001b[0m\u001b[0mcorr\u001b[0m\u001b[0;34m(\u001b[0m\u001b[0;34m)\u001b[0m\u001b[0;34m\u001b[0m\u001b[0;34m\u001b[0m\u001b[0m\n\u001b[0m\u001b[1;32m      5\u001b[0m \u001b[0mcorr\u001b[0m\u001b[0;34m.\u001b[0m\u001b[0mstyle\u001b[0m\u001b[0;34m.\u001b[0m\u001b[0mbackground_gradient\u001b[0m\u001b[0;34m(\u001b[0m\u001b[0mcmap\u001b[0m\u001b[0;34m=\u001b[0m\u001b[0;34m'coolwarm'\u001b[0m\u001b[0;34m)\u001b[0m\u001b[0;34m\u001b[0m\u001b[0;34m\u001b[0m\u001b[0m\n",
      "\u001b[0;31mNameError\u001b[0m: name 'df' is not defined"
     ]
    }
   ],
   "source": [
    "import pandas as pd\n",
    "import numpy as np\n",
    "\n",
    "corr = df.corr()\n",
    "corr.style.background_gradient(cmap='coolwarm')"
   ]
  },
  {
   "cell_type": "code",
   "execution_count": 17,
   "metadata": {},
   "outputs": [],
   "source": [
    "# Get the unique values(Levels) for categorical variables.\n",
    "# List to hold names of categorical variables\n",
    "categoricalVars = list()\n",
    "# List to hold names of numerical variables\n",
    "numericalVars = list()\n",
    "\n",
    "for colName in data_df.columns:\n",
    "    if data_df[colName].dtype == np.int64:\n",
    "        numericalVars.append(colName)\n",
    "    elif data_df[colName].dtype == np.object:\n",
    "        categoricalVars.append(colName)\n",
    "    else:\n",
    "        pass"
   ]
  },
  {
   "cell_type": "code",
   "execution_count": 18,
   "metadata": {},
   "outputs": [
    {
     "data": {
      "text/plain": [
       "['x24', 'x29', 'x30', 'x32', 'x37']"
      ]
     },
     "execution_count": 18,
     "metadata": {},
     "output_type": "execute_result"
    }
   ],
   "source": [
    "categoricalVars\n"
   ]
  },
  {
   "cell_type": "code",
   "execution_count": 19,
   "metadata": {},
   "outputs": [
    {
     "data": {
      "text/plain": [
       "array(['euorpe', 'asia', 'america', nan], dtype=object)"
      ]
     },
     "execution_count": 19,
     "metadata": {},
     "output_type": "execute_result"
    }
   ],
   "source": [
    "data_df['x24'].unique()"
   ]
  },
  {
   "cell_type": "code",
   "execution_count": 20,
   "metadata": {},
   "outputs": [
    {
     "data": {
      "text/plain": [
       "array(['July', 'Aug', 'Jun', 'May', 'sept.', 'Apr', 'Nov', 'Oct', nan,\n",
       "       'Mar', 'Feb', 'Dev', 'January'], dtype=object)"
      ]
     },
     "execution_count": 20,
     "metadata": {},
     "output_type": "execute_result"
    }
   ],
   "source": [
    "data_df['x29'].unique()"
   ]
  },
  {
   "cell_type": "code",
   "execution_count": 21,
   "metadata": {},
   "outputs": [
    {
     "data": {
      "text/plain": [
       "array(['tuesday', 'wednesday', 'thurday', 'monday', 'friday', nan],\n",
       "      dtype=object)"
      ]
     },
     "execution_count": 21,
     "metadata": {},
     "output_type": "execute_result"
    }
   ],
   "source": [
    "data_df['x30'].unique()"
   ]
  },
  {
   "cell_type": "code",
   "execution_count": 22,
   "metadata": {},
   "outputs": [
    {
     "data": {
      "text/plain": [
       "array(['0.0%', '-0.02%', '-0.01%', '0.01%', '-0.03%', '0.02%', '-0.0%',\n",
       "       '-0.04%', nan, '0.03%', '0.04%', '-0.05%', '0.05%'], dtype=object)"
      ]
     },
     "execution_count": 22,
     "metadata": {},
     "output_type": "execute_result"
    }
   ],
   "source": [
    "data_df['x32'].unique()"
   ]
  },
  {
   "cell_type": "code",
   "execution_count": 23,
   "metadata": {},
   "outputs": [
    {
     "data": {
      "text/plain": [
       "array(['$1313.96', '$1962.78', '$430.47', ..., '$1588.65', '$439.21',\n",
       "       '$-1229.34'], dtype=object)"
      ]
     },
     "execution_count": 23,
     "metadata": {},
     "output_type": "execute_result"
    }
   ],
   "source": [
    "data_df['x37'].unique()\n"
   ]
  },
  {
   "cell_type": "code",
   "execution_count": 24,
   "metadata": {},
   "outputs": [],
   "source": [
    "data_wrk_df = data_df.copy()\n",
    "\n",
    "data_wrk_df['x32_new']=data_wrk_df['x32'].replace(r'%','', regex=True)\n",
    "data_wrk_df['x37_new']=data_wrk_df['x37'].replace(r'\\$','', regex=True)\n",
    "\n",
    "data_wrk_df.drop(['x32','x37'],axis=1,inplace=True)"
   ]
  },
  {
   "cell_type": "code",
   "execution_count": 25,
   "metadata": {},
   "outputs": [
    {
     "data": {
      "text/plain": [
       "0      0.0\n",
       "1    -0.02\n",
       "2    -0.01\n",
       "3     0.01\n",
       "4     0.01\n",
       "Name: x32_new, dtype: object"
      ]
     },
     "execution_count": 25,
     "metadata": {},
     "output_type": "execute_result"
    }
   ],
   "source": [
    "data_wrk_df['x32_new'].head()\n"
   ]
  },
  {
   "cell_type": "code",
   "execution_count": 26,
   "metadata": {},
   "outputs": [
    {
     "data": {
      "text/plain": [
       "0     1313.96\n",
       "1     1962.78\n",
       "2      430.47\n",
       "3    -2366.29\n",
       "4     -620.66\n",
       "Name: x37_new, dtype: object"
      ]
     },
     "execution_count": 26,
     "metadata": {},
     "output_type": "execute_result"
    }
   ],
   "source": [
    "data_wrk_df['x37_new'].head()\n"
   ]
  },
  {
   "cell_type": "code",
   "execution_count": 27,
   "metadata": {},
   "outputs": [],
   "source": [
    "data_wrk_df['x37_new']=data_wrk_df['x37_new'].astype(float)\n",
    "data_wrk_df['x32_new']=data_wrk_df['x32_new'].astype(float)"
   ]
  },
  {
   "cell_type": "code",
   "execution_count": 28,
   "metadata": {},
   "outputs": [],
   "source": [
    "data_wrk_dropna_df=data_wrk_df.copy()\n",
    "data_wrk_dropna_df.dropna( axis=0, how='any', thresh=None, subset=None, inplace=True)"
   ]
  },
  {
   "cell_type": "code",
   "execution_count": 29,
   "metadata": {},
   "outputs": [
    {
     "name": "stdout",
     "output_type": "stream",
     "text": [
      "number of rows in original datframe\n",
      "160000\n",
      "number of rows after removing rows with any columns having na\n",
      "158392\n"
     ]
    }
   ],
   "source": [
    "print('number of rows in original datframe')\n",
    "print(data_wrk_df['y'].count())\n",
    "\n",
    "print('number of rows after removing rows with any columns having na')\n",
    "print(data_wrk_dropna_df['y'].count())"
   ]
  },
  {
   "cell_type": "code",
   "execution_count": 30,
   "metadata": {},
   "outputs": [
    {
     "data": {
      "text/plain": [
       "0.01005"
      ]
     },
     "execution_count": 30,
     "metadata": {},
     "output_type": "execute_result"
    }
   ],
   "source": [
    "(160000-158392)/160000\n"
   ]
  },
  {
   "cell_type": "code",
   "execution_count": 31,
   "metadata": {},
   "outputs": [
    {
     "data": {
      "text/plain": [
       "0    0.00\n",
       "1   -0.02\n",
       "2   -0.01\n",
       "3    0.01\n",
       "4    0.01\n",
       "Name: x32_new, dtype: float64"
      ]
     },
     "execution_count": 31,
     "metadata": {},
     "output_type": "execute_result"
    }
   ],
   "source": [
    "data_wrk_dropna_df['x32_new'].head()\n"
   ]
  },
  {
   "cell_type": "code",
   "execution_count": 32,
   "metadata": {},
   "outputs": [
    {
     "data": {
      "text/html": [
       "<div>\n",
       "<style scoped>\n",
       "    .dataframe tbody tr th:only-of-type {\n",
       "        vertical-align: middle;\n",
       "    }\n",
       "\n",
       "    .dataframe tbody tr th {\n",
       "        vertical-align: top;\n",
       "    }\n",
       "\n",
       "    .dataframe thead th {\n",
       "        text-align: right;\n",
       "    }\n",
       "</style>\n",
       "<table border=\"1\" class=\"dataframe\">\n",
       "  <thead>\n",
       "    <tr style=\"text-align: right;\">\n",
       "      <th></th>\n",
       "      <th>x0</th>\n",
       "      <th>x1</th>\n",
       "      <th>x2</th>\n",
       "      <th>x3</th>\n",
       "      <th>x4</th>\n",
       "      <th>x5</th>\n",
       "      <th>x6</th>\n",
       "      <th>x7</th>\n",
       "      <th>x8</th>\n",
       "      <th>x9</th>\n",
       "      <th>...</th>\n",
       "      <th>x43</th>\n",
       "      <th>x44</th>\n",
       "      <th>x45</th>\n",
       "      <th>x46</th>\n",
       "      <th>x47</th>\n",
       "      <th>x48</th>\n",
       "      <th>x49</th>\n",
       "      <th>y</th>\n",
       "      <th>x32_new</th>\n",
       "      <th>x37_new</th>\n",
       "    </tr>\n",
       "  </thead>\n",
       "  <tbody>\n",
       "    <tr>\n",
       "      <th>count</th>\n",
       "      <td>158392.000000</td>\n",
       "      <td>158392.000000</td>\n",
       "      <td>158392.000000</td>\n",
       "      <td>158392.000000</td>\n",
       "      <td>158392.000000</td>\n",
       "      <td>158392.000000</td>\n",
       "      <td>158392.000000</td>\n",
       "      <td>158392.000000</td>\n",
       "      <td>158392.000000</td>\n",
       "      <td>158392.000000</td>\n",
       "      <td>...</td>\n",
       "      <td>158392.000000</td>\n",
       "      <td>158392.000000</td>\n",
       "      <td>158392.000000</td>\n",
       "      <td>158392.000000</td>\n",
       "      <td>158392.000000</td>\n",
       "      <td>158392.000000</td>\n",
       "      <td>158392.000000</td>\n",
       "      <td>158392.000000</td>\n",
       "      <td>158392.000000</td>\n",
       "      <td>158392.000000</td>\n",
       "    </tr>\n",
       "    <tr>\n",
       "      <th>mean</th>\n",
       "      <td>-0.000808</td>\n",
       "      <td>0.003705</td>\n",
       "      <td>-1.148314</td>\n",
       "      <td>-0.023012</td>\n",
       "      <td>-0.000266</td>\n",
       "      <td>0.013282</td>\n",
       "      <td>-1.669562</td>\n",
       "      <td>-7.697877</td>\n",
       "      <td>-0.028853</td>\n",
       "      <td>0.004320</td>\n",
       "      <td>...</td>\n",
       "      <td>-0.002174</td>\n",
       "      <td>-0.007254</td>\n",
       "      <td>0.000996</td>\n",
       "      <td>-12.751993</td>\n",
       "      <td>0.028262</td>\n",
       "      <td>0.000160</td>\n",
       "      <td>-0.672052</td>\n",
       "      <td>0.401195</td>\n",
       "      <td>-0.000010</td>\n",
       "      <td>0.502723</td>\n",
       "    </tr>\n",
       "    <tr>\n",
       "      <th>std</th>\n",
       "      <td>0.371064</td>\n",
       "      <td>6.340297</td>\n",
       "      <td>13.274738</td>\n",
       "      <td>8.066624</td>\n",
       "      <td>6.383306</td>\n",
       "      <td>7.672102</td>\n",
       "      <td>19.300472</td>\n",
       "      <td>30.541562</td>\n",
       "      <td>8.904048</td>\n",
       "      <td>6.354359</td>\n",
       "      <td>...</td>\n",
       "      <td>1.535282</td>\n",
       "      <td>4.163766</td>\n",
       "      <td>0.396604</td>\n",
       "      <td>36.608634</td>\n",
       "      <td>4.787974</td>\n",
       "      <td>1.935087</td>\n",
       "      <td>15.033134</td>\n",
       "      <td>0.490142</td>\n",
       "      <td>0.010397</td>\n",
       "      <td>999.670281</td>\n",
       "    </tr>\n",
       "    <tr>\n",
       "      <th>min</th>\n",
       "      <td>-1.592635</td>\n",
       "      <td>-26.278302</td>\n",
       "      <td>-59.394048</td>\n",
       "      <td>-33.864827</td>\n",
       "      <td>-28.467536</td>\n",
       "      <td>-33.822988</td>\n",
       "      <td>-86.354483</td>\n",
       "      <td>-181.506976</td>\n",
       "      <td>-37.691045</td>\n",
       "      <td>-27.980659</td>\n",
       "      <td>...</td>\n",
       "      <td>-6.876234</td>\n",
       "      <td>-17.983487</td>\n",
       "      <td>-1.753221</td>\n",
       "      <td>-201.826828</td>\n",
       "      <td>-21.086333</td>\n",
       "      <td>-8.490155</td>\n",
       "      <td>-65.791191</td>\n",
       "      <td>0.000000</td>\n",
       "      <td>-0.050000</td>\n",
       "      <td>-4734.540000</td>\n",
       "    </tr>\n",
       "    <tr>\n",
       "      <th>25%</th>\n",
       "      <td>-0.251246</td>\n",
       "      <td>-4.259016</td>\n",
       "      <td>-10.166609</td>\n",
       "      <td>-5.453044</td>\n",
       "      <td>-4.313987</td>\n",
       "      <td>-5.152419</td>\n",
       "      <td>-14.781485</td>\n",
       "      <td>-27.315875</td>\n",
       "      <td>-6.034094</td>\n",
       "      <td>-4.260304</td>\n",
       "      <td>...</td>\n",
       "      <td>-1.039992</td>\n",
       "      <td>-2.814168</td>\n",
       "      <td>-0.266369</td>\n",
       "      <td>-36.432779</td>\n",
       "      <td>-3.216974</td>\n",
       "      <td>-1.320800</td>\n",
       "      <td>-10.929046</td>\n",
       "      <td>0.000000</td>\n",
       "      <td>-0.010000</td>\n",
       "      <td>-690.690000</td>\n",
       "    </tr>\n",
       "    <tr>\n",
       "      <th>50%</th>\n",
       "      <td>-0.001818</td>\n",
       "      <td>0.010023</td>\n",
       "      <td>-1.342199</td>\n",
       "      <td>-0.028470</td>\n",
       "      <td>-0.001138</td>\n",
       "      <td>0.015135</td>\n",
       "      <td>-1.951457</td>\n",
       "      <td>-6.959275</td>\n",
       "      <td>-0.016173</td>\n",
       "      <td>0.003098</td>\n",
       "      <td>...</td>\n",
       "      <td>-0.004279</td>\n",
       "      <td>-0.012278</td>\n",
       "      <td>0.001841</td>\n",
       "      <td>-12.975088</td>\n",
       "      <td>0.036234</td>\n",
       "      <td>-0.011800</td>\n",
       "      <td>-0.569139</td>\n",
       "      <td>0.000000</td>\n",
       "      <td>-0.000000</td>\n",
       "      <td>-13.320000</td>\n",
       "    </tr>\n",
       "    <tr>\n",
       "      <th>75%</th>\n",
       "      <td>0.248622</td>\n",
       "      <td>4.286606</td>\n",
       "      <td>7.878130</td>\n",
       "      <td>5.448332</td>\n",
       "      <td>4.308644</td>\n",
       "      <td>5.191172</td>\n",
       "      <td>11.454209</td>\n",
       "      <td>12.215119</td>\n",
       "      <td>5.978646</td>\n",
       "      <td>4.303807</td>\n",
       "      <td>...</td>\n",
       "      <td>1.033870</td>\n",
       "      <td>2.781096</td>\n",
       "      <td>0.269194</td>\n",
       "      <td>11.445524</td>\n",
       "      <td>3.269134</td>\n",
       "      <td>1.318161</td>\n",
       "      <td>9.649839</td>\n",
       "      <td>1.000000</td>\n",
       "      <td>0.010000</td>\n",
       "      <td>664.050000</td>\n",
       "    </tr>\n",
       "    <tr>\n",
       "      <th>max</th>\n",
       "      <td>1.600849</td>\n",
       "      <td>27.988178</td>\n",
       "      <td>63.545653</td>\n",
       "      <td>38.906025</td>\n",
       "      <td>26.247812</td>\n",
       "      <td>35.550110</td>\n",
       "      <td>92.390605</td>\n",
       "      <td>149.150634</td>\n",
       "      <td>39.049831</td>\n",
       "      <td>27.377842</td>\n",
       "      <td>...</td>\n",
       "      <td>6.680922</td>\n",
       "      <td>19.069759</td>\n",
       "      <td>1.669205</td>\n",
       "      <td>150.859415</td>\n",
       "      <td>20.836854</td>\n",
       "      <td>8.226552</td>\n",
       "      <td>66.877604</td>\n",
       "      <td>1.000000</td>\n",
       "      <td>0.050000</td>\n",
       "      <td>5546.990000</td>\n",
       "    </tr>\n",
       "  </tbody>\n",
       "</table>\n",
       "<p>8 rows × 48 columns</p>\n",
       "</div>"
      ],
      "text/plain": [
       "                  x0             x1             x2             x3  \\\n",
       "count  158392.000000  158392.000000  158392.000000  158392.000000   \n",
       "mean       -0.000808       0.003705      -1.148314      -0.023012   \n",
       "std         0.371064       6.340297      13.274738       8.066624   \n",
       "min        -1.592635     -26.278302     -59.394048     -33.864827   \n",
       "25%        -0.251246      -4.259016     -10.166609      -5.453044   \n",
       "50%        -0.001818       0.010023      -1.342199      -0.028470   \n",
       "75%         0.248622       4.286606       7.878130       5.448332   \n",
       "max         1.600849      27.988178      63.545653      38.906025   \n",
       "\n",
       "                  x4             x5             x6             x7  \\\n",
       "count  158392.000000  158392.000000  158392.000000  158392.000000   \n",
       "mean       -0.000266       0.013282      -1.669562      -7.697877   \n",
       "std         6.383306       7.672102      19.300472      30.541562   \n",
       "min       -28.467536     -33.822988     -86.354483    -181.506976   \n",
       "25%        -4.313987      -5.152419     -14.781485     -27.315875   \n",
       "50%        -0.001138       0.015135      -1.951457      -6.959275   \n",
       "75%         4.308644       5.191172      11.454209      12.215119   \n",
       "max        26.247812      35.550110      92.390605     149.150634   \n",
       "\n",
       "                  x8             x9      ...                  x43  \\\n",
       "count  158392.000000  158392.000000      ...        158392.000000   \n",
       "mean       -0.028853       0.004320      ...            -0.002174   \n",
       "std         8.904048       6.354359      ...             1.535282   \n",
       "min       -37.691045     -27.980659      ...            -6.876234   \n",
       "25%        -6.034094      -4.260304      ...            -1.039992   \n",
       "50%        -0.016173       0.003098      ...            -0.004279   \n",
       "75%         5.978646       4.303807      ...             1.033870   \n",
       "max        39.049831      27.377842      ...             6.680922   \n",
       "\n",
       "                 x44            x45            x46            x47  \\\n",
       "count  158392.000000  158392.000000  158392.000000  158392.000000   \n",
       "mean       -0.007254       0.000996     -12.751993       0.028262   \n",
       "std         4.163766       0.396604      36.608634       4.787974   \n",
       "min       -17.983487      -1.753221    -201.826828     -21.086333   \n",
       "25%        -2.814168      -0.266369     -36.432779      -3.216974   \n",
       "50%        -0.012278       0.001841     -12.975088       0.036234   \n",
       "75%         2.781096       0.269194      11.445524       3.269134   \n",
       "max        19.069759       1.669205     150.859415      20.836854   \n",
       "\n",
       "                 x48            x49              y        x32_new  \\\n",
       "count  158392.000000  158392.000000  158392.000000  158392.000000   \n",
       "mean        0.000160      -0.672052       0.401195      -0.000010   \n",
       "std         1.935087      15.033134       0.490142       0.010397   \n",
       "min        -8.490155     -65.791191       0.000000      -0.050000   \n",
       "25%        -1.320800     -10.929046       0.000000      -0.010000   \n",
       "50%        -0.011800      -0.569139       0.000000      -0.000000   \n",
       "75%         1.318161       9.649839       1.000000       0.010000   \n",
       "max         8.226552      66.877604       1.000000       0.050000   \n",
       "\n",
       "             x37_new  \n",
       "count  158392.000000  \n",
       "mean        0.502723  \n",
       "std       999.670281  \n",
       "min     -4734.540000  \n",
       "25%      -690.690000  \n",
       "50%       -13.320000  \n",
       "75%       664.050000  \n",
       "max      5546.990000  \n",
       "\n",
       "[8 rows x 48 columns]"
      ]
     },
     "execution_count": 32,
     "metadata": {},
     "output_type": "execute_result"
    }
   ],
   "source": [
    "data_wrk_dropna_df.describe()\n"
   ]
  },
  {
   "cell_type": "code",
   "execution_count": 33,
   "metadata": {},
   "outputs": [
    {
     "name": "stdout",
     "output_type": "stream",
     "text": [
      "percentage of no  is 59.88054952270316\n",
      "percentage of yes 40.11945047729683\n"
     ]
    }
   ],
   "source": [
    "count_no_sub = len(data_wrk_dropna_df[data_wrk_dropna_df['y']==0])\n",
    "count_sub = len(data_wrk_dropna_df[data_wrk_dropna_df['y']==1])\n",
    "pct_of_no_sub = count_no_sub/(count_no_sub+count_sub)\n",
    "print(\"percentage of no  is\", pct_of_no_sub*100)\n",
    "pct_of_sub = count_sub/(count_no_sub+count_sub)\n",
    "print(\"percentage of yes\", pct_of_sub*100)"
   ]
  },
  {
   "cell_type": "markdown",
   "metadata": {},
   "source": [
    "## Prepare Data for Modeling"
   ]
  },
  {
   "cell_type": "code",
   "execution_count": 34,
   "metadata": {},
   "outputs": [],
   "source": [
    "# Get the unique values(Levels) for categorical variables.\n",
    "# List to hold names of categorical variables\n",
    "categoricalVars_wrk = list()\n",
    "# List to hold names of numerical variables\n",
    "numericalVars_wrk = list()\n",
    "\n",
    "for colName in data_wrk_dropna_df.columns:\n",
    "    if data_wrk_df[colName].dtype == np.int64:\n",
    "        numericalVars_wrk.append(colName)\n",
    "    elif data_wrk_df[colName].dtype == np.object:\n",
    "        categoricalVars_wrk.append(colName)\n",
    "    else:\n",
    "        pass"
   ]
  },
  {
   "cell_type": "code",
   "execution_count": 35,
   "metadata": {},
   "outputs": [
    {
     "data": {
      "text/plain": [
       "['x24', 'x29', 'x30']"
      ]
     },
     "execution_count": 35,
     "metadata": {},
     "output_type": "execute_result"
    }
   ],
   "source": [
    "categoricalVars_wrk"
   ]
  },
  {
   "cell_type": "code",
   "execution_count": 36,
   "metadata": {},
   "outputs": [
    {
     "name": "stdout",
     "output_type": "stream",
     "text": [
      "<class 'pandas.core.frame.DataFrame'>\n",
      "Int64Index: 158392 entries, 0 to 159999\n",
      "Data columns (total 65 columns):\n",
      "x0               158392 non-null float64\n",
      "x1               158392 non-null float64\n",
      "x2               158392 non-null float64\n",
      "x3               158392 non-null float64\n",
      "x4               158392 non-null float64\n",
      "x5               158392 non-null float64\n",
      "x6               158392 non-null float64\n",
      "x7               158392 non-null float64\n",
      "x8               158392 non-null float64\n",
      "x9               158392 non-null float64\n",
      "x10              158392 non-null float64\n",
      "x11              158392 non-null float64\n",
      "x12              158392 non-null float64\n",
      "x13              158392 non-null float64\n",
      "x14              158392 non-null float64\n",
      "x15              158392 non-null float64\n",
      "x16              158392 non-null float64\n",
      "x17              158392 non-null float64\n",
      "x18              158392 non-null float64\n",
      "x19              158392 non-null float64\n",
      "x20              158392 non-null float64\n",
      "x21              158392 non-null float64\n",
      "x22              158392 non-null float64\n",
      "x23              158392 non-null float64\n",
      "x25              158392 non-null float64\n",
      "x26              158392 non-null float64\n",
      "x27              158392 non-null float64\n",
      "x28              158392 non-null float64\n",
      "x31              158392 non-null float64\n",
      "x33              158392 non-null float64\n",
      "x34              158392 non-null float64\n",
      "x35              158392 non-null float64\n",
      "x36              158392 non-null float64\n",
      "x38              158392 non-null float64\n",
      "x39              158392 non-null float64\n",
      "x40              158392 non-null float64\n",
      "x41              158392 non-null float64\n",
      "x42              158392 non-null float64\n",
      "x43              158392 non-null float64\n",
      "x44              158392 non-null float64\n",
      "x45              158392 non-null float64\n",
      "x46              158392 non-null float64\n",
      "x47              158392 non-null float64\n",
      "x48              158392 non-null float64\n",
      "x49              158392 non-null float64\n",
      "y                158392 non-null int64\n",
      "x32_new          158392 non-null float64\n",
      "x37_new          158392 non-null float64\n",
      "x24_asia         158392 non-null uint8\n",
      "x24_euorpe       158392 non-null uint8\n",
      "x29_Aug          158392 non-null uint8\n",
      "x29_Dev          158392 non-null uint8\n",
      "x29_Feb          158392 non-null uint8\n",
      "x29_January      158392 non-null uint8\n",
      "x29_July         158392 non-null uint8\n",
      "x29_Jun          158392 non-null uint8\n",
      "x29_Mar          158392 non-null uint8\n",
      "x29_May          158392 non-null uint8\n",
      "x29_Nov          158392 non-null uint8\n",
      "x29_Oct          158392 non-null uint8\n",
      "x29_sept.        158392 non-null uint8\n",
      "x30_monday       158392 non-null uint8\n",
      "x30_thurday      158392 non-null uint8\n",
      "x30_tuesday      158392 non-null uint8\n",
      "x30_wednesday    158392 non-null uint8\n",
      "dtypes: float64(47), int64(1), uint8(17)\n",
      "memory usage: 61.8 MB\n"
     ]
    }
   ],
   "source": [
    "# Covert all categorical variables to corresponding indicator variables\n",
    "for categoricalVar in categoricalVars_wrk:\n",
    "    tmpDf = pd.DataFrame()\n",
    "    # Remove 1st class level to avoid multicollinearity\n",
    "    tmpDf = pd.get_dummies(data_wrk_dropna_df[categoricalVar], prefix=categoricalVar, drop_first=True)\n",
    "    data_wrk_dropna_df = pd.concat((data_wrk_dropna_df, tmpDf), axis=1)\n",
    "\n",
    "# Now remove the original categorical vars since indicator variables are created from them.\n",
    "data_wrk_dropna_df.drop(categoricalVars_wrk, inplace=True, axis=1)\n",
    "data_wrk_dropna_df.info()"
   ]
  },
  {
   "cell_type": "code",
   "execution_count": 37,
   "metadata": {},
   "outputs": [
    {
     "data": {
      "text/plain": [
       "(31678, 65)"
      ]
     },
     "execution_count": 37,
     "metadata": {},
     "output_type": "execute_result"
    }
   ],
   "source": [
    "validation = data_wrk_dropna_df.sample(frac=.2, replace=False, weights=None, random_state=999, axis=0)\n",
    "validation.shape"
   ]
  },
  {
   "cell_type": "code",
   "execution_count": 38,
   "metadata": {},
   "outputs": [
    {
     "name": "stdout",
     "output_type": "stream",
     "text": [
      "percentage of no  is 59.918555464360125\n",
      "percentage of yes 40.081444535639875\n"
     ]
    }
   ],
   "source": [
    "count_no_sub_val = len(validation[validation['y']==0])\n",
    "count_sub_val = len(validation[validation['y']==1])\n",
    "pct_of_no_sub_val = count_no_sub_val/(count_no_sub_val+count_sub_val)\n",
    "print(\"percentage of no  is\", pct_of_no_sub_val*100)\n",
    "pct_of_sub_val = count_sub_val/(count_no_sub_val+count_sub_val)\n",
    "print(\"percentage of yes\", pct_of_sub_val*100)"
   ]
  },
  {
   "cell_type": "code",
   "execution_count": 39,
   "metadata": {},
   "outputs": [
    {
     "data": {
      "text/plain": [
       "(126714, 65)"
      ]
     },
     "execution_count": 39,
     "metadata": {},
     "output_type": "execute_result"
    }
   ],
   "source": [
    "data_wrk_dropna_df.drop(axis = 0, index = list(validation.index.values), inplace = True)\n",
    "data_wrk_dropna_df.shape"
   ]
  },
  {
   "cell_type": "code",
   "execution_count": 40,
   "metadata": {},
   "outputs": [
    {
     "name": "stdout",
     "output_type": "stream",
     "text": [
      "percentage of no  is 59.871048187256335\n",
      "percentage of yes 40.12895181274366\n"
     ]
    }
   ],
   "source": [
    "count_no_sub = len(data_wrk_dropna_df[data_wrk_dropna_df['y']==0])\n",
    "count_sub = len(data_wrk_dropna_df[data_wrk_dropna_df['y']==1])\n",
    "pct_of_no_sub = count_no_sub/(count_no_sub+count_sub)\n",
    "print(\"percentage of no  is\", pct_of_no_sub*100)\n",
    "pct_of_sub = count_sub/(count_no_sub+count_sub)\n",
    "print(\"percentage of yes\", pct_of_sub*100)"
   ]
  },
  {
   "cell_type": "code",
   "execution_count": 41,
   "metadata": {},
   "outputs": [
    {
     "name": "stdout",
     "output_type": "stream",
     "text": [
      "(126714, 64)\n",
      "(126714,)\n"
     ]
    }
   ],
   "source": [
    "X_wrk = data_wrk_dropna_df.copy()\n",
    "\n",
    "X_wrk.drop('y',axis=1 , inplace=True)\n",
    "y_wrk=data_wrk_dropna_df['y']\n",
    "print(X_wrk.shape)\n",
    "print(y_wrk.shape)"
   ]
  },
  {
   "cell_type": "code",
   "execution_count": 42,
   "metadata": {},
   "outputs": [],
   "source": [
    "## feature elimination"
   ]
  },
  {
   "cell_type": "code",
   "execution_count": 43,
   "metadata": {},
   "outputs": [
    {
     "name": "stdout",
     "output_type": "stream",
     "text": [
      "X_fs info\n",
      "==========\n",
      "<class 'pandas.core.frame.DataFrame'>\n",
      "Int64Index: 126714 entries, 0 to 159999\n",
      "Data columns (total 64 columns):\n",
      "x0               126714 non-null float64\n",
      "x1               126714 non-null float64\n",
      "x2               126714 non-null float64\n",
      "x3               126714 non-null float64\n",
      "x4               126714 non-null float64\n",
      "x5               126714 non-null float64\n",
      "x6               126714 non-null float64\n",
      "x7               126714 non-null float64\n",
      "x8               126714 non-null float64\n",
      "x9               126714 non-null float64\n",
      "x10              126714 non-null float64\n",
      "x11              126714 non-null float64\n",
      "x12              126714 non-null float64\n",
      "x13              126714 non-null float64\n",
      "x14              126714 non-null float64\n",
      "x15              126714 non-null float64\n",
      "x16              126714 non-null float64\n",
      "x17              126714 non-null float64\n",
      "x18              126714 non-null float64\n",
      "x19              126714 non-null float64\n",
      "x20              126714 non-null float64\n",
      "x21              126714 non-null float64\n",
      "x22              126714 non-null float64\n",
      "x23              126714 non-null float64\n",
      "x25              126714 non-null float64\n",
      "x26              126714 non-null float64\n",
      "x27              126714 non-null float64\n",
      "x28              126714 non-null float64\n",
      "x31              126714 non-null float64\n",
      "x33              126714 non-null float64\n",
      "x34              126714 non-null float64\n",
      "x35              126714 non-null float64\n",
      "x36              126714 non-null float64\n",
      "x38              126714 non-null float64\n",
      "x39              126714 non-null float64\n",
      "x40              126714 non-null float64\n",
      "x41              126714 non-null float64\n",
      "x42              126714 non-null float64\n",
      "x43              126714 non-null float64\n",
      "x44              126714 non-null float64\n",
      "x45              126714 non-null float64\n",
      "x46              126714 non-null float64\n",
      "x47              126714 non-null float64\n",
      "x48              126714 non-null float64\n",
      "x49              126714 non-null float64\n",
      "x32_new          126714 non-null float64\n",
      "x37_new          126714 non-null float64\n",
      "x24_asia         126714 non-null uint8\n",
      "x24_euorpe       126714 non-null uint8\n",
      "x29_Aug          126714 non-null uint8\n",
      "x29_Dev          126714 non-null uint8\n",
      "x29_Feb          126714 non-null uint8\n",
      "x29_January      126714 non-null uint8\n",
      "x29_July         126714 non-null uint8\n",
      "x29_Jun          126714 non-null uint8\n",
      "x29_Mar          126714 non-null uint8\n",
      "x29_May          126714 non-null uint8\n",
      "x29_Nov          126714 non-null uint8\n",
      "x29_Oct          126714 non-null uint8\n",
      "x29_sept.        126714 non-null uint8\n",
      "x30_monday       126714 non-null uint8\n",
      "x30_thurday      126714 non-null uint8\n",
      "x30_tuesday      126714 non-null uint8\n",
      "x30_wednesday    126714 non-null uint8\n",
      "dtypes: float64(47), uint8(17)\n",
      "memory usage: 48.5 MB\n",
      "y_fs info\n",
      "==========\n"
     ]
    },
    {
     "data": {
      "text/plain": [
       "pandas.core.series.Series"
      ]
     },
     "execution_count": 43,
     "metadata": {},
     "output_type": "execute_result"
    }
   ],
   "source": [
    "print(\"X_fs info\")\n",
    "print(\"==========\")\n",
    "X_wrk.info()\n",
    "\n",
    "print(\"y_fs info\")\n",
    "print(\"==========\")\n",
    "type(y_wrk)"
   ]
  },
  {
   "cell_type": "markdown",
   "metadata": {},
   "source": [
    "### Logistic Regression Fitting Estimator ( Using lasso penalty )"
   ]
  },
  {
   "cell_type": "code",
   "execution_count": 44,
   "metadata": {},
   "outputs": [
    {
     "name": "stdout",
     "output_type": "stream",
     "text": [
      "x23 has weight of -0.4660976224710641\n",
      "x45 has weight of -0.2986769092034509\n",
      "x20 has weight of -0.239309085875115\n",
      "x39 has weight of -0.2332167761871846\n",
      "x2 has weight of -0.17152495383333272\n",
      "x6 has weight of -0.10099538532283839\n",
      "x12 has weight of -0.09546670501907219\n",
      "x48 has weight of -0.06239549383992876\n",
      "x47 has weight of -0.03294448829077091\n",
      "x8 has weight of -0.015369718510551482\n",
      "x28 has weight of -0.00912453306243384\n",
      "x10 has weight of -0.006966549111146484\n",
      "x14 has weight of -0.0065784119962329305\n",
      "x25 has weight of -0.006309887869914876\n",
      "x13 has weight of -0.004804437262648969\n",
      "x32_new has weight of -0.0042896971930268535\n",
      "x5 has weight of -0.0035516245564316145\n",
      "x17 has weight of -0.0030577064266539915\n",
      "x42 has weight of -0.002711781328053607\n",
      "x41 has weight of -0.002598252389981071\n",
      "x35 has weight of -0.0011034929716371182\n",
      "x31 has weight of -6.149244017777329e-05\n",
      "x26 has weight of 0.0\n",
      "x43 has weight of 0.0\n",
      "x9 has weight of 0.0\n",
      "x0 has weight of 0.001142903466651057\n",
      "x11 has weight of 0.001700058332859779\n",
      "x29 has weight of 0.00237803451940639\n",
      "x21 has weight of 0.0024240148615348434\n",
      "x44 has weight of 0.0024958489996072006\n",
      "x15 has weight of 0.0026359455120351116\n",
      "x40 has weight of 0.0036334601413841997\n",
      "x37_new has weight of 0.004665087627216656\n",
      "x4 has weight of 0.005128671338913434\n",
      "x33 has weight of 0.006297356205425403\n",
      "x7 has weight of 0.0067850324237194275\n",
      "x22 has weight of 0.007873631415681596\n",
      "x3 has weight of 0.007908334475178596\n",
      "x1 has weight of 0.008089428622349645\n",
      "x24 has weight of 0.008940449965420101\n",
      "x16 has weight of 0.009170790786319988\n",
      "x18 has weight of 0.011700953345535316\n",
      "x19 has weight of 0.013207963857259763\n",
      "x30 has weight of 0.0140993555900616\n",
      "x34 has weight of 0.020272751617272933\n",
      "x27 has weight of 0.05198120429336755\n",
      "x49 has weight of 0.0714807746461077\n",
      "y has weight of 0.07354622590136366\n",
      "x36 has weight of 0.28639081737585786\n",
      "x38 has weight of 0.4112438806600982\n",
      "x46 has weight of 0.5436578774074977\n"
     ]
    },
    {
     "data": {
      "image/png": "[encoded data removed]",
      "text/plain": [
       "<Figure size 1440x648 with 1 Axes>"
      ]
     },
     "metadata": {},
     "output_type": "display_data"
    }
   ],
   "source": [
    "from sklearn import metrics as mt\n",
    "from sklearn.preprocessing import StandardScaler\n",
    "from sklearn.metrics import accuracy_score\n",
    "from sklearn.linear_model import LogisticRegression\n",
    "from sklearn.pipeline import make_pipeline\n",
    "from sklearn.exceptions import DataConversionWarning\n",
    "warnings.filterwarnings(action='ignore', category=DataConversionWarning)\n",
    "\n",
    "# Standardize the features first, since standardizing the features could lead to\n",
    "# gradient desent algo to converge faster and then run logistic regression model\n",
    "\n",
    "logisticModel_wrk = make_pipeline(StandardScaler(), LogisticRegression(penalty='l1', C=1.0,\\\n",
    "                                                                   class_weight=None, random_state=999, \\\n",
    "                                                                   solver='liblinear'))\n",
    "\n",
    "# Fit the whole training dataset now, since validation would be done on additional dataset\n",
    "logisticModel_wrk.fit(X_wrk,y_wrk) \n",
    "\n",
    "classifier_model = logisticModel_wrk.named_steps['logisticregression']\n",
    "# sort these attributes and spit them out\n",
    "zip_vars = zip(classifier_model.coef_.T, data_wrk_df.columns) # combine attributes\n",
    "zip_vars = sorted(zip_vars)\n",
    "for coef, name in zip_vars:\n",
    "    print(name, 'has weight of', coef[0])\n",
    "\n",
    "plt.style.use('ggplot')\n",
    "plt.figure(figsize=(20,9))\n",
    "weights = pd.Series(classifier_model.coef_[0],index=X_wrk.columns)\n",
    "weights.plot(kind='bar')\n",
    "plt.show()"
   ]
  },
  {
   "cell_type": "code",
   "execution_count": 45,
   "metadata": {},
   "outputs": [],
   "source": [
    "X_lr = data_wrk_dropna_df.copy()\n",
    "X_lr.drop('y',axis=1 , inplace=True)\n",
    "y_lr=data_wrk_dropna_df['y'].values"
   ]
  },
  {
   "cell_type": "code",
   "execution_count": 46,
   "metadata": {},
   "outputs": [
    {
     "data": {
      "text/plain": [
       "LogisticRegression(C=1.0, class_weight=None, dual=False, fit_intercept=True,\n",
       "                   intercept_scaling=1, l1_ratio=None, max_iter=100,\n",
       "                   multi_class='warn', n_jobs=None, penalty='l2',\n",
       "                   random_state=None, solver='warn', tol=0.0001, verbose=0,\n",
       "                   warm_start=False)"
      ]
     },
     "execution_count": 46,
     "metadata": {},
     "output_type": "execute_result"
    }
   ],
   "source": [
    "from sklearn.linear_model import LogisticRegression\n",
    "from sklearn.model_selection import train_test_split\n",
    "import seaborn as sns\n",
    "sns.set(style=\"white\")\n",
    "sns.set(style=\"whitegrid\", color_codes=True)\n",
    "\n",
    "from sklearn import metrics\n",
    "X_train_lr, X_test_lr, y_train_lr, y_test_lr = train_test_split(X_lr, y_lr, test_size=0.3, random_state=0)\n",
    "logreg = LogisticRegression()\n",
    "logreg.fit(X_train_lr, y_train_lr)"
   ]
  },
  {
   "cell_type": "code",
   "execution_count": 47,
   "metadata": {},
   "outputs": [
    {
     "name": "stdout",
     "output_type": "stream",
     "text": [
      "Accuracy of logistic regression classifier on test set: 0.71\n"
     ]
    }
   ],
   "source": [
    "y_pred_lr = logreg.predict(X_test_lr)\n",
    "print('Accuracy of logistic regression classifier on test set: {:.2f}'.format(logreg.score(X_test_lr ,y_test_lr)))\n"
   ]
  },
  {
   "cell_type": "code",
   "execution_count": 48,
   "metadata": {},
   "outputs": [
    {
     "name": "stdout",
     "output_type": "stream",
     "text": [
      "[[18952  3884]\n",
      " [ 7261  7918]]\n"
     ]
    }
   ],
   "source": [
    "from sklearn.metrics import confusion_matrix\n",
    "confusion_matrix = confusion_matrix(y_test_lr, y_pred_lr)\n",
    "print(confusion_matrix)"
   ]
  },
  {
   "cell_type": "code",
   "execution_count": 49,
   "metadata": {},
   "outputs": [
    {
     "name": "stdout",
     "output_type": "stream",
     "text": [
      "              precision    recall  f1-score   support\n",
      "\n",
      "           0       0.72      0.83      0.77     22836\n",
      "           1       0.67      0.52      0.59     15179\n",
      "\n",
      "    accuracy                           0.71     38015\n",
      "   macro avg       0.70      0.68      0.68     38015\n",
      "weighted avg       0.70      0.71      0.70     38015\n",
      "\n"
     ]
    }
   ],
   "source": [
    "from sklearn.metrics import classification_report\n",
    "print(classification_report(y_test_lr, y_pred_lr))"
   ]
  },
  {
   "cell_type": "code",
   "execution_count": 50,
   "metadata": {},
   "outputs": [
    {
     "data": {
      "image/png": "[encoded data removed]",
      "text/plain": [
       "<Figure size 432x288 with 1 Axes>"
      ]
     },
     "metadata": {},
     "output_type": "display_data"
    }
   ],
   "source": [
    "from sklearn.metrics import roc_auc_score\n",
    "from sklearn.metrics import roc_curve\n",
    "logit_roc_auc = roc_auc_score(y_test_lr, logreg.predict(X_test_lr))\n",
    "fpr, tpr, thresholds = roc_curve(y_test_lr, logreg.predict_proba(X_test_lr)[:,1])\n",
    "plt.figure()\n",
    "plt.plot(fpr, tpr, label='Logistic Regression (area = %0.2f)' % logit_roc_auc)\n",
    "plt.plot([0, 1], [0, 1],'r--')\n",
    "plt.xlim([0.0, 1.0])\n",
    "plt.ylim([0.0, 1.05])\n",
    "plt.xlabel('False Positive Rate')\n",
    "plt.ylabel('True Positive Rate')\n",
    "plt.title('Receiver operating characteristic')\n",
    "plt.legend(loc=\"lower right\")\n",
    "plt.savefig('Log_ROC')\n",
    "plt.show()"
   ]
  },
  {
   "cell_type": "code",
   "execution_count": 51,
   "metadata": {},
   "outputs": [],
   "source": [
    "# Normalizing continuous variables\n",
    "\n",
    "from sklearn.preprocessing import MinMaxScaler\n",
    "\n",
    "scaler = MinMaxScaler(feature_range = (0,1))\n",
    "\n",
    "scaler.fit(X_train_lr)\n",
    "X_train_lr = scaler.transform(X_train_lr)\n",
    "X_test_lr = scaler.transform(X_test_lr)"
   ]
  },
  {
   "cell_type": "code",
   "execution_count": 52,
   "metadata": {},
   "outputs": [
    {
     "name": "stdout",
     "output_type": "stream",
     "text": [
      "Accuracy of logistic regression classifier on normalized test set: 0.71\n"
     ]
    }
   ],
   "source": [
    "logreg = LogisticRegression()\n",
    "logreg.fit(X_train_lr, y_train_lr)\n",
    "y_pred_lr = logreg.predict(X_test_lr)\n",
    "print('Accuracy of logistic regression classifier on normalized test set: {:.2f}'.format(logreg.score(X_test_lr ,y_test_lr)))"
   ]
  },
  {
   "cell_type": "code",
   "execution_count": 53,
   "metadata": {},
   "outputs": [
    {
     "data": {
      "text/plain": [
       "array([0, 0, 1, ..., 1, 1, 1])"
      ]
     },
     "execution_count": 53,
     "metadata": {},
     "output_type": "execute_result"
    }
   ],
   "source": [
    "y_pred_lr\n"
   ]
  },
  {
   "cell_type": "code",
   "execution_count": 54,
   "metadata": {},
   "outputs": [
    {
     "name": "stdout",
     "output_type": "stream",
     "text": [
      "[[18958  3878]\n",
      " [ 7265  7914]]\n",
      "              precision    recall  f1-score   support\n",
      "\n",
      "           0       0.72      0.83      0.77     22836\n",
      "           1       0.67      0.52      0.59     15179\n",
      "\n",
      "    accuracy                           0.71     38015\n",
      "   macro avg       0.70      0.68      0.68     38015\n",
      "weighted avg       0.70      0.71      0.70     38015\n",
      "\n"
     ]
    }
   ],
   "source": [
    "from sklearn.metrics import confusion_matrix\n",
    "confusion_matrix_lr = confusion_matrix(y_test_lr, y_pred_lr)\n",
    "print(confusion_matrix_lr)\n",
    "print(classification_report(y_test_lr, y_pred_lr))"
   ]
  },
  {
   "cell_type": "code",
   "execution_count": 55,
   "metadata": {},
   "outputs": [
    {
     "name": "stdout",
     "output_type": "stream",
     "text": [
      "Accuracy of logistic regression classifier on test set: 0.71\n",
      "[[16619  6217]\n",
      " [ 4760 10419]]\n",
      "              precision    recall  f1-score   support\n",
      "\n",
      "           0       0.78      0.73      0.75     22836\n",
      "           1       0.63      0.69      0.65     15179\n",
      "\n",
      "    accuracy                           0.71     38015\n",
      "   macro avg       0.70      0.71      0.70     38015\n",
      "weighted avg       0.72      0.71      0.71     38015\n",
      "\n"
     ]
    }
   ],
   "source": [
    "from sklearn.linear_model import LogisticRegression\n",
    "from sklearn.model_selection import train_test_split\n",
    "import seaborn as sns\n",
    "sns.set(style=\"white\")\n",
    "sns.set(style=\"whitegrid\", color_codes=True)\n",
    "\n",
    "from sklearn import metrics\n",
    "X_train_lr, X_test_lr, y_train_lr, y_test_lr = train_test_split(X_lr, y_lr, test_size=0.3, random_state=0)\n",
    "logreg = LogisticRegression(penalty='l1', dual=False, \n",
    "                           C=1, fit_intercept=True, intercept_scaling=1.0, \n",
    "                           class_weight='balanced', random_state=None)\n",
    "logreg.fit(X_train_lr, y_train_lr)\n",
    "y_pred_lr = logreg.predict(X_test_lr)\n",
    "print('Accuracy of logistic regression classifier on test set: {:.2f}'.format(logreg.score(X_test_lr ,y_test_lr)))\n",
    "confusion_matrix_lr = confusion_matrix(y_test_lr, y_pred_lr)\n",
    "print(confusion_matrix_lr)\n",
    "print(classification_report(y_test_lr, y_pred_lr))"
   ]
  },
  {
   "cell_type": "code",
   "execution_count": 56,
   "metadata": {},
   "outputs": [
    {
     "data": {
      "image/png": "[encoded data removed]",
      "text/plain": [
       "<Figure size 432x288 with 1 Axes>"
      ]
     },
     "metadata": {},
     "output_type": "display_data"
    }
   ],
   "source": [
    "from sklearn.metrics import roc_auc_score\n",
    "from sklearn.metrics import roc_curve\n",
    "logit_roc_auc = roc_auc_score(y_test_lr, logreg.predict(X_test_lr))\n",
    "fpr, tpr, thresholds = roc_curve(y_test_lr, logreg.predict_proba(X_test_lr)[:,1])\n",
    "plt.figure()\n",
    "plt.plot(fpr, tpr, label='Logistic Regression (area = %0.2f)' % logit_roc_auc)\n",
    "plt.plot([0, 1], [0, 1],'r--')\n",
    "plt.xlim([0.0, 1.0])\n",
    "plt.ylim([0.0, 1.05])\n",
    "plt.xlabel('False Positive Rate')\n",
    "plt.ylabel('True Positive Rate')\n",
    "plt.title('Receiver operating characteristic')\n",
    "plt.legend(loc=\"lower right\")\n",
    "plt.savefig('Log_ROC')\n",
    "plt.show()"
   ]
  },
  {
   "cell_type": "markdown",
   "metadata": {},
   "source": [
    "## Random Forest Classifier"
   ]
  },
  {
   "cell_type": "code",
   "execution_count": 57,
   "metadata": {},
   "outputs": [],
   "source": [
    "X_rf = data_wrk_dropna_df.copy()\n",
    "X_rf.drop('y',axis=1 , inplace=True)\n",
    "y_rf=data_wrk_dropna_df['y'].values"
   ]
  },
  {
   "cell_type": "code",
   "execution_count": 58,
   "metadata": {},
   "outputs": [
    {
     "name": "stdout",
     "output_type": "stream",
     "text": [
      "StratifiedShuffleSplit(n_splits=10, random_state=999, test_size=0.1,\n",
      "            train_size=None)\n"
     ]
    }
   ],
   "source": [
    "## Now create a stratified Shuffle split CV object\n",
    "from sklearn.model_selection import StratifiedShuffleSplit\n",
    "\n",
    "num_cv_iterations = 10\n",
    "stratified_cv_object = StratifiedShuffleSplit(n_splits=num_cv_iterations,\n",
    "                         test_size  = 0.1, random_state=999)\n",
    "                         \n",
    "print(stratified_cv_object)"
   ]
  },
  {
   "cell_type": "code",
   "execution_count": 59,
   "metadata": {},
   "outputs": [
    {
     "name": "stdout",
     "output_type": "stream",
     "text": [
      "StratifiedKFold(n_splits=10, random_state=999, shuffle=False)\n"
     ]
    }
   ],
   "source": [
    "from sklearn.model_selection import StratifiedKFold\n",
    "# To use the cross validation object in scikit learn, we need to grab an instance\n",
    "# of the object and set it up. This object will be able to split our data into\n",
    "# training and testing splits\n",
    "num_cv_iterations = 10\n",
    "stratifiedKfold_cv_object = StratifiedKFold(n_splits=num_cv_iterations, random_state=999)\n",
    "                        \n",
    "print(stratifiedKfold_cv_object)"
   ]
  },
  {
   "cell_type": "code",
   "execution_count": 60,
   "metadata": {},
   "outputs": [
    {
     "data": {
      "text/html": [
       "<div>\n",
       "<style scoped>\n",
       "    .dataframe tbody tr th:only-of-type {\n",
       "        vertical-align: middle;\n",
       "    }\n",
       "\n",
       "    .dataframe tbody tr th {\n",
       "        vertical-align: top;\n",
       "    }\n",
       "\n",
       "    .dataframe thead th {\n",
       "        text-align: right;\n",
       "    }\n",
       "</style>\n",
       "<table border=\"1\" class=\"dataframe\">\n",
       "  <thead>\n",
       "    <tr style=\"text-align: right;\">\n",
       "      <th></th>\n",
       "      <th>fit_time</th>\n",
       "      <th>score_time</th>\n",
       "      <th>test_F1_Score</th>\n",
       "      <th>test_AUC</th>\n",
       "      <th>test_Accuracy</th>\n",
       "      <th>test_Precision</th>\n",
       "      <th>test_Recall</th>\n",
       "    </tr>\n",
       "  </thead>\n",
       "  <tbody>\n",
       "    <tr>\n",
       "      <th>0</th>\n",
       "      <td>16.623601</td>\n",
       "      <td>0.635347</td>\n",
       "      <td>0.855739</td>\n",
       "      <td>0.954686</td>\n",
       "      <td>0.891098</td>\n",
       "      <td>0.913412</td>\n",
       "      <td>0.804916</td>\n",
       "    </tr>\n",
       "    <tr>\n",
       "      <th>1</th>\n",
       "      <td>16.555268</td>\n",
       "      <td>0.619655</td>\n",
       "      <td>0.852229</td>\n",
       "      <td>0.952569</td>\n",
       "      <td>0.888810</td>\n",
       "      <td>0.913034</td>\n",
       "      <td>0.799017</td>\n",
       "    </tr>\n",
       "    <tr>\n",
       "      <th>2</th>\n",
       "      <td>16.416169</td>\n",
       "      <td>0.646601</td>\n",
       "      <td>0.850110</td>\n",
       "      <td>0.954718</td>\n",
       "      <td>0.887547</td>\n",
       "      <td>0.913840</td>\n",
       "      <td>0.794690</td>\n",
       "    </tr>\n",
       "    <tr>\n",
       "      <th>3</th>\n",
       "      <td>16.491891</td>\n",
       "      <td>0.663362</td>\n",
       "      <td>0.855291</td>\n",
       "      <td>0.953459</td>\n",
       "      <td>0.890783</td>\n",
       "      <td>0.913150</td>\n",
       "      <td>0.804326</td>\n",
       "    </tr>\n",
       "    <tr>\n",
       "      <th>4</th>\n",
       "      <td>16.185413</td>\n",
       "      <td>0.681410</td>\n",
       "      <td>0.855789</td>\n",
       "      <td>0.953527</td>\n",
       "      <td>0.891888</td>\n",
       "      <td>0.920725</td>\n",
       "      <td>0.799410</td>\n",
       "    </tr>\n",
       "    <tr>\n",
       "      <th>5</th>\n",
       "      <td>16.543213</td>\n",
       "      <td>0.636638</td>\n",
       "      <td>0.859084</td>\n",
       "      <td>0.955175</td>\n",
       "      <td>0.893615</td>\n",
       "      <td>0.916983</td>\n",
       "      <td>0.808063</td>\n",
       "    </tr>\n",
       "    <tr>\n",
       "      <th>6</th>\n",
       "      <td>16.598927</td>\n",
       "      <td>0.625986</td>\n",
       "      <td>0.857978</td>\n",
       "      <td>0.952624</td>\n",
       "      <td>0.892668</td>\n",
       "      <td>0.914718</td>\n",
       "      <td>0.807866</td>\n",
       "    </tr>\n",
       "    <tr>\n",
       "      <th>7</th>\n",
       "      <td>16.701427</td>\n",
       "      <td>0.647733</td>\n",
       "      <td>0.852579</td>\n",
       "      <td>0.951035</td>\n",
       "      <td>0.888564</td>\n",
       "      <td>0.908747</td>\n",
       "      <td>0.802950</td>\n",
       "    </tr>\n",
       "    <tr>\n",
       "      <th>8</th>\n",
       "      <td>4.142811</td>\n",
       "      <td>0.629489</td>\n",
       "      <td>0.860271</td>\n",
       "      <td>0.954907</td>\n",
       "      <td>0.894247</td>\n",
       "      <td>0.915649</td>\n",
       "      <td>0.811209</td>\n",
       "    </tr>\n",
       "    <tr>\n",
       "      <th>9</th>\n",
       "      <td>4.192919</td>\n",
       "      <td>0.629126</td>\n",
       "      <td>0.856814</td>\n",
       "      <td>0.951964</td>\n",
       "      <td>0.891871</td>\n",
       "      <td>0.914139</td>\n",
       "      <td>0.806255</td>\n",
       "    </tr>\n",
       "  </tbody>\n",
       "</table>\n",
       "</div>"
      ],
      "text/plain": [
       "    fit_time  score_time  test_F1_Score  test_AUC  test_Accuracy  \\\n",
       "0  16.623601    0.635347       0.855739  0.954686       0.891098   \n",
       "1  16.555268    0.619655       0.852229  0.952569       0.888810   \n",
       "2  16.416169    0.646601       0.850110  0.954718       0.887547   \n",
       "3  16.491891    0.663362       0.855291  0.953459       0.890783   \n",
       "4  16.185413    0.681410       0.855789  0.953527       0.891888   \n",
       "5  16.543213    0.636638       0.859084  0.955175       0.893615   \n",
       "6  16.598927    0.625986       0.857978  0.952624       0.892668   \n",
       "7  16.701427    0.647733       0.852579  0.951035       0.888564   \n",
       "8   4.142811    0.629489       0.860271  0.954907       0.894247   \n",
       "9   4.192919    0.629126       0.856814  0.951964       0.891871   \n",
       "\n",
       "   test_Precision  test_Recall  \n",
       "0        0.913412     0.804916  \n",
       "1        0.913034     0.799017  \n",
       "2        0.913840     0.794690  \n",
       "3        0.913150     0.804326  \n",
       "4        0.920725     0.799410  \n",
       "5        0.916983     0.808063  \n",
       "6        0.914718     0.807866  \n",
       "7        0.908747     0.802950  \n",
       "8        0.915649     0.811209  \n",
       "9        0.914139     0.806255  "
      ]
     },
     "metadata": {},
     "output_type": "display_data"
    },
    {
     "name": "stdout",
     "output_type": "stream",
     "text": [
      "\n",
      " Mean values for Performance Metrices on Train Set are .......\n"
     ]
    },
    {
     "ename": "KeyError",
     "evalue": "\"['train_F1_Score' 'train_AUC' 'train_Accuracy' 'train_Precision'\\n 'train_Recall'] not in index\"",
     "output_type": "error",
     "traceback": [
      "\u001b[0;31m---------------------------------------------------------------------------\u001b[0m",
      "\u001b[0;31mKeyError\u001b[0m                                  Traceback (most recent call last)",
      "\u001b[0;32m<ipython-input-60-95456a7a036f>\u001b[0m in \u001b[0;36m<module>\u001b[0;34m()\u001b[0m\n\u001b[1;32m     20\u001b[0m \u001b[0;34m\u001b[0m\u001b[0m\n\u001b[1;32m     21\u001b[0m \u001b[0mprint\u001b[0m\u001b[0;34m(\u001b[0m\u001b[0;34m\"\\n Mean values for Performance Metrices on Train Set are .......\"\u001b[0m\u001b[0;34m)\u001b[0m\u001b[0;34m\u001b[0m\u001b[0;34m\u001b[0m\u001b[0m\n\u001b[0;32m---> 22\u001b[0;31m \u001b[0mdisplay\u001b[0m\u001b[0;34m(\u001b[0m\u001b[0mpd\u001b[0m\u001b[0;34m.\u001b[0m\u001b[0mDataFrame\u001b[0m\u001b[0;34m(\u001b[0m\u001b[0mpd\u001b[0m\u001b[0;34m.\u001b[0m\u001b[0mDataFrame\u001b[0m\u001b[0;34m(\u001b[0m\u001b[0mscores\u001b[0m\u001b[0;34m)\u001b[0m\u001b[0;34m[\u001b[0m\u001b[0mtrainCol\u001b[0m\u001b[0;34m]\u001b[0m\u001b[0;34m.\u001b[0m\u001b[0mmean\u001b[0m\u001b[0;34m(\u001b[0m\u001b[0;34m)\u001b[0m\u001b[0;34m)\u001b[0m\u001b[0;34m.\u001b[0m\u001b[0mT\u001b[0m\u001b[0;34m)\u001b[0m\u001b[0;34m\u001b[0m\u001b[0;34m\u001b[0m\u001b[0m\n\u001b[0m\u001b[1;32m     23\u001b[0m \u001b[0;34m\u001b[0m\u001b[0m\n\u001b[1;32m     24\u001b[0m \u001b[0;34m\u001b[0m\u001b[0m\n",
      "\u001b[0;32m/anaconda3/lib/python3.6/site-packages/pandas/core/frame.py\u001b[0m in \u001b[0;36m__getitem__\u001b[0;34m(self, key)\u001b[0m\n\u001b[1;32m   2677\u001b[0m         \u001b[0;32mif\u001b[0m \u001b[0misinstance\u001b[0m\u001b[0;34m(\u001b[0m\u001b[0mkey\u001b[0m\u001b[0;34m,\u001b[0m \u001b[0;34m(\u001b[0m\u001b[0mSeries\u001b[0m\u001b[0;34m,\u001b[0m \u001b[0mnp\u001b[0m\u001b[0;34m.\u001b[0m\u001b[0mndarray\u001b[0m\u001b[0;34m,\u001b[0m \u001b[0mIndex\u001b[0m\u001b[0;34m,\u001b[0m \u001b[0mlist\u001b[0m\u001b[0;34m)\u001b[0m\u001b[0;34m)\u001b[0m\u001b[0;34m:\u001b[0m\u001b[0;34m\u001b[0m\u001b[0;34m\u001b[0m\u001b[0m\n\u001b[1;32m   2678\u001b[0m             \u001b[0;31m# either boolean or fancy integer index\u001b[0m\u001b[0;34m\u001b[0m\u001b[0;34m\u001b[0m\u001b[0;34m\u001b[0m\u001b[0m\n\u001b[0;32m-> 2679\u001b[0;31m             \u001b[0;32mreturn\u001b[0m \u001b[0mself\u001b[0m\u001b[0;34m.\u001b[0m\u001b[0m_getitem_array\u001b[0m\u001b[0;34m(\u001b[0m\u001b[0mkey\u001b[0m\u001b[0;34m)\u001b[0m\u001b[0;34m\u001b[0m\u001b[0;34m\u001b[0m\u001b[0m\n\u001b[0m\u001b[1;32m   2680\u001b[0m         \u001b[0;32melif\u001b[0m \u001b[0misinstance\u001b[0m\u001b[0;34m(\u001b[0m\u001b[0mkey\u001b[0m\u001b[0;34m,\u001b[0m \u001b[0mDataFrame\u001b[0m\u001b[0;34m)\u001b[0m\u001b[0;34m:\u001b[0m\u001b[0;34m\u001b[0m\u001b[0;34m\u001b[0m\u001b[0m\n\u001b[1;32m   2681\u001b[0m             \u001b[0;32mreturn\u001b[0m \u001b[0mself\u001b[0m\u001b[0;34m.\u001b[0m\u001b[0m_getitem_frame\u001b[0m\u001b[0;34m(\u001b[0m\u001b[0mkey\u001b[0m\u001b[0;34m)\u001b[0m\u001b[0;34m\u001b[0m\u001b[0;34m\u001b[0m\u001b[0m\n",
      "\u001b[0;32m/anaconda3/lib/python3.6/site-packages/pandas/core/frame.py\u001b[0m in \u001b[0;36m_getitem_array\u001b[0;34m(self, key)\u001b[0m\n\u001b[1;32m   2721\u001b[0m             \u001b[0;32mreturn\u001b[0m \u001b[0mself\u001b[0m\u001b[0;34m.\u001b[0m\u001b[0m_take\u001b[0m\u001b[0;34m(\u001b[0m\u001b[0mindexer\u001b[0m\u001b[0;34m,\u001b[0m \u001b[0maxis\u001b[0m\u001b[0;34m=\u001b[0m\u001b[0;36m0\u001b[0m\u001b[0;34m)\u001b[0m\u001b[0;34m\u001b[0m\u001b[0;34m\u001b[0m\u001b[0m\n\u001b[1;32m   2722\u001b[0m         \u001b[0;32melse\u001b[0m\u001b[0;34m:\u001b[0m\u001b[0;34m\u001b[0m\u001b[0;34m\u001b[0m\u001b[0m\n\u001b[0;32m-> 2723\u001b[0;31m             \u001b[0mindexer\u001b[0m \u001b[0;34m=\u001b[0m \u001b[0mself\u001b[0m\u001b[0;34m.\u001b[0m\u001b[0mloc\u001b[0m\u001b[0;34m.\u001b[0m\u001b[0m_convert_to_indexer\u001b[0m\u001b[0;34m(\u001b[0m\u001b[0mkey\u001b[0m\u001b[0;34m,\u001b[0m \u001b[0maxis\u001b[0m\u001b[0;34m=\u001b[0m\u001b[0;36m1\u001b[0m\u001b[0;34m)\u001b[0m\u001b[0;34m\u001b[0m\u001b[0;34m\u001b[0m\u001b[0m\n\u001b[0m\u001b[1;32m   2724\u001b[0m             \u001b[0;32mreturn\u001b[0m \u001b[0mself\u001b[0m\u001b[0;34m.\u001b[0m\u001b[0m_take\u001b[0m\u001b[0;34m(\u001b[0m\u001b[0mindexer\u001b[0m\u001b[0;34m,\u001b[0m \u001b[0maxis\u001b[0m\u001b[0;34m=\u001b[0m\u001b[0;36m1\u001b[0m\u001b[0;34m)\u001b[0m\u001b[0;34m\u001b[0m\u001b[0;34m\u001b[0m\u001b[0m\n\u001b[1;32m   2725\u001b[0m \u001b[0;34m\u001b[0m\u001b[0m\n",
      "\u001b[0;32m/anaconda3/lib/python3.6/site-packages/pandas/core/indexing.py\u001b[0m in \u001b[0;36m_convert_to_indexer\u001b[0;34m(self, obj, axis, is_setter)\u001b[0m\n\u001b[1;32m   1325\u001b[0m                 \u001b[0;32mif\u001b[0m \u001b[0mmask\u001b[0m\u001b[0;34m.\u001b[0m\u001b[0many\u001b[0m\u001b[0;34m(\u001b[0m\u001b[0;34m)\u001b[0m\u001b[0;34m:\u001b[0m\u001b[0;34m\u001b[0m\u001b[0;34m\u001b[0m\u001b[0m\n\u001b[1;32m   1326\u001b[0m                     raise KeyError('{mask} not in index'\n\u001b[0;32m-> 1327\u001b[0;31m                                    .format(mask=objarr[mask]))\n\u001b[0m\u001b[1;32m   1328\u001b[0m \u001b[0;34m\u001b[0m\u001b[0m\n\u001b[1;32m   1329\u001b[0m                 \u001b[0;32mreturn\u001b[0m \u001b[0mcom\u001b[0m\u001b[0;34m.\u001b[0m\u001b[0m_values_from_object\u001b[0m\u001b[0;34m(\u001b[0m\u001b[0mindexer\u001b[0m\u001b[0;34m)\u001b[0m\u001b[0;34m\u001b[0m\u001b[0;34m\u001b[0m\u001b[0m\n",
      "\u001b[0;31mKeyError\u001b[0m: \"['train_F1_Score' 'train_AUC' 'train_Accuracy' 'train_Precision'\\n 'train_Recall'] not in index\""
     ]
    }
   ],
   "source": [
    "########## Random Forest ############################\n",
    "\n",
    "from sklearn.ensemble import RandomForestClassifier\n",
    "from sklearn.model_selection import cross_val_score, cross_validate\n",
    "from sklearn.metrics import make_scorer\n",
    "from sklearn.metrics import accuracy_score\n",
    "from sklearn.preprocessing import StandardScaler\n",
    "from sklearn.pipeline import make_pipeline\n",
    "\n",
    "testCol = ['test_F1_Score', 'test_AUC', 'test_Accuracy', 'test_Precision', 'test_Recall' ]\n",
    "trainCol = ['train_F1_Score', 'train_AUC', 'train_Accuracy', 'train_Precision', 'train_Recall' ]\n",
    "\n",
    "\n",
    "scoring = {'F1_Score': 'f1', 'AUC': 'roc_auc', 'Accuracy': make_scorer(accuracy_score), 'Precision': 'precision', \\\n",
    "          'Recall': 'recall'}\n",
    "\n",
    "baseRfModel = make_pipeline(StandardScaler(), RandomForestClassifier(random_state=999, n_jobs=-1))\n",
    "scores = cross_validate(baseRfModel, X_rf, y=y_rf, cv=stratifiedKfold_cv_object, n_jobs=-1, scoring=scoring)\n",
    "\n",
    "display(pd.DataFrame(scores))\n",
    "\n",
    "print(\"\\n Mean values for Performance Metrices on Train Set are .......\")\n",
    "display(pd.DataFrame(pd.DataFrame(scores)[trainCol].mean()).T)\n",
    "\n",
    "\n",
    "print(\"\\n Mean values for Performance Metrices on Test Set are .......\")\n",
    "display(pd.DataFrame(pd.DataFrame(scores)[testCol].mean()).T)\n",
    "\n",
    "rfInitialModelCVTestResults = pd.DataFrame(scores)[testCol].copy()"
   ]
  },
  {
   "cell_type": "code",
   "execution_count": 61,
   "metadata": {},
   "outputs": [
    {
     "data": {
      "text/plain": [
       "<matplotlib.axes._subplots.AxesSubplot at 0x1068846a0>"
      ]
     },
     "execution_count": 61,
     "metadata": {},
     "output_type": "execute_result"
    },
    {
     "data": {
      "image/png": "[encoded data removed]",
      "text/plain": [
       "<Figure size 432x288 with 1 Axes>"
      ]
     },
     "metadata": {},
     "output_type": "display_data"
    }
   ],
   "source": [
    "pd.DataFrame(scores)[testCol].boxplot()"
   ]
  },
  {
   "cell_type": "code",
   "execution_count": 62,
   "metadata": {},
   "outputs": [
    {
     "data": {
      "text/html": [
       "<div>\n",
       "<style scoped>\n",
       "    .dataframe tbody tr th:only-of-type {\n",
       "        vertical-align: middle;\n",
       "    }\n",
       "\n",
       "    .dataframe tbody tr th {\n",
       "        vertical-align: top;\n",
       "    }\n",
       "\n",
       "    .dataframe thead th {\n",
       "        text-align: right;\n",
       "    }\n",
       "</style>\n",
       "<table border=\"1\" class=\"dataframe\">\n",
       "  <thead>\n",
       "    <tr style=\"text-align: right;\">\n",
       "      <th></th>\n",
       "      <th>fit_time</th>\n",
       "      <th>score_time</th>\n",
       "      <th>test_F1_Score</th>\n",
       "      <th>test_AUC</th>\n",
       "      <th>test_Accuracy</th>\n",
       "      <th>test_Precision</th>\n",
       "      <th>test_Recall</th>\n",
       "    </tr>\n",
       "  </thead>\n",
       "  <tbody>\n",
       "    <tr>\n",
       "      <th>0</th>\n",
       "      <td>15.361146</td>\n",
       "      <td>0.656981</td>\n",
       "      <td>0.845635</td>\n",
       "      <td>0.950286</td>\n",
       "      <td>0.884470</td>\n",
       "      <td>0.911571</td>\n",
       "      <td>0.788594</td>\n",
       "    </tr>\n",
       "    <tr>\n",
       "      <th>1</th>\n",
       "      <td>15.341184</td>\n",
       "      <td>0.637599</td>\n",
       "      <td>0.857413</td>\n",
       "      <td>0.953431</td>\n",
       "      <td>0.893071</td>\n",
       "      <td>0.922137</td>\n",
       "      <td>0.801180</td>\n",
       "    </tr>\n",
       "    <tr>\n",
       "      <th>2</th>\n",
       "      <td>15.521063</td>\n",
       "      <td>0.635737</td>\n",
       "      <td>0.855610</td>\n",
       "      <td>0.955837</td>\n",
       "      <td>0.891651</td>\n",
       "      <td>0.919530</td>\n",
       "      <td>0.800000</td>\n",
       "    </tr>\n",
       "    <tr>\n",
       "      <th>3</th>\n",
       "      <td>15.456120</td>\n",
       "      <td>0.607762</td>\n",
       "      <td>0.858162</td>\n",
       "      <td>0.956338</td>\n",
       "      <td>0.893308</td>\n",
       "      <td>0.919721</td>\n",
       "      <td>0.804326</td>\n",
       "    </tr>\n",
       "    <tr>\n",
       "      <th>4</th>\n",
       "      <td>15.611901</td>\n",
       "      <td>0.624921</td>\n",
       "      <td>0.851750</td>\n",
       "      <td>0.953625</td>\n",
       "      <td>0.889047</td>\n",
       "      <td>0.918163</td>\n",
       "      <td>0.794297</td>\n",
       "    </tr>\n",
       "    <tr>\n",
       "      <th>5</th>\n",
       "      <td>15.477261</td>\n",
       "      <td>0.596909</td>\n",
       "      <td>0.851973</td>\n",
       "      <td>0.953774</td>\n",
       "      <td>0.888959</td>\n",
       "      <td>0.916063</td>\n",
       "      <td>0.796264</td>\n",
       "    </tr>\n",
       "    <tr>\n",
       "      <th>6</th>\n",
       "      <td>15.502225</td>\n",
       "      <td>0.641936</td>\n",
       "      <td>0.858431</td>\n",
       "      <td>0.955724</td>\n",
       "      <td>0.893458</td>\n",
       "      <td>0.919569</td>\n",
       "      <td>0.804916</td>\n",
       "    </tr>\n",
       "    <tr>\n",
       "      <th>7</th>\n",
       "      <td>15.558680</td>\n",
       "      <td>0.611456</td>\n",
       "      <td>0.848491</td>\n",
       "      <td>0.951910</td>\n",
       "      <td>0.886670</td>\n",
       "      <td>0.915320</td>\n",
       "      <td>0.790757</td>\n",
       "    </tr>\n",
       "    <tr>\n",
       "      <th>8</th>\n",
       "      <td>4.070307</td>\n",
       "      <td>0.629561</td>\n",
       "      <td>0.848766</td>\n",
       "      <td>0.954337</td>\n",
       "      <td>0.886828</td>\n",
       "      <td>0.915169</td>\n",
       "      <td>0.791347</td>\n",
       "    </tr>\n",
       "    <tr>\n",
       "      <th>9</th>\n",
       "      <td>4.041522</td>\n",
       "      <td>0.623615</td>\n",
       "      <td>0.855079</td>\n",
       "      <td>0.952216</td>\n",
       "      <td>0.890766</td>\n",
       "      <td>0.914241</td>\n",
       "      <td>0.803108</td>\n",
       "    </tr>\n",
       "  </tbody>\n",
       "</table>\n",
       "</div>"
      ],
      "text/plain": [
       "    fit_time  score_time  test_F1_Score  test_AUC  test_Accuracy  \\\n",
       "0  15.361146    0.656981       0.845635  0.950286       0.884470   \n",
       "1  15.341184    0.637599       0.857413  0.953431       0.893071   \n",
       "2  15.521063    0.635737       0.855610  0.955837       0.891651   \n",
       "3  15.456120    0.607762       0.858162  0.956338       0.893308   \n",
       "4  15.611901    0.624921       0.851750  0.953625       0.889047   \n",
       "5  15.477261    0.596909       0.851973  0.953774       0.888959   \n",
       "6  15.502225    0.641936       0.858431  0.955724       0.893458   \n",
       "7  15.558680    0.611456       0.848491  0.951910       0.886670   \n",
       "8   4.070307    0.629561       0.848766  0.954337       0.886828   \n",
       "9   4.041522    0.623615       0.855079  0.952216       0.890766   \n",
       "\n",
       "   test_Precision  test_Recall  \n",
       "0        0.911571     0.788594  \n",
       "1        0.922137     0.801180  \n",
       "2        0.919530     0.800000  \n",
       "3        0.919721     0.804326  \n",
       "4        0.918163     0.794297  \n",
       "5        0.916063     0.796264  \n",
       "6        0.919569     0.804916  \n",
       "7        0.915320     0.790757  \n",
       "8        0.915169     0.791347  \n",
       "9        0.914241     0.803108  "
      ]
     },
     "metadata": {},
     "output_type": "display_data"
    },
    {
     "name": "stdout",
     "output_type": "stream",
     "text": [
      "\n",
      " Mean values for Performance Metrices on Train Set are .......\n"
     ]
    },
    {
     "ename": "KeyError",
     "evalue": "\"['train_F1_Score' 'train_AUC' 'train_Accuracy' 'train_Precision'\\n 'train_Recall'] not in index\"",
     "output_type": "error",
     "traceback": [
      "\u001b[0;31m---------------------------------------------------------------------------\u001b[0m",
      "\u001b[0;31mKeyError\u001b[0m                                  Traceback (most recent call last)",
      "\u001b[0;32m<ipython-input-62-8a047815ca36>\u001b[0m in \u001b[0;36m<module>\u001b[0;34m()\u001b[0m\n\u001b[1;32m      7\u001b[0m \u001b[0;34m\u001b[0m\u001b[0m\n\u001b[1;32m      8\u001b[0m \u001b[0mprint\u001b[0m\u001b[0;34m(\u001b[0m\u001b[0;34m\"\\n Mean values for Performance Metrices on Train Set are .......\"\u001b[0m\u001b[0;34m)\u001b[0m\u001b[0;34m\u001b[0m\u001b[0;34m\u001b[0m\u001b[0m\n\u001b[0;32m----> 9\u001b[0;31m \u001b[0mdisplay\u001b[0m\u001b[0;34m(\u001b[0m\u001b[0mpd\u001b[0m\u001b[0;34m.\u001b[0m\u001b[0mDataFrame\u001b[0m\u001b[0;34m(\u001b[0m\u001b[0mpd\u001b[0m\u001b[0;34m.\u001b[0m\u001b[0mDataFrame\u001b[0m\u001b[0;34m(\u001b[0m\u001b[0mscores\u001b[0m\u001b[0;34m)\u001b[0m\u001b[0;34m[\u001b[0m\u001b[0mtrainCol\u001b[0m\u001b[0;34m]\u001b[0m\u001b[0;34m.\u001b[0m\u001b[0mmean\u001b[0m\u001b[0;34m(\u001b[0m\u001b[0;34m)\u001b[0m\u001b[0;34m)\u001b[0m\u001b[0;34m.\u001b[0m\u001b[0mT\u001b[0m\u001b[0;34m)\u001b[0m\u001b[0;34m\u001b[0m\u001b[0;34m\u001b[0m\u001b[0m\n\u001b[0m\u001b[1;32m     10\u001b[0m \u001b[0;34m\u001b[0m\u001b[0m\n\u001b[1;32m     11\u001b[0m \u001b[0;34m\u001b[0m\u001b[0m\n",
      "\u001b[0;32m/anaconda3/lib/python3.6/site-packages/pandas/core/frame.py\u001b[0m in \u001b[0;36m__getitem__\u001b[0;34m(self, key)\u001b[0m\n\u001b[1;32m   2677\u001b[0m         \u001b[0;32mif\u001b[0m \u001b[0misinstance\u001b[0m\u001b[0;34m(\u001b[0m\u001b[0mkey\u001b[0m\u001b[0;34m,\u001b[0m \u001b[0;34m(\u001b[0m\u001b[0mSeries\u001b[0m\u001b[0;34m,\u001b[0m \u001b[0mnp\u001b[0m\u001b[0;34m.\u001b[0m\u001b[0mndarray\u001b[0m\u001b[0;34m,\u001b[0m \u001b[0mIndex\u001b[0m\u001b[0;34m,\u001b[0m \u001b[0mlist\u001b[0m\u001b[0;34m)\u001b[0m\u001b[0;34m)\u001b[0m\u001b[0;34m:\u001b[0m\u001b[0;34m\u001b[0m\u001b[0;34m\u001b[0m\u001b[0m\n\u001b[1;32m   2678\u001b[0m             \u001b[0;31m# either boolean or fancy integer index\u001b[0m\u001b[0;34m\u001b[0m\u001b[0;34m\u001b[0m\u001b[0;34m\u001b[0m\u001b[0m\n\u001b[0;32m-> 2679\u001b[0;31m             \u001b[0;32mreturn\u001b[0m \u001b[0mself\u001b[0m\u001b[0;34m.\u001b[0m\u001b[0m_getitem_array\u001b[0m\u001b[0;34m(\u001b[0m\u001b[0mkey\u001b[0m\u001b[0;34m)\u001b[0m\u001b[0;34m\u001b[0m\u001b[0;34m\u001b[0m\u001b[0m\n\u001b[0m\u001b[1;32m   2680\u001b[0m         \u001b[0;32melif\u001b[0m \u001b[0misinstance\u001b[0m\u001b[0;34m(\u001b[0m\u001b[0mkey\u001b[0m\u001b[0;34m,\u001b[0m \u001b[0mDataFrame\u001b[0m\u001b[0;34m)\u001b[0m\u001b[0;34m:\u001b[0m\u001b[0;34m\u001b[0m\u001b[0;34m\u001b[0m\u001b[0m\n\u001b[1;32m   2681\u001b[0m             \u001b[0;32mreturn\u001b[0m \u001b[0mself\u001b[0m\u001b[0;34m.\u001b[0m\u001b[0m_getitem_frame\u001b[0m\u001b[0;34m(\u001b[0m\u001b[0mkey\u001b[0m\u001b[0;34m)\u001b[0m\u001b[0;34m\u001b[0m\u001b[0;34m\u001b[0m\u001b[0m\n",
      "\u001b[0;32m/anaconda3/lib/python3.6/site-packages/pandas/core/frame.py\u001b[0m in \u001b[0;36m_getitem_array\u001b[0;34m(self, key)\u001b[0m\n\u001b[1;32m   2721\u001b[0m             \u001b[0;32mreturn\u001b[0m \u001b[0mself\u001b[0m\u001b[0;34m.\u001b[0m\u001b[0m_take\u001b[0m\u001b[0;34m(\u001b[0m\u001b[0mindexer\u001b[0m\u001b[0;34m,\u001b[0m \u001b[0maxis\u001b[0m\u001b[0;34m=\u001b[0m\u001b[0;36m0\u001b[0m\u001b[0;34m)\u001b[0m\u001b[0;34m\u001b[0m\u001b[0;34m\u001b[0m\u001b[0m\n\u001b[1;32m   2722\u001b[0m         \u001b[0;32melse\u001b[0m\u001b[0;34m:\u001b[0m\u001b[0;34m\u001b[0m\u001b[0;34m\u001b[0m\u001b[0m\n\u001b[0;32m-> 2723\u001b[0;31m             \u001b[0mindexer\u001b[0m \u001b[0;34m=\u001b[0m \u001b[0mself\u001b[0m\u001b[0;34m.\u001b[0m\u001b[0mloc\u001b[0m\u001b[0;34m.\u001b[0m\u001b[0m_convert_to_indexer\u001b[0m\u001b[0;34m(\u001b[0m\u001b[0mkey\u001b[0m\u001b[0;34m,\u001b[0m \u001b[0maxis\u001b[0m\u001b[0;34m=\u001b[0m\u001b[0;36m1\u001b[0m\u001b[0;34m)\u001b[0m\u001b[0;34m\u001b[0m\u001b[0;34m\u001b[0m\u001b[0m\n\u001b[0m\u001b[1;32m   2724\u001b[0m             \u001b[0;32mreturn\u001b[0m \u001b[0mself\u001b[0m\u001b[0;34m.\u001b[0m\u001b[0m_take\u001b[0m\u001b[0;34m(\u001b[0m\u001b[0mindexer\u001b[0m\u001b[0;34m,\u001b[0m \u001b[0maxis\u001b[0m\u001b[0;34m=\u001b[0m\u001b[0;36m1\u001b[0m\u001b[0;34m)\u001b[0m\u001b[0;34m\u001b[0m\u001b[0;34m\u001b[0m\u001b[0m\n\u001b[1;32m   2725\u001b[0m \u001b[0;34m\u001b[0m\u001b[0m\n",
      "\u001b[0;32m/anaconda3/lib/python3.6/site-packages/pandas/core/indexing.py\u001b[0m in \u001b[0;36m_convert_to_indexer\u001b[0;34m(self, obj, axis, is_setter)\u001b[0m\n\u001b[1;32m   1325\u001b[0m                 \u001b[0;32mif\u001b[0m \u001b[0mmask\u001b[0m\u001b[0;34m.\u001b[0m\u001b[0many\u001b[0m\u001b[0;34m(\u001b[0m\u001b[0;34m)\u001b[0m\u001b[0;34m:\u001b[0m\u001b[0;34m\u001b[0m\u001b[0;34m\u001b[0m\u001b[0m\n\u001b[1;32m   1326\u001b[0m                     raise KeyError('{mask} not in index'\n\u001b[0;32m-> 1327\u001b[0;31m                                    .format(mask=objarr[mask]))\n\u001b[0m\u001b[1;32m   1328\u001b[0m \u001b[0;34m\u001b[0m\u001b[0m\n\u001b[1;32m   1329\u001b[0m                 \u001b[0;32mreturn\u001b[0m \u001b[0mcom\u001b[0m\u001b[0;34m.\u001b[0m\u001b[0m_values_from_object\u001b[0m\u001b[0;34m(\u001b[0m\u001b[0mindexer\u001b[0m\u001b[0;34m)\u001b[0m\u001b[0;34m\u001b[0m\u001b[0;34m\u001b[0m\u001b[0m\n",
      "\u001b[0;31mKeyError\u001b[0m: \"['train_F1_Score' 'train_AUC' 'train_Accuracy' 'train_Precision'\\n 'train_Recall'] not in index\""
     ]
    }
   ],
   "source": [
    "from sklearn.ensemble import RandomForestClassifier\n",
    "\n",
    "baseRfModel = make_pipeline(StandardScaler(), RandomForestClassifier(random_state=999, n_jobs=-1, class_weight='balanced'))\n",
    "scores = cross_validate(baseRfModel, X_rf, y=y_rf, cv=stratifiedKfold_cv_object, n_jobs=-1, scoring=scoring)\n",
    "\n",
    "display(pd.DataFrame(scores))\n",
    "\n",
    "print(\"\\n Mean values for Performance Metrices on Train Set are .......\")\n",
    "display(pd.DataFrame(pd.DataFrame(scores)[trainCol].mean()).T)\n",
    "\n",
    "\n",
    "print(\"\\n Mean values for Performance Metrices on Test Set are .......\")\n",
    "display(pd.DataFrame(pd.DataFrame(scores)[testCol].mean()).T)"
   ]
  },
  {
   "cell_type": "code",
   "execution_count": 63,
   "metadata": {},
   "outputs": [
    {
     "data": {
      "text/html": [
       "<div>\n",
       "<style scoped>\n",
       "    .dataframe tbody tr th:only-of-type {\n",
       "        vertical-align: middle;\n",
       "    }\n",
       "\n",
       "    .dataframe tbody tr th {\n",
       "        vertical-align: top;\n",
       "    }\n",
       "\n",
       "    .dataframe thead th {\n",
       "        text-align: right;\n",
       "    }\n",
       "</style>\n",
       "<table border=\"1\" class=\"dataframe\">\n",
       "  <thead>\n",
       "    <tr style=\"text-align: right;\">\n",
       "      <th></th>\n",
       "      <th>fit_time</th>\n",
       "      <th>score_time</th>\n",
       "      <th>test_F1_Score</th>\n",
       "      <th>test_AUC</th>\n",
       "      <th>test_Accuracy</th>\n",
       "      <th>test_Precision</th>\n",
       "      <th>test_Recall</th>\n",
       "    </tr>\n",
       "  </thead>\n",
       "  <tbody>\n",
       "    <tr>\n",
       "      <th>0</th>\n",
       "      <td>17.316747</td>\n",
       "      <td>0.619286</td>\n",
       "      <td>0.845714</td>\n",
       "      <td>0.949057</td>\n",
       "      <td>0.884943</td>\n",
       "      <td>0.915464</td>\n",
       "      <td>0.785841</td>\n",
       "    </tr>\n",
       "    <tr>\n",
       "      <th>1</th>\n",
       "      <td>17.214549</td>\n",
       "      <td>0.640904</td>\n",
       "      <td>0.845846</td>\n",
       "      <td>0.951452</td>\n",
       "      <td>0.884628</td>\n",
       "      <td>0.911798</td>\n",
       "      <td>0.788791</td>\n",
       "    </tr>\n",
       "    <tr>\n",
       "      <th>2</th>\n",
       "      <td>17.275202</td>\n",
       "      <td>0.616092</td>\n",
       "      <td>0.853325</td>\n",
       "      <td>0.954001</td>\n",
       "      <td>0.889994</td>\n",
       "      <td>0.917628</td>\n",
       "      <td>0.797443</td>\n",
       "    </tr>\n",
       "    <tr>\n",
       "      <th>3</th>\n",
       "      <td>17.089063</td>\n",
       "      <td>0.654557</td>\n",
       "      <td>0.853679</td>\n",
       "      <td>0.956635</td>\n",
       "      <td>0.890467</td>\n",
       "      <td>0.920018</td>\n",
       "      <td>0.796264</td>\n",
       "    </tr>\n",
       "    <tr>\n",
       "      <th>4</th>\n",
       "      <td>17.333224</td>\n",
       "      <td>0.613560</td>\n",
       "      <td>0.849481</td>\n",
       "      <td>0.953319</td>\n",
       "      <td>0.887942</td>\n",
       "      <td>0.921361</td>\n",
       "      <td>0.788004</td>\n",
       "    </tr>\n",
       "    <tr>\n",
       "      <th>5</th>\n",
       "      <td>17.286862</td>\n",
       "      <td>0.616198</td>\n",
       "      <td>0.850795</td>\n",
       "      <td>0.952268</td>\n",
       "      <td>0.888170</td>\n",
       "      <td>0.915684</td>\n",
       "      <td>0.794494</td>\n",
       "    </tr>\n",
       "    <tr>\n",
       "      <th>6</th>\n",
       "      <td>17.230563</td>\n",
       "      <td>0.645758</td>\n",
       "      <td>0.849668</td>\n",
       "      <td>0.952055</td>\n",
       "      <td>0.887538</td>\n",
       "      <td>0.916477</td>\n",
       "      <td>0.791937</td>\n",
       "    </tr>\n",
       "    <tr>\n",
       "      <th>7</th>\n",
       "      <td>17.302535</td>\n",
       "      <td>0.616774</td>\n",
       "      <td>0.850390</td>\n",
       "      <td>0.953441</td>\n",
       "      <td>0.888091</td>\n",
       "      <td>0.917369</td>\n",
       "      <td>0.792527</td>\n",
       "    </tr>\n",
       "    <tr>\n",
       "      <th>8</th>\n",
       "      <td>4.564978</td>\n",
       "      <td>0.617590</td>\n",
       "      <td>0.855072</td>\n",
       "      <td>0.955590</td>\n",
       "      <td>0.891090</td>\n",
       "      <td>0.917512</td>\n",
       "      <td>0.800590</td>\n",
       "    </tr>\n",
       "    <tr>\n",
       "      <th>9</th>\n",
       "      <td>4.396072</td>\n",
       "      <td>0.597825</td>\n",
       "      <td>0.852139</td>\n",
       "      <td>0.952921</td>\n",
       "      <td>0.888713</td>\n",
       "      <td>0.912624</td>\n",
       "      <td>0.799174</td>\n",
       "    </tr>\n",
       "  </tbody>\n",
       "</table>\n",
       "</div>"
      ],
      "text/plain": [
       "    fit_time  score_time  test_F1_Score  test_AUC  test_Accuracy  \\\n",
       "0  17.316747    0.619286       0.845714  0.949057       0.884943   \n",
       "1  17.214549    0.640904       0.845846  0.951452       0.884628   \n",
       "2  17.275202    0.616092       0.853325  0.954001       0.889994   \n",
       "3  17.089063    0.654557       0.853679  0.956635       0.890467   \n",
       "4  17.333224    0.613560       0.849481  0.953319       0.887942   \n",
       "5  17.286862    0.616198       0.850795  0.952268       0.888170   \n",
       "6  17.230563    0.645758       0.849668  0.952055       0.887538   \n",
       "7  17.302535    0.616774       0.850390  0.953441       0.888091   \n",
       "8   4.564978    0.617590       0.855072  0.955590       0.891090   \n",
       "9   4.396072    0.597825       0.852139  0.952921       0.888713   \n",
       "\n",
       "   test_Precision  test_Recall  \n",
       "0        0.915464     0.785841  \n",
       "1        0.911798     0.788791  \n",
       "2        0.917628     0.797443  \n",
       "3        0.920018     0.796264  \n",
       "4        0.921361     0.788004  \n",
       "5        0.915684     0.794494  \n",
       "6        0.916477     0.791937  \n",
       "7        0.917369     0.792527  \n",
       "8        0.917512     0.800590  \n",
       "9        0.912624     0.799174  "
      ]
     },
     "metadata": {},
     "output_type": "display_data"
    },
    {
     "name": "stdout",
     "output_type": "stream",
     "text": [
      "\n",
      " Mean values for Performance Metrices on Train Set are .......\n"
     ]
    },
    {
     "ename": "KeyError",
     "evalue": "\"['train_F1_Score' 'train_AUC' 'train_Accuracy' 'train_Precision'\\n 'train_Recall'] not in index\"",
     "output_type": "error",
     "traceback": [
      "\u001b[0;31m---------------------------------------------------------------------------\u001b[0m",
      "\u001b[0;31mKeyError\u001b[0m                                  Traceback (most recent call last)",
      "\u001b[0;32m<ipython-input-63-0cff807ab970>\u001b[0m in \u001b[0;36m<module>\u001b[0;34m()\u001b[0m\n\u001b[1;32m      7\u001b[0m \u001b[0;34m\u001b[0m\u001b[0m\n\u001b[1;32m      8\u001b[0m \u001b[0mprint\u001b[0m\u001b[0;34m(\u001b[0m\u001b[0;34m\"\\n Mean values for Performance Metrices on Train Set are .......\"\u001b[0m\u001b[0;34m)\u001b[0m\u001b[0;34m\u001b[0m\u001b[0;34m\u001b[0m\u001b[0m\n\u001b[0;32m----> 9\u001b[0;31m \u001b[0mdisplay\u001b[0m\u001b[0;34m(\u001b[0m\u001b[0mpd\u001b[0m\u001b[0;34m.\u001b[0m\u001b[0mDataFrame\u001b[0m\u001b[0;34m(\u001b[0m\u001b[0mpd\u001b[0m\u001b[0;34m.\u001b[0m\u001b[0mDataFrame\u001b[0m\u001b[0;34m(\u001b[0m\u001b[0mscores\u001b[0m\u001b[0;34m)\u001b[0m\u001b[0;34m[\u001b[0m\u001b[0mtrainCol\u001b[0m\u001b[0;34m]\u001b[0m\u001b[0;34m.\u001b[0m\u001b[0mmean\u001b[0m\u001b[0;34m(\u001b[0m\u001b[0;34m)\u001b[0m\u001b[0;34m)\u001b[0m\u001b[0;34m.\u001b[0m\u001b[0mT\u001b[0m\u001b[0;34m)\u001b[0m\u001b[0;34m\u001b[0m\u001b[0;34m\u001b[0m\u001b[0m\n\u001b[0m\u001b[1;32m     10\u001b[0m \u001b[0;34m\u001b[0m\u001b[0m\n\u001b[1;32m     11\u001b[0m \u001b[0;34m\u001b[0m\u001b[0m\n",
      "\u001b[0;32m/anaconda3/lib/python3.6/site-packages/pandas/core/frame.py\u001b[0m in \u001b[0;36m__getitem__\u001b[0;34m(self, key)\u001b[0m\n\u001b[1;32m   2677\u001b[0m         \u001b[0;32mif\u001b[0m \u001b[0misinstance\u001b[0m\u001b[0;34m(\u001b[0m\u001b[0mkey\u001b[0m\u001b[0;34m,\u001b[0m \u001b[0;34m(\u001b[0m\u001b[0mSeries\u001b[0m\u001b[0;34m,\u001b[0m \u001b[0mnp\u001b[0m\u001b[0;34m.\u001b[0m\u001b[0mndarray\u001b[0m\u001b[0;34m,\u001b[0m \u001b[0mIndex\u001b[0m\u001b[0;34m,\u001b[0m \u001b[0mlist\u001b[0m\u001b[0;34m)\u001b[0m\u001b[0;34m)\u001b[0m\u001b[0;34m:\u001b[0m\u001b[0;34m\u001b[0m\u001b[0;34m\u001b[0m\u001b[0m\n\u001b[1;32m   2678\u001b[0m             \u001b[0;31m# either boolean or fancy integer index\u001b[0m\u001b[0;34m\u001b[0m\u001b[0;34m\u001b[0m\u001b[0;34m\u001b[0m\u001b[0m\n\u001b[0;32m-> 2679\u001b[0;31m             \u001b[0;32mreturn\u001b[0m \u001b[0mself\u001b[0m\u001b[0;34m.\u001b[0m\u001b[0m_getitem_array\u001b[0m\u001b[0;34m(\u001b[0m\u001b[0mkey\u001b[0m\u001b[0;34m)\u001b[0m\u001b[0;34m\u001b[0m\u001b[0;34m\u001b[0m\u001b[0m\n\u001b[0m\u001b[1;32m   2680\u001b[0m         \u001b[0;32melif\u001b[0m \u001b[0misinstance\u001b[0m\u001b[0;34m(\u001b[0m\u001b[0mkey\u001b[0m\u001b[0;34m,\u001b[0m \u001b[0mDataFrame\u001b[0m\u001b[0;34m)\u001b[0m\u001b[0;34m:\u001b[0m\u001b[0;34m\u001b[0m\u001b[0;34m\u001b[0m\u001b[0m\n\u001b[1;32m   2681\u001b[0m             \u001b[0;32mreturn\u001b[0m \u001b[0mself\u001b[0m\u001b[0;34m.\u001b[0m\u001b[0m_getitem_frame\u001b[0m\u001b[0;34m(\u001b[0m\u001b[0mkey\u001b[0m\u001b[0;34m)\u001b[0m\u001b[0;34m\u001b[0m\u001b[0;34m\u001b[0m\u001b[0m\n",
      "\u001b[0;32m/anaconda3/lib/python3.6/site-packages/pandas/core/frame.py\u001b[0m in \u001b[0;36m_getitem_array\u001b[0;34m(self, key)\u001b[0m\n\u001b[1;32m   2721\u001b[0m             \u001b[0;32mreturn\u001b[0m \u001b[0mself\u001b[0m\u001b[0;34m.\u001b[0m\u001b[0m_take\u001b[0m\u001b[0;34m(\u001b[0m\u001b[0mindexer\u001b[0m\u001b[0;34m,\u001b[0m \u001b[0maxis\u001b[0m\u001b[0;34m=\u001b[0m\u001b[0;36m0\u001b[0m\u001b[0;34m)\u001b[0m\u001b[0;34m\u001b[0m\u001b[0;34m\u001b[0m\u001b[0m\n\u001b[1;32m   2722\u001b[0m         \u001b[0;32melse\u001b[0m\u001b[0;34m:\u001b[0m\u001b[0;34m\u001b[0m\u001b[0;34m\u001b[0m\u001b[0m\n\u001b[0;32m-> 2723\u001b[0;31m             \u001b[0mindexer\u001b[0m \u001b[0;34m=\u001b[0m \u001b[0mself\u001b[0m\u001b[0;34m.\u001b[0m\u001b[0mloc\u001b[0m\u001b[0;34m.\u001b[0m\u001b[0m_convert_to_indexer\u001b[0m\u001b[0;34m(\u001b[0m\u001b[0mkey\u001b[0m\u001b[0;34m,\u001b[0m \u001b[0maxis\u001b[0m\u001b[0;34m=\u001b[0m\u001b[0;36m1\u001b[0m\u001b[0;34m)\u001b[0m\u001b[0;34m\u001b[0m\u001b[0;34m\u001b[0m\u001b[0m\n\u001b[0m\u001b[1;32m   2724\u001b[0m             \u001b[0;32mreturn\u001b[0m \u001b[0mself\u001b[0m\u001b[0;34m.\u001b[0m\u001b[0m_take\u001b[0m\u001b[0;34m(\u001b[0m\u001b[0mindexer\u001b[0m\u001b[0;34m,\u001b[0m \u001b[0maxis\u001b[0m\u001b[0;34m=\u001b[0m\u001b[0;36m1\u001b[0m\u001b[0;34m)\u001b[0m\u001b[0;34m\u001b[0m\u001b[0;34m\u001b[0m\u001b[0m\n\u001b[1;32m   2725\u001b[0m \u001b[0;34m\u001b[0m\u001b[0m\n",
      "\u001b[0;32m/anaconda3/lib/python3.6/site-packages/pandas/core/indexing.py\u001b[0m in \u001b[0;36m_convert_to_indexer\u001b[0;34m(self, obj, axis, is_setter)\u001b[0m\n\u001b[1;32m   1325\u001b[0m                 \u001b[0;32mif\u001b[0m \u001b[0mmask\u001b[0m\u001b[0;34m.\u001b[0m\u001b[0many\u001b[0m\u001b[0;34m(\u001b[0m\u001b[0;34m)\u001b[0m\u001b[0;34m:\u001b[0m\u001b[0;34m\u001b[0m\u001b[0;34m\u001b[0m\u001b[0m\n\u001b[1;32m   1326\u001b[0m                     raise KeyError('{mask} not in index'\n\u001b[0;32m-> 1327\u001b[0;31m                                    .format(mask=objarr[mask]))\n\u001b[0m\u001b[1;32m   1328\u001b[0m \u001b[0;34m\u001b[0m\u001b[0m\n\u001b[1;32m   1329\u001b[0m                 \u001b[0;32mreturn\u001b[0m \u001b[0mcom\u001b[0m\u001b[0;34m.\u001b[0m\u001b[0m_values_from_object\u001b[0m\u001b[0;34m(\u001b[0m\u001b[0mindexer\u001b[0m\u001b[0;34m)\u001b[0m\u001b[0;34m\u001b[0m\u001b[0;34m\u001b[0m\u001b[0m\n",
      "\u001b[0;31mKeyError\u001b[0m: \"['train_F1_Score' 'train_AUC' 'train_Accuracy' 'train_Precision'\\n 'train_Recall'] not in index\""
     ]
    }
   ],
   "source": [
    "from sklearn.ensemble import RandomForestClassifier\n",
    "\n",
    "baseRfModel = make_pipeline(StandardScaler(), RandomForestClassifier(random_state=999, n_jobs=-1, class_weight='balanced_subsample'))\n",
    "scores = cross_validate(baseRfModel, X_rf, y=y_rf, cv=stratifiedKfold_cv_object, n_jobs=-1, scoring=scoring)\n",
    "\n",
    "display(pd.DataFrame(scores))\n",
    "\n",
    "print(\"\\n Mean values for Performance Metrices on Train Set are .......\")\n",
    "display(pd.DataFrame(pd.DataFrame(scores)[trainCol].mean()).T)\n",
    "\n",
    "\n",
    "print(\"\\n Mean values for Performance Metrices on Test Set are .......\")\n",
    "display(pd.DataFrame(pd.DataFrame(scores)[testCol].mean()).T)"
   ]
  },
  {
   "cell_type": "code",
   "execution_count": null,
   "metadata": {},
   "outputs": [],
   "source": [
    "#################################\n",
    "# Create randomized grid\n",
    "#################################\n",
    "\n",
    "# Number of trees in random forest\n",
    "n_estimators = [int(x) for x in np.linspace(start = 1, stop = 50, num = 10)]\n",
    "\n",
    "# Number of features to consider at every split\n",
    "max_features = ['auto', 'log2', 8, 9, 10]\n",
    "\n",
    "# Maximum number of levels in tree\n",
    "max_depth = [int(x) for x in np.linspace(2, 110, num = 11)]\n",
    "max_depth.append(None)\n",
    "\n",
    "# Minimum number of samples required to split a node\n",
    "min_samples_split = [2, 5, 10, 15]\n",
    "\n",
    "# Minimum number of samples required at each leaf node\n",
    "min_samples_leaf = [1, 2, 4]\n",
    "\n",
    "#Class weights\n",
    "class_weight = ['balanced', 'balanced_subsample', None]\n",
    "\n",
    "# Method of selecting samples for training each tree\n",
    "bootstrap = [True, False]\n",
    "\n",
    "# Create the random grid\n",
    "random_grid = {'randomforestclassifier__n_estimators': n_estimators,\n",
    "               'randomforestclassifier__max_features': max_features,\n",
    "               'randomforestclassifier__max_depth': max_depth,\n",
    "               'randomforestclassifier__min_samples_split': min_samples_split,\n",
    "               'randomforestclassifier__min_samples_leaf': min_samples_leaf,\n",
    "               'randomforestclassifier__class_weight': class_weight,\n",
    "               'randomforestclassifier__bootstrap': bootstrap}\n",
    "\n",
    "print(random_grid)"
   ]
  },
  {
   "cell_type": "code",
   "execution_count": null,
   "metadata": {},
   "outputs": [],
   "source": [
    "from sklearn.model_selection import RandomizedSearchCV\n",
    "#################################\n",
    "# Random Search Training\n",
    "#################################\n",
    "\n",
    "# Use the random grid to search for best hyperparameters\n",
    "# First create the base model to tune\n",
    "#rf = RandomForestClassifier() #Originally was this\n",
    "rf = make_pipeline(StandardScaler(), RandomForestClassifier(random_state=999, n_jobs=-1)) \n",
    "\n",
    "# Random search of parameters, using 3 fold cross validation, \n",
    "# search across 100 different combinations, and use all available cores\n",
    "rf_randomgrid = RandomizedSearchCV(estimator = rf, param_distributions = random_grid, \n",
    "                                   n_iter = 100, \n",
    "                                   cv = stratifiedKfold_cv_object,\n",
    "                                   verbose=2, \n",
    "                                   random_state=999, \n",
    "                                   n_jobs = -1,\n",
    "                                   scoring=scoring,\n",
    "                                   refit='F1_Score', \\\n",
    "                                   return_train_score=True)\n",
    "\n",
    "\n",
    "# Fit the random search model\n",
    "rf_randomgrid.fit(X_rf, y=y_rf)\n",
    "\n",
    "print(\"The best parameters are %s with a score of %0.2f\"\n",
    "      % (rf_randomgrid.best_params_, rf_randomgrid.best_score_))\n",
    "#rf_random.best_params_"
   ]
  },
  {
   "cell_type": "code",
   "execution_count": null,
   "metadata": {},
   "outputs": [],
   "source": [
    "finalRfModel = make_pipeline(StandardScaler(), RandomForestClassifier(random_state=999, n_jobs=-1, bootstrap = False, \\\n",
    "                                                                     class_weight = 'balanced_subsample', max_depth = 88, \\\n",
    "                                                                     max_features = 10, min_samples_leaf = 1, \\\n",
    "                                                                     min_samples_split = 5, n_estimators = 44 ))\n",
    "\n",
    "\n",
    "scores = cross_validate(finalRfModel, X_rf, y=y_rf, cv=stratified_cv_object, n_jobs=-1, scoring=scoring)\n",
    "\n",
    "display(pd.DataFrame(scores))\n",
    "\n",
    "print(\"\\n Mean values for Performance Metrices on Train Set are .......\")\n",
    "display(pd.DataFrame(pd.DataFrame(scores)[trainCol].mean()).T)\n",
    "\n",
    "\n",
    "print(\"\\n Mean values for Performance Metrices on Test Set are .......\")\n",
    "display(pd.DataFrame(pd.DataFrame(scores)[testCol].mean()).T)\n",
    "\n",
    "rfFinalModelCVTestResults = pd.DataFrame(scores)[testCol].copy()"
   ]
  },
  {
   "cell_type": "markdown",
   "metadata": {},
   "source": [
    "### Basic Neural net"
   ]
  },
  {
   "cell_type": "code",
   "execution_count": 64,
   "metadata": {},
   "outputs": [
    {
     "name": "stdout",
     "output_type": "stream",
     "text": [
      "Note: median values were scaled by multiplying by 0.0072739270 and adding 0.466971\n"
     ]
    }
   ],
   "source": [
    "from sklearn.preprocessing import MinMaxScaler\n",
    "\n",
    "X_nn = data_wrk_dropna_df.copy()\n",
    "X_nn.drop('y',axis=1 , inplace=True)\n",
    "y_nn=data_wrk_dropna_df['y'].values\n",
    "\n",
    "scaler = MinMaxScaler(feature_range=(0, 1))\n",
    "scaled_train = scaler.fit_transform(X_nn)\n",
    "\n",
    "# Print out the adjustment that the scaler applied to the total_earnings column of data\n",
    "print(\"Note: median values were scaled by multiplying by {:.10f} and adding {:.6f}\".format(scaler.scale_[12], scaler.min_[12]))\n",
    "multiplied_by = scaler.scale_[12]\n",
    "added = scaler.min_[12]\n",
    "\n",
    "scaled_train_df = pd.DataFrame(scaled_train, columns=X_nn.columns.values)"
   ]
  },
  {
   "cell_type": "code",
   "execution_count": 65,
   "metadata": {},
   "outputs": [
    {
     "name": "stdout",
     "output_type": "stream",
     "text": [
      "<class 'pandas.core.frame.DataFrame'>\n",
      "<class 'pandas.core.frame.DataFrame'>\n"
     ]
    }
   ],
   "source": [
    "print(type(scaled_train_df))\n",
    "print(type(X_nn))"
   ]
  },
  {
   "cell_type": "code",
   "execution_count": 66,
   "metadata": {},
   "outputs": [
    {
     "data": {
      "image/png": "[encoded data removed]",
      "text/plain": [
       "<Figure size 432x288 with 1 Axes>"
      ]
     },
     "metadata": {},
     "output_type": "display_data"
    },
    {
     "data": {
      "image/png": "[encoded data removed]",
      "text/plain": [
       "<Figure size 432x288 with 1 Axes>"
      ]
     },
     "metadata": {},
     "output_type": "display_data"
    },
    {
     "data": {
      "image/png": "[encoded data removed]",
      "text/plain": [
       "<Figure size 432x288 with 1 Axes>"
      ]
     },
     "metadata": {},
     "output_type": "display_data"
    },
    {
     "data": {
      "image/png": "[encoded data removed]",
      "text/plain": [
       "<Figure size 432x288 with 1 Axes>"
      ]
     },
     "metadata": {},
     "output_type": "display_data"
    },
    {
     "data": {
      "image/png": "[encoded data removed]",
      "text/plain": [
       "<Figure size 432x288 with 1 Axes>"
      ]
     },
     "metadata": {},
     "output_type": "display_data"
    },
    {
     "data": {
      "image/png": "[encoded data removed]",
      "text/plain": [
       "<Figure size 432x288 with 1 Axes>"
      ]
     },
     "metadata": {},
     "output_type": "display_data"
    },
    {
     "data": {
      "image/png": "[encoded data removed]",
      "text/plain": [
       "<Figure size 432x288 with 1 Axes>"
      ]
     },
     "metadata": {},
     "output_type": "display_data"
    },
    {
     "data": {
      "image/png": "[encoded data removed]",
      "text/plain": [
       "<Figure size 432x288 with 1 Axes>"
      ]
     },
     "metadata": {},
     "output_type": "display_data"
    },
    {
     "data": {
      "image/png": "[encoded data removed]",
      "text/plain": [
       "<Figure size 432x288 with 1 Axes>"
      ]
     },
     "metadata": {},
     "output_type": "display_data"
    },
    {
     "data": {
      "image/png": "[encoded data removed]",
      "text/plain": [
       "<Figure size 432x288 with 1 Axes>"
      ]
     },
     "metadata": {},
     "output_type": "display_data"
    },
    {
     "data": {
      "image/png": "[encoded data removed]",
      "text/plain": [
       "<Figure size 432x288 with 1 Axes>"
      ]
     },
     "metadata": {},
     "output_type": "display_data"
    },
    {
     "data": {
      "image/png": "[encoded data removed]",
      "text/plain": [
       "<Figure size 432x288 with 1 Axes>"
      ]
     },
     "metadata": {},
     "output_type": "display_data"
    },
    {
     "data": {
      "image/png": "[encoded data removed]",
      "text/plain": [
       "<Figure size 432x288 with 1 Axes>"
      ]
     },
     "metadata": {},
     "output_type": "display_data"
    },
    {
     "data": {
      "image/png": "[encoded data removed]",
      "text/plain": [
       "<Figure size 432x288 with 1 Axes>"
      ]
     },
     "metadata": {},
     "output_type": "display_data"
    },
    {
     "data": {
      "image/png": "[encoded data removed]",
      "text/plain": [
       "<Figure size 432x288 with 1 Axes>"
      ]
     },
     "metadata": {},
     "output_type": "display_data"
    },
    {
     "data": {
      "image/png": "[encoded data removed]",
      "text/plain": [
       "<Figure size 432x288 with 1 Axes>"
      ]
     },
     "metadata": {},
     "output_type": "display_data"
    },
    {
     "data": {
      "image/png": "[encoded data removed]",
      "text/plain": [
       "<Figure size 432x288 with 1 Axes>"
      ]
     },
     "metadata": {},
     "output_type": "display_data"
    },
    {
     "data": {
      "image/png": "[encoded data removed]",
      "text/plain": [
       "<Figure size 432x288 with 1 Axes>"
      ]
     },
     "metadata": {},
     "output_type": "display_data"
    },
    {
     "data": {
      "image/png": "[encoded data removed]",
      "text/plain": [
       "<Figure size 432x288 with 1 Axes>"
      ]
     },
     "metadata": {},
     "output_type": "display_data"
    },
    {
     "data": {
      "image/png": "[encoded data removed]",
      "text/plain": [
       "<Figure size 432x288 with 1 Axes>"
      ]
     },
     "metadata": {},
     "output_type": "display_data"
    },
    {
     "data": {
      "image/png": "[encoded data removed]",
      "text/plain": [
       "<Figure size 432x288 with 1 Axes>"
      ]
     },
     "metadata": {},
     "output_type": "display_data"
    },
    {
     "data": {
      "image/png": "[encoded data removed]",
      "text/plain": [
       "<Figure size 432x288 with 1 Axes>"
      ]
     },
     "metadata": {},
     "output_type": "display_data"
    },
    {
     "data": {
      "image/png": "[encoded data removed]",
      "text/plain": [
       "<Figure size 432x288 with 1 Axes>"
      ]
     },
     "metadata": {},
     "output_type": "display_data"
    },
    {
     "data": {
      "image/png": "[encoded data removed]",
      "text/plain": [
       "<Figure size 432x288 with 1 Axes>"
      ]
     },
     "metadata": {},
     "output_type": "display_data"
    },
    {
     "data": {
      "image/png": "[encoded data removed]",
      "text/plain": [
       "<Figure size 432x288 with 1 Axes>"
      ]
     },
     "metadata": {},
     "output_type": "display_data"
    },
    {
     "data": {
      "image/png": "[encoded data removed]",
      "text/plain": [
       "<Figure size 432x288 with 1 Axes>"
      ]
     },
     "metadata": {},
     "output_type": "display_data"
    },
    {
     "data": {
      "image/png": "[encoded data removed]",
      "text/plain": [
       "<Figure size 432x288 with 1 Axes>"
      ]
     },
     "metadata": {},
     "output_type": "display_data"
    },
    {
     "data": {
      "image/png": "[encoded data removed]",
      "text/plain": [
       "<Figure size 432x288 with 1 Axes>"
      ]
     },
     "metadata": {},
     "output_type": "display_data"
    },
    {
     "data": {
      "image/png": "[encoded data removed]",
      "text/plain": [
       "<Figure size 432x288 with 1 Axes>"
      ]
     },
     "metadata": {},
     "output_type": "display_data"
    },
    {
     "data": {
      "image/png": "[encoded data removed]",
      "text/plain": [
       "<Figure size 432x288 with 1 Axes>"
      ]
     },
     "metadata": {},
     "output_type": "display_data"
    },
    {
     "data": {
      "image/png": "[encoded data removed]",
      "text/plain": [
       "<Figure size 432x288 with 1 Axes>"
      ]
     },
     "metadata": {},
     "output_type": "display_data"
    },
    {
     "data": {
      "image/png": "[encoded data removed]",
      "text/plain": [
       "<Figure size 432x288 with 1 Axes>"
      ]
     },
     "metadata": {},
     "output_type": "display_data"
    },
    {
     "data": {
      "image/png": "[encoded data removed]",
      "text/plain": [
       "<Figure size 432x288 with 1 Axes>"
      ]
     },
     "metadata": {},
     "output_type": "display_data"
    },
    {
     "data": {
      "image/png": "[encoded data removed]",
      "text/plain": [
       "<Figure size 432x288 with 1 Axes>"
      ]
     },
     "metadata": {},
     "output_type": "display_data"
    },
    {
     "data": {
      "image/png": "[encoded data removed]",
      "text/plain": [
       "<Figure size 432x288 with 1 Axes>"
      ]
     },
     "metadata": {},
     "output_type": "display_data"
    },
    {
     "data": {
      "image/png": "[encoded data removed]",
      "text/plain": [
       "<Figure size 432x288 with 1 Axes>"
      ]
     },
     "metadata": {},
     "output_type": "display_data"
    },
    {
     "data": {
      "image/png": "[encoded data removed]",
      "text/plain": [
       "<Figure size 432x288 with 1 Axes>"
      ]
     },
     "metadata": {},
     "output_type": "display_data"
    },
    {
     "data": {
      "image/png": "[encoded data removed]",
      "text/plain": [
       "<Figure size 432x288 with 1 Axes>"
      ]
     },
     "metadata": {},
     "output_type": "display_data"
    },
    {
     "data": {
      "image/png": "[encoded data removed]",
      "text/plain": [
       "<Figure size 432x288 with 1 Axes>"
      ]
     },
     "metadata": {},
     "output_type": "display_data"
    },
    {
     "data": {
      "image/png": "[encoded data removed]",
      "text/plain": [
       "<Figure size 432x288 with 1 Axes>"
      ]
     },
     "metadata": {},
     "output_type": "display_data"
    },
    {
     "data": {
      "image/png": "[encoded data removed]",
      "text/plain": [
       "<Figure size 432x288 with 1 Axes>"
      ]
     },
     "metadata": {},
     "output_type": "display_data"
    },
    {
     "data": {
      "image/png": "[encoded data removed]",
      "text/plain": [
       "<Figure size 432x288 with 1 Axes>"
      ]
     },
     "metadata": {},
     "output_type": "display_data"
    },
    {
     "data": {
      "image/png": "[encoded data removed]",
      "text/plain": [
       "<Figure size 432x288 with 1 Axes>"
      ]
     },
     "metadata": {},
     "output_type": "display_data"
    },
    {
     "data": {
      "image/png": "[encoded data removed]",
      "text/plain": [
       "<Figure size 432x288 with 1 Axes>"
      ]
     },
     "metadata": {},
     "output_type": "display_data"
    },
    {
     "data": {
      "image/png": "[encoded data removed]",
      "text/plain": [
       "<Figure size 432x288 with 1 Axes>"
      ]
     },
     "metadata": {},
     "output_type": "display_data"
    },
    {
     "data": {
      "image/png": "[encoded data removed]",
      "text/plain": [
       "<Figure size 432x288 with 1 Axes>"
      ]
     },
     "metadata": {},
     "output_type": "display_data"
    },
    {
     "data": {
      "image/png": "[encoded data removed]",
      "text/plain": [
       "<Figure size 432x288 with 1 Axes>"
      ]
     },
     "metadata": {},
     "output_type": "display_data"
    },
    {
     "data": {
      "image/png": "[encoded data removed]",
      "text/plain": [
       "<Figure size 432x288 with 1 Axes>"
      ]
     },
     "metadata": {},
     "output_type": "display_data"
    },
    {
     "data": {
      "image/png": "[encoded data removed]",
      "text/plain": [
       "<Figure size 432x288 with 1 Axes>"
      ]
     },
     "metadata": {},
     "output_type": "display_data"
    },
    {
     "data": {
      "image/png": "[encoded data removed]",
      "text/plain": [
       "<Figure size 432x288 with 1 Axes>"
      ]
     },
     "metadata": {},
     "output_type": "display_data"
    },
    {
     "data": {
      "image/png": "[encoded data removed]",
      "text/plain": [
       "<Figure size 432x288 with 1 Axes>"
      ]
     },
     "metadata": {},
     "output_type": "display_data"
    },
    {
     "data": {
      "image/png": "[encoded data removed]",
      "text/plain": [
       "<Figure size 432x288 with 1 Axes>"
      ]
     },
     "metadata": {},
     "output_type": "display_data"
    },
    {
     "data": {
      "image/png": "[encoded data removed]",
      "text/plain": [
       "<Figure size 432x288 with 1 Axes>"
      ]
     },
     "metadata": {},
     "output_type": "display_data"
    },
    {
     "data": {
      "image/png": "[encoded data removed]",
      "text/plain": [
       "<Figure size 432x288 with 1 Axes>"
      ]
     },
     "metadata": {},
     "output_type": "display_data"
    },
    {
     "data": {
      "image/png": "[encoded data removed]",
      "text/plain": [
       "<Figure size 432x288 with 1 Axes>"
      ]
     },
     "metadata": {},
     "output_type": "display_data"
    },
    {
     "data": {
      "image/png": "[encoded data removed]",
      "text/plain": [
       "<Figure size 432x288 with 1 Axes>"
      ]
     },
     "metadata": {},
     "output_type": "display_data"
    },
    {
     "data": {
      "image/png": "[encoded data removed]",
      "text/plain": [
       "<Figure size 432x288 with 1 Axes>"
      ]
     },
     "metadata": {},
     "output_type": "display_data"
    },
    {
     "data": {
      "image/png": "[encoded data removed]",
      "text/plain": [
       "<Figure size 432x288 with 1 Axes>"
      ]
     },
     "metadata": {},
     "output_type": "display_data"
    },
    {
     "data": {
      "image/png": "[encoded data removed]",
      "text/plain": [
       "<Figure size 432x288 with 1 Axes>"
      ]
     },
     "metadata": {},
     "output_type": "display_data"
    },
    {
     "data": {
      "image/png": "[encoded data removed]",
      "text/plain": [
       "<Figure size 432x288 with 1 Axes>"
      ]
     },
     "metadata": {},
     "output_type": "display_data"
    },
    {
     "data": {
      "image/png": "[encoded data removed]",
      "text/plain": [
       "<Figure size 432x288 with 1 Axes>"
      ]
     },
     "metadata": {},
     "output_type": "display_data"
    },
    {
     "data": {
      "image/png": "[encoded data removed]",
      "text/plain": [
       "<Figure size 432x288 with 1 Axes>"
      ]
     },
     "metadata": {},
     "output_type": "display_data"
    },
    {
     "data": {
      "image/png": "[encoded data removed]",
      "text/plain": [
       "<Figure size 432x288 with 1 Axes>"
      ]
     },
     "metadata": {},
     "output_type": "display_data"
    },
    {
     "data": {
      "image/png": "[encoded data removed]",
      "text/plain": [
       "<Figure size 432x288 with 1 Axes>"
      ]
     },
     "metadata": {},
     "output_type": "display_data"
    }
   ],
   "source": [
    "for i in scaled_train_df:\n",
    "    scaled_train_df[i].hist()\n",
    "    plt.show()"
   ]
  },
  {
   "cell_type": "code",
   "execution_count": 67,
   "metadata": {},
   "outputs": [],
   "source": [
    "from sklearn.model_selection import train_test_split\n",
    "\n",
    "X_train_nn, X_test_nn, y_train_nn, y_test_nn = train_test_split(X_nn, y_nn, test_size=0.3, random_state=0)"
   ]
  },
  {
   "cell_type": "code",
   "execution_count": 68,
   "metadata": {},
   "outputs": [],
   "source": [
    "import tensorflow as tf\n",
    "from tensorflow.keras import layers \n",
    "\n",
    "from sklearn import metrics\n",
    "\n",
    "#from tensorflow.keras.regularizers import l2"
   ]
  },
  {
   "cell_type": "code",
   "execution_count": 69,
   "metadata": {},
   "outputs": [],
   "source": [
    "model_new = tf.keras.Sequential()\n",
    "model_new.add(layers.Dense(300, activation='relu'))\n",
    "model_new.add(layers.Dense(1,activation='sigmoid'))\n",
    "              \n",
    "\n"
   ]
  },
  {
   "cell_type": "code",
   "execution_count": 70,
   "metadata": {},
   "outputs": [
    {
     "name": "stdout",
     "output_type": "stream",
     "text": [
      "WARNING:tensorflow:From /anaconda3/lib/python3.6/site-packages/tensorflow/python/ops/resource_variable_ops.py:435: colocate_with (from tensorflow.python.framework.ops) is deprecated and will be removed in a future version.\n",
      "Instructions for updating:\n",
      "Colocations handled automatically by placer.\n"
     ]
    }
   ],
   "source": [
    "model_new.compile(loss='binary_crossentropy', optimizer='adam', metrics=['accuracy'])"
   ]
  },
  {
   "cell_type": "code",
   "execution_count": 71,
   "metadata": {},
   "outputs": [
    {
     "name": "stdout",
     "output_type": "stream",
     "text": [
      "Train on 62089 samples, validate on 26610 samples\n",
      "WARNING:tensorflow:From /anaconda3/lib/python3.6/site-packages/tensorflow/python/ops/math_ops.py:3066: to_int32 (from tensorflow.python.ops.math_ops) is deprecated and will be removed in a future version.\n",
      "Instructions for updating:\n",
      "Use tf.cast instead.\n",
      "Epoch 1/10\n",
      " - 1s - loss: 0.6485 - acc: 0.7493 - val_loss: 0.6256 - val_acc: 0.7467\n",
      "Epoch 2/10\n",
      " - 0s - loss: 0.5092 - acc: 0.7966 - val_loss: 0.5668 - val_acc: 0.7738\n",
      "Epoch 3/10\n",
      " - 0s - loss: 0.4295 - acc: 0.8247 - val_loss: 0.4300 - val_acc: 0.8219\n",
      "Epoch 4/10\n",
      " - 0s - loss: 0.4083 - acc: 0.8355 - val_loss: 0.4806 - val_acc: 0.8090\n",
      "Epoch 5/10\n",
      " - 1s - loss: 0.4372 - acc: 0.8362 - val_loss: 0.3693 - val_acc: 0.8511\n",
      "Epoch 6/10\n",
      " - 0s - loss: 0.3924 - acc: 0.8493 - val_loss: 0.3430 - val_acc: 0.8621\n",
      "Epoch 7/10\n",
      " - 0s - loss: 0.3882 - acc: 0.8510 - val_loss: 0.5654 - val_acc: 0.8108\n",
      "Epoch 8/10\n",
      " - 0s - loss: 0.3859 - acc: 0.8541 - val_loss: 0.3182 - val_acc: 0.8722\n",
      "Epoch 9/10\n",
      " - 0s - loss: 0.3866 - acc: 0.8568 - val_loss: 0.4600 - val_acc: 0.8399\n",
      "Epoch 10/10\n",
      " - 0s - loss: 0.3628 - acc: 0.8621 - val_loss: 0.3469 - val_acc: 0.8639\n"
     ]
    },
    {
     "data": {
      "text/plain": [
       "<tensorflow.python.keras.callbacks.History at 0x1a2a83da58>"
      ]
     },
     "execution_count": 71,
     "metadata": {},
     "output_type": "execute_result"
    }
   ],
   "source": [
    "model_new.fit(X_train_nn.values, y_train_nn, validation_split=0.3, epochs=10, batch_size=200,  verbose=2)"
   ]
  },
  {
   "cell_type": "code",
   "execution_count": 72,
   "metadata": {},
   "outputs": [
    {
     "name": "stdout",
     "output_type": "stream",
     "text": [
      "0.9372149527693181\n"
     ]
    }
   ],
   "source": [
    "predictions_adam = model_new.predict(np.asarray(X_test_nn.values))\n",
    "fpr_keras_adam, tpr_keras_adam, thresholds_keras_adam = metrics.roc_curve(y_test_nn,predictions_adam,pos_label=None)\n",
    "auc_keras_adam = metrics.auc(fpr_keras_adam, tpr_keras_adam)\n",
    "print(auc_keras_adam)"
   ]
  },
  {
   "cell_type": "code",
   "execution_count": 73,
   "metadata": {},
   "outputs": [
    {
     "data": {
      "image/png": "[encoded data removed]",
      "text/plain": [
       "<Figure size 432x288 with 1 Axes>"
      ]
     },
     "metadata": {},
     "output_type": "display_data"
    }
   ],
   "source": [
    "plt.figure(1)\n",
    "plt.plot([0, 1], 'k--')\n",
    "plt.plot(fpr_keras_adam, tpr_keras_adam, label='Keras (area = {:.3f})'.format(auc_keras_adam))\n",
    "plt.xlabel('False positive rate')\n",
    "plt.ylabel('True positive rate')\n",
    "plt.title('ROC curve')\n",
    "plt.legend(loc='best')\n",
    "plt.show()"
   ]
  },
  {
   "cell_type": "code",
   "execution_count": null,
   "metadata": {},
   "outputs": [],
   "source": []
  }
 ],
 "metadata": {
  "kernelspec": {
   "display_name": "Python 3",
   "language": "python",
   "name": "python3"
  },
  "language_info": {
   "codemirror_mode": {
    "name": "ipython",
    "version": 3
   },
   "file_extension": ".py",
   "mimetype": "text/x-python",
   "name": "python",
   "nbconvert_exporter": "python",
   "pygments_lexer": "ipython3",
   "version": "3.6.8"
  }
 },
 "nbformat": 4,
 "nbformat_minor": 2
}
