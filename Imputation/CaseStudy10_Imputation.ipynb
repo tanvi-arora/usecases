{
 "cells": [
  {
   "cell_type": "markdown",
   "metadata": {},
   "source": [
    "<h1><center>Case Study 10: Imputation</center></h1>\n",
    "<h3><center>Steven Cocke, Hannah Kosinovsky, Tanvi Arora</center></h3>\n",
    "<h3><center>November 2nd, 2019</center></h3>"
   ]
  },
  {
   "cell_type": "markdown",
   "metadata": {},
   "source": [
    "<h3><center>Abstract</center></h3>\n",
    "\n",
    "In this case study we study the affect of imputations on goodness of fit on a linear regressor."
   ]
  },
  {
   "cell_type": "markdown",
   "metadata": {},
   "source": [
    "<a id=\"intro\"></a>\n",
    "\n",
    "\n",
    "## 1 Introduction\n",
    "\n",
    "In statistics, Imputation is the process of replacing missing data with substituted values. There are a few problems that missing  data can cause :\n",
    "- missing data can introduce bias\n",
    "- make analysis of data more arduous\n",
    "- create reduction in efficiency\n",
    "\n",
    "Most of the statistical packages in any language , perform listwise deletion i.e. remove records with any null values thereby reducing power . Therefore imputation is a critical step in data preparation and also it is important ot impute with a value that will cause minimum change to the dataset, for example does not drastically change the variability of the data.\n",
    "\n",
    "The sklearn Boston dataset is used widely in regression and is a famous dataset from the 1970's. There are 506 instances and 14 attributes. Alongside with price, the dataset also provides information such as Crime(CRIM), areas of non-retail business in the town(INDUS), the age of people who own the house)AGE), etc. The dataset has no missing values and so as part of this case study we will introduce few nulls and try to impute them to compare the results of goodness of fit using regression.\n",
    "\n",
    "More about the dataset can be found below :\n",
    "\n",
    "<a href=\"#boston\">Boston dataset</a>\n"
   ]
  },
  {
   "cell_type": "markdown",
   "metadata": {},
   "source": [
    "<a id=\"methods\"></a>\n",
    "\n",
    "\n",
    "## 2 Methods\n",
    "\n",
    "\n",
    "\n",
    "1. Create a baseline\n",
    " Fit the data with linear regressor and calculate goodness of fit parameters. \n",
    " \n",
    " <a href=\"#baseline\">Baseline Method</a>\n",
    " \n",
    " For selecting the attribute to have missing values, we performed a basic RFE selection method to identify the attributes that contribute most to the prediction of the target variable i.e. price. We expected goodness of fit to be impacted more if these attributes would have nulls.\n",
    " \n",
    "2. Missing values Completely at Random ( CAR)\n",
    "For select between 1, 5 10, 20, 33, and 50% of your data on a single column (Completely at random), replace the present value with a NAN and then perform an imputation of that value.   In each case perform a fit with the imputed data and compare the loss and goodness of fit to your baseline.\n",
    "\n",
    " <a href=\"#car\">CAR Method</a>\n",
    "3. Missing values Missing at Random ( MAR )\n",
    "Take 2 different columns and create data “Missing at Random” when controlled for a third variable (i.e if Variable Z is > 30, than Variables X, Y are randomly missing).  Make runs with 10%, 20% and 30% missing data imputed via your best guess.  Repeat your fit and comparisons to the baseline.\n",
    "\n",
    " <a href=\"#mar\">MAR Method</a>\n",
    "4. Missing values Missing not at Random ( NAR )\n",
    "Create a Missing Not at Random pattern in which 25% of the data is missing for a single column.    Impute your data, fit the results and compare to a baseline.\n",
    "\n",
    " <a href=\"#nar\">NAR Method</a>\n",
    " \n",
    "\n",
    "**Assessing the fit of Regression Models**\n",
    "\n",
    "A well-fitting regression model results in predicted values close to the observed data values. We will use below 2 statistics for comparing our models :  \n",
    "\n",
    "**_RMSE_** - Root Mean Square Error is the square root of the variance of the residuals.It indicates the absolute fit of the model to the data-howclose the observed data points are to the model's predicted values.RMSE is an absolute measure of fit.Lower values of RMSE indicate better fit. RMSE is a good measure of how accurately the model predicts the response, and it is the most important criterion for fit if the main purpose of the model is prediction.\n",
    "\n",
    "\n",
    "**_R-squared_** - R-squared value of 0 indicates the proposed model does not improve prediction and one indicates perfect prediction. Improvement in the regression model results in proportional increases in R-squared. It can also increase as predictors are added to the regression model. This increase is artificial when predictors are not actually improving the model's fit. Since we have only 14 attributes and all models are using all attributes, we will use this statistic for comparison of our models.\n",
    "\n",
    "\n",
    "**Imputation Methods**\n",
    "\n",
    "The attributes of the boston dataset are numerical and we have chosen mean or median values to be used for imputation. On fetching the goodness of fit of the linear regressor post imputation, we did not see much difference with the original scores so although this will not be used, we performed an incorrect imputation of substituting nulls with a fixed value - zero.\n"
   ]
  },
  {
   "cell_type": "markdown",
   "metadata": {},
   "source": [
    "<a id=\"results\"></a>\n",
    "\n",
    "## 3 Results\n",
    "\n",
    "1. Create a baseline  \n",
    "\n",
    "<a href=\"#baseline_results\">Baseline Results</a>\n",
    "\n",
    "Baseline model where we predict prices (target variable) of the entire dataset as is using a linear regressor gave us **RMSE of 4.68** and **R2 score of 0.74**\n",
    "\n",
    "2. Missing values Completely at Random ( CAR)\n",
    "\n",
    "![car](images/car.png)\n",
    "\n",
    "<h4><center>Fig. 1 RMSE and R-squared scores for Imputation done for Completely at Random Missing Values</center></h4>\n",
    "\n",
    "From above Fig. 1,where missing Completely at Random type of missing values were at 1%,5%,10%,20%,33% and 50% of the total data values, we can see that although the trend of scores is similar whether we impute the values with a mean or a zero, the scores when imputation was performed for lower number of missing values i.e. 1%,5% or 10% was nearly equal to the scores of the baseline. But as we get more number of nulls, the score gets impacted negatively. RMSE scores went up anf R2 scores went down.\n",
    "\n",
    "<a href=\"#car_results\">CAR Results</a>\n",
    "\n",
    "3. Missing values Missing at Random ( MAR )\n",
    "\n",
    "![mar](images/mar.png)\n",
    "\n",
    "<h4><center>Fig. 2 RMSE and R-squared scores for Imputation done for Missing at Random Missing Values</center></h4>\n",
    "\n",
    "From above Fig. 2, where missing at Random type of missing values were at 10%,20% and 30% of the total data values, we can see that although the trend of scores is similar whether we impute the values with a mean or a zero, the scores when imputation was performed for lower number of missing values i.e. upto 10% was nearly equal to the scores of the baseline. But as we get more number of nulls i.e. for 20% and 30% , the score gets impacted negatively. RMSE scores went up anf R2 scores went down.\n",
    "\n",
    "<a href=\"#mar_results\">MAR Results</a>\n",
    "\n",
    "4. Missing values Missing not at Random ( NAR )\n",
    "\n",
    "![nar](images/nar.png)\n",
    "\n",
    "<h4><center>Fig. 3 RMSE and R-squared scores for Imputation done for Not Missing at Random Missing Values</center></h4>\n",
    "\n",
    "From above Fig. 3 , Not at random variables were found to be about 25% of the total data values.As seen in above trends, scores get impacted when missing values are more than 10%, so we can see both RMSE and R2 scores changed negatively.  \n",
    "\n",
    "<a href=\"#nar_results\">NAR Results</a>"
   ]
  },
  {
   "cell_type": "markdown",
   "metadata": {},
   "source": [
    "## 4 Conclusions\n",
    "\n",
    "From our analysis, we can see that although mean and median imputations performed similarly , the goodness of fit reduced as the number of missing values increases , seen where number of missing values is greater than 10% of the total data values. Imputing with a fixed value of zero may be done in a special case by case but mostly will not be done. We can see that imputing with a fixed value of zero impacted the scores more than imputing with a mean or median value which seemed to be an obvious choice of imputation here.\n"
   ]
  },
  {
   "cell_type": "markdown",
   "metadata": {},
   "source": [
    "## References\n",
    "\n",
    "RFE selector :\n",
    "\n",
    "https://towardsdatascience.com/getting-data-ready-for-modelling-feature-engineering-feature-selection-dimension-reduction-39dfa267b95a\n",
    "\n",
    "Statistics for assessing linear regressor : \n",
    "\n",
    "https://www.theanalysisfactor.com/assessing-the-fit-of-regression-models/\n"
   ]
  },
  {
   "cell_type": "markdown",
   "metadata": {},
   "source": [
    "## Code"
   ]
  },
  {
   "cell_type": "code",
   "execution_count": 16,
   "metadata": {},
   "outputs": [],
   "source": [
    "import numpy as np\n",
    "import pandas as pd\n",
    "\n",
    "#Visualization Libraries\n",
    "import seaborn as sns\n",
    "import matplotlib.pyplot as plt\n",
    "\n",
    "#To plot the graph embedded in the notebook\n",
    "%matplotlib inline\n",
    "\n",
    "from sklearn.linear_model import LinearRegression\n",
    "from sklearn.model_selection import train_test_split, cross_val_score\n",
    "from sklearn.metrics import mean_squared_error"
   ]
  },
  {
   "cell_type": "code",
   "execution_count": 1,
   "metadata": {},
   "outputs": [],
   "source": [
    "from sklearn import datasets"
   ]
  },
  {
   "cell_type": "markdown",
   "metadata": {},
   "source": [
    "<a id=\"boston\"></a>\n",
    "<a href=\"#intro\">Back to Introduction</a>\n",
    "\n",
    "\n",
    "### Boston dataset"
   ]
  },
  {
   "cell_type": "code",
   "execution_count": 2,
   "metadata": {},
   "outputs": [],
   "source": [
    "#loading the dataset direclty from sklearn\n",
    "boston = datasets.load_boston()"
   ]
  },
  {
   "cell_type": "code",
   "execution_count": 3,
   "metadata": {},
   "outputs": [
    {
     "name": "stdout",
     "output_type": "stream",
     "text": [
      "<class 'sklearn.utils.Bunch'>\n",
      "\n",
      "\n",
      "dict_keys(['data', 'target', 'feature_names', 'DESCR', 'filename'])\n",
      "\n",
      "\n",
      "(506, 13)\n",
      "\n",
      "\n",
      "['CRIM' 'ZN' 'INDUS' 'CHAS' 'NOX' 'RM' 'AGE' 'DIS' 'RAD' 'TAX' 'PTRATIO'\n",
      " 'B' 'LSTAT']\n"
     ]
    }
   ],
   "source": [
    "print(type(boston))\n",
    "print('\\n')\n",
    "print(boston.keys())\n",
    "print('\\n')\n",
    "print(boston.data.shape)\n",
    "print('\\n')\n",
    "print(boston.feature_names)"
   ]
  },
  {
   "cell_type": "code",
   "execution_count": 4,
   "metadata": {},
   "outputs": [
    {
     "name": "stdout",
     "output_type": "stream",
     "text": [
      ".. _boston_dataset:\n",
      "\n",
      "Boston house prices dataset\n",
      "---------------------------\n",
      "\n",
      "**Data Set Characteristics:**  \n",
      "\n",
      "    :Number of Instances: 506 \n",
      "\n",
      "    :Number of Attributes: 13 numeric/categorical predictive. Median Value (attribute 14) is usually the target.\n",
      "\n",
      "    :Attribute Information (in order):\n",
      "        - CRIM     per capita crime rate by town\n",
      "        - ZN       proportion of residential land zoned for lots over 25,000 sq.ft.\n",
      "        - INDUS    proportion of non-retail business acres per town\n",
      "        - CHAS     Charles River dummy variable (= 1 if tract bounds river; 0 otherwise)\n",
      "        - NOX      nitric oxides concentration (parts per 10 million)\n",
      "        - RM       average number of rooms per dwelling\n",
      "        - AGE      proportion of owner-occupied units built prior to 1940\n",
      "        - DIS      weighted distances to five Boston employment centres\n",
      "        - RAD      index of accessibility to radial highways\n",
      "        - TAX      full-value property-tax rate per $10,000\n",
      "        - PTRATIO  pupil-teacher ratio by town\n",
      "        - B        1000(Bk - 0.63)^2 where Bk is the proportion of blacks by town\n",
      "        - LSTAT    % lower status of the population\n",
      "        - MEDV     Median value of owner-occupied homes in $1000's\n",
      "\n",
      "    :Missing Attribute Values: None\n",
      "\n",
      "    :Creator: Harrison, D. and Rubinfeld, D.L.\n",
      "\n",
      "This is a copy of UCI ML housing dataset.\n",
      "https://archive.ics.uci.edu/ml/machine-learning-databases/housing/\n",
      "\n",
      "\n",
      "This dataset was taken from the StatLib library which is maintained at Carnegie Mellon University.\n",
      "\n",
      "The Boston house-price data of Harrison, D. and Rubinfeld, D.L. 'Hedonic\n",
      "prices and the demand for clean air', J. Environ. Economics & Management,\n",
      "vol.5, 81-102, 1978.   Used in Belsley, Kuh & Welsch, 'Regression diagnostics\n",
      "...', Wiley, 1980.   N.B. Various transformations are used in the table on\n",
      "pages 244-261 of the latter.\n",
      "\n",
      "The Boston house-price data has been used in many machine learning papers that address regression\n",
      "problems.   \n",
      "     \n",
      ".. topic:: References\n",
      "\n",
      "   - Belsley, Kuh & Welsch, 'Regression diagnostics: Identifying Influential Data and Sources of Collinearity', Wiley, 1980. 244-261.\n",
      "   - Quinlan,R. (1993). Combining Instance-Based and Model-Based Learning. In Proceedings on the Tenth International Conference of Machine Learning, 236-243, University of Massachusetts, Amherst. Morgan Kaufmann.\n",
      "\n"
     ]
    }
   ],
   "source": [
    "print(boston.DESCR)"
   ]
  },
  {
   "cell_type": "code",
   "execution_count": 110,
   "metadata": {},
   "outputs": [
    {
     "name": "stdout",
     "output_type": "stream",
     "text": [
      "      CRIM    ZN  INDUS  CHAS    NOX     RM   AGE     DIS  RAD    TAX  \\\n",
      "0  0.00632  18.0   2.31   0.0  0.538  6.575  65.2  4.0900  1.0  296.0   \n",
      "1  0.02731   0.0   7.07   0.0  0.469  6.421  78.9  4.9671  2.0  242.0   \n",
      "2  0.02729   0.0   7.07   0.0  0.469  7.185  61.1  4.9671  2.0  242.0   \n",
      "3  0.03237   0.0   2.18   0.0  0.458  6.998  45.8  6.0622  3.0  222.0   \n",
      "4  0.06905   0.0   2.18   0.0  0.458  7.147  54.2  6.0622  3.0  222.0   \n",
      "\n",
      "   PTRATIO       B  LSTAT  PRICE  \n",
      "0     15.3  396.90   4.98   24.0  \n",
      "1     17.8  396.90   9.14   21.6  \n",
      "2     17.8  392.83   4.03   34.7  \n",
      "3     18.7  394.63   2.94   33.4  \n",
      "4     18.7  396.90   5.33   36.2  \n"
     ]
    }
   ],
   "source": [
    "bos = pd.DataFrame(boston.data, columns = boston.feature_names)\n",
    "bos['PRICE'] = boston.target\n",
    "\n",
    "print(bos.head())\n"
   ]
  },
  {
   "cell_type": "code",
   "execution_count": 111,
   "metadata": {},
   "outputs": [
    {
     "data": {
      "text/plain": [
       "CRIM       0\n",
       "ZN         0\n",
       "INDUS      0\n",
       "CHAS       0\n",
       "NOX        0\n",
       "RM         0\n",
       "AGE        0\n",
       "DIS        0\n",
       "RAD        0\n",
       "TAX        0\n",
       "PTRATIO    0\n",
       "B          0\n",
       "LSTAT      0\n",
       "PRICE      0\n",
       "dtype: int64"
      ]
     },
     "execution_count": 111,
     "metadata": {},
     "output_type": "execute_result"
    }
   ],
   "source": [
    "bos.isnull().sum()"
   ]
  },
  {
   "cell_type": "code",
   "execution_count": 112,
   "metadata": {},
   "outputs": [
    {
     "name": "stdout",
     "output_type": "stream",
     "text": [
      "             CRIM          ZN       INDUS        CHAS         NOX          RM  \\\n",
      "count  506.000000  506.000000  506.000000  506.000000  506.000000  506.000000   \n",
      "mean     3.613524   11.363636   11.136779    0.069170    0.554695    6.284634   \n",
      "std      8.601545   23.322453    6.860353    0.253994    0.115878    0.702617   \n",
      "min      0.006320    0.000000    0.460000    0.000000    0.385000    3.561000   \n",
      "25%      0.082045    0.000000    5.190000    0.000000    0.449000    5.885500   \n",
      "50%      0.256510    0.000000    9.690000    0.000000    0.538000    6.208500   \n",
      "75%      3.677083   12.500000   18.100000    0.000000    0.624000    6.623500   \n",
      "max     88.976200  100.000000   27.740000    1.000000    0.871000    8.780000   \n",
      "\n",
      "              AGE         DIS         RAD         TAX     PTRATIO           B  \\\n",
      "count  506.000000  506.000000  506.000000  506.000000  506.000000  506.000000   \n",
      "mean    68.574901    3.795043    9.549407  408.237154   18.455534  356.674032   \n",
      "std     28.148861    2.105710    8.707259  168.537116    2.164946   91.294864   \n",
      "min      2.900000    1.129600    1.000000  187.000000   12.600000    0.320000   \n",
      "25%     45.025000    2.100175    4.000000  279.000000   17.400000  375.377500   \n",
      "50%     77.500000    3.207450    5.000000  330.000000   19.050000  391.440000   \n",
      "75%     94.075000    5.188425   24.000000  666.000000   20.200000  396.225000   \n",
      "max    100.000000   12.126500   24.000000  711.000000   22.000000  396.900000   \n",
      "\n",
      "            LSTAT       PRICE  \n",
      "count  506.000000  506.000000  \n",
      "mean    12.653063   22.532806  \n",
      "std      7.141062    9.197104  \n",
      "min      1.730000    5.000000  \n",
      "25%      6.950000   17.025000  \n",
      "50%     11.360000   21.200000  \n",
      "75%     16.955000   25.000000  \n",
      "max     37.970000   50.000000  \n"
     ]
    }
   ],
   "source": [
    "print(bos.describe())"
   ]
  },
  {
   "cell_type": "code",
   "execution_count": 13,
   "metadata": {},
   "outputs": [
    {
     "data": {
      "text/plain": [
       "<matplotlib.axes._subplots.AxesSubplot at 0x1a1c4c61d0>"
      ]
     },
     "execution_count": 13,
     "metadata": {},
     "output_type": "execute_result"
    },
    {
     "data": {
      "image/png": "[encoded data removed]",
      "text/plain": [
       "<Figure size 432x288 with 2 Axes>"
      ]
     },
     "metadata": {
      "needs_background": "light"
     },
     "output_type": "display_data"
    }
   ],
   "source": [
    "\n",
    "#Created a dataframe without the price col, since we need to see the correlation between the variables\n",
    "bos_1 = pd.DataFrame(boston.data, columns = boston.feature_names)\n",
    "\n",
    "correlation_matrix = bos_1.corr().round(2)\n",
    "sns.heatmap(data=correlation_matrix, annot=True)"
   ]
  },
  {
   "cell_type": "markdown",
   "metadata": {},
   "source": [
    "From above correlation map, RAD and TAX are highly correlated (0.91) . DIS and AGE also show high correlation of -0.75"
   ]
  },
  {
   "cell_type": "code",
   "execution_count": 14,
   "metadata": {},
   "outputs": [
    {
     "data": {
      "image/png": "[encoded data removed]",
      "text/plain": [
       "<Figure size 842.4x595.44 with 1 Axes>"
      ]
     },
     "metadata": {},
     "output_type": "display_data"
    }
   ],
   "source": [
    "sns.set(rc={'figure.figsize':(11.7,8.27)})\n",
    "plt.hist(bos['PRICE'], bins=30)\n",
    "plt.xlabel(\"House prices in $1000\")\n",
    "plt.show()"
   ]
  },
  {
   "cell_type": "markdown",
   "metadata": {},
   "source": [
    "<a id=\"baseline\"></a>\n",
    "<a href=\"#methods\">Back to Methods</a>\n",
    "\n",
    "### Goodness of Fit for entire boston dataset"
   ]
  },
  {
   "cell_type": "code",
   "execution_count": 113,
   "metadata": {},
   "outputs": [],
   "source": [
    "X_train_all=bos.drop(['PRICE'],axis=1)\n",
    "X_train_all.head()\n",
    "Y_train_all=bos['PRICE']"
   ]
  },
  {
   "cell_type": "markdown",
   "metadata": {},
   "source": [
    "<a id=\"baseline_results\"></a>\n",
    "<a href=\"#results\">Back to Results</a>"
   ]
  },
  {
   "cell_type": "code",
   "execution_count": 114,
   "metadata": {},
   "outputs": [
    {
     "name": "stdout",
     "output_type": "stream",
     "text": [
      "The model performance for training set\n",
      "--------------------------------------\n",
      "RMSE is 4.679191295697282\n",
      "R2 score is 0.74\n",
      "\n",
      "\n"
     ]
    }
   ],
   "source": [
    "\n",
    "\n",
    "reg_1 = LinearRegression()\n",
    "reg_1.fit(X_train_all, Y_train_all)\n",
    "\n",
    "y_train_predict_all = reg_1.predict(X_train_all)\n",
    "rmse_all = (np.sqrt(mean_squared_error(Y_train_all, y_train_predict_all)))\n",
    "r2_all = round(reg_1.score(X_train_all, Y_train_all),2)\n",
    "\n",
    "print(\"The model performance for training set\")\n",
    "print(\"--------------------------------------\")\n",
    "print('RMSE is {}'.format(rmse_all))\n",
    "print('R2 score is {}'.format(r2_all))\n",
    "print(\"\\n\")"
   ]
  },
  {
   "cell_type": "code",
   "execution_count": 231,
   "metadata": {},
   "outputs": [
    {
     "name": "stdout",
     "output_type": "stream",
     "text": [
      "[False False False  True  True  True False  True False False  True False\n",
      "  True]\n",
      "[3 5 4 1 1 1 8 1 2 6 1 7 1]\n"
     ]
    }
   ],
   "source": [
    "from sklearn.feature_selection import RFE\n",
    "# create the RFE model and select 3 attributes\n",
    "rfe = RFE(reg_1)\n",
    "rfe = rfe.fit(X_train_all, Y_train_all)\n",
    "# summarize the selection of the attributes\n",
    "print(rfe.support_)\n",
    "print(rfe.ranking_)"
   ]
  },
  {
   "cell_type": "code",
   "execution_count": 245,
   "metadata": {},
   "outputs": [
    {
     "name": "stdout",
     "output_type": "stream",
     "text": [
      "<class 'list'>\n",
      "<class 'list'>\n"
     ]
    },
    {
     "data": {
      "text/html": [
       "<div>\n",
       "<style scoped>\n",
       "    .dataframe tbody tr th:only-of-type {\n",
       "        vertical-align: middle;\n",
       "    }\n",
       "\n",
       "    .dataframe tbody tr th {\n",
       "        vertical-align: top;\n",
       "    }\n",
       "\n",
       "    .dataframe thead th {\n",
       "        text-align: right;\n",
       "    }\n",
       "</style>\n",
       "<table border=\"1\" class=\"dataframe\">\n",
       "  <thead>\n",
       "    <tr style=\"text-align: right;\">\n",
       "      <th></th>\n",
       "      <th>columnname</th>\n",
       "      <th>ranking</th>\n",
       "    </tr>\n",
       "  </thead>\n",
       "  <tbody>\n",
       "    <tr>\n",
       "      <th>0</th>\n",
       "      <td>CRIM</td>\n",
       "      <td>3</td>\n",
       "    </tr>\n",
       "    <tr>\n",
       "      <th>1</th>\n",
       "      <td>ZN</td>\n",
       "      <td>5</td>\n",
       "    </tr>\n",
       "    <tr>\n",
       "      <th>2</th>\n",
       "      <td>INDUS</td>\n",
       "      <td>4</td>\n",
       "    </tr>\n",
       "    <tr>\n",
       "      <th>3</th>\n",
       "      <td>CHAS</td>\n",
       "      <td>1</td>\n",
       "    </tr>\n",
       "    <tr>\n",
       "      <th>4</th>\n",
       "      <td>NOX</td>\n",
       "      <td>1</td>\n",
       "    </tr>\n",
       "    <tr>\n",
       "      <th>5</th>\n",
       "      <td>RM</td>\n",
       "      <td>1</td>\n",
       "    </tr>\n",
       "    <tr>\n",
       "      <th>6</th>\n",
       "      <td>AGE</td>\n",
       "      <td>8</td>\n",
       "    </tr>\n",
       "    <tr>\n",
       "      <th>7</th>\n",
       "      <td>DIS</td>\n",
       "      <td>1</td>\n",
       "    </tr>\n",
       "    <tr>\n",
       "      <th>8</th>\n",
       "      <td>RAD</td>\n",
       "      <td>2</td>\n",
       "    </tr>\n",
       "    <tr>\n",
       "      <th>9</th>\n",
       "      <td>TAX</td>\n",
       "      <td>6</td>\n",
       "    </tr>\n",
       "    <tr>\n",
       "      <th>10</th>\n",
       "      <td>PTRATIO</td>\n",
       "      <td>1</td>\n",
       "    </tr>\n",
       "    <tr>\n",
       "      <th>11</th>\n",
       "      <td>B</td>\n",
       "      <td>7</td>\n",
       "    </tr>\n",
       "    <tr>\n",
       "      <th>12</th>\n",
       "      <td>LSTAT</td>\n",
       "      <td>1</td>\n",
       "    </tr>\n",
       "  </tbody>\n",
       "</table>\n",
       "</div>"
      ],
      "text/plain": [
       "   columnname  ranking\n",
       "0        CRIM        3\n",
       "1          ZN        5\n",
       "2       INDUS        4\n",
       "3        CHAS        1\n",
       "4         NOX        1\n",
       "5          RM        1\n",
       "6         AGE        8\n",
       "7         DIS        1\n",
       "8         RAD        2\n",
       "9         TAX        6\n",
       "10    PTRATIO        1\n",
       "11          B        7\n",
       "12      LSTAT        1"
      ]
     },
     "execution_count": 245,
     "metadata": {},
     "output_type": "execute_result"
    }
   ],
   "source": [
    "b=bos.columns.tolist()\n",
    "print(type(b))\n",
    "rank=rfe.ranking_.tolist()\n",
    "print(type(rank))\n",
    "\n",
    "bos_feat_sel = pd.DataFrame(list(zip(b, rank)), \n",
    "               columns =['columnname', 'ranking'])\n",
    "bos_feat_sel"
   ]
  },
  {
   "cell_type": "markdown",
   "metadata": {},
   "source": [
    "We used feature selection technique to identify importatnt features. We want to add nulls to those features to make our comparative study. Above we have used RFE ( Recursive Feature Elimination ) to identify which attributes contribute the most to predicting the target variable. Features with ranking=1, are the most contributing features. "
   ]
  },
  {
   "cell_type": "code",
   "execution_count": 115,
   "metadata": {},
   "outputs": [
    {
     "data": {
      "text/plain": [
       "Text(0.5, 1.0, 'Actual Prices vs Predicted prices- All data')"
      ]
     },
     "execution_count": 115,
     "metadata": {},
     "output_type": "execute_result"
    },
    {
     "data": {
      "image/png": "[encoded data removed]",
      "text/plain": [
       "<Figure size 1080x1080 with 1 Axes>"
      ]
     },
     "metadata": {
      "needs_background": "light"
     },
     "output_type": "display_data"
    }
   ],
   "source": [
    "plt.figure(figsize=(15,15))\n",
    "plt.scatter(Y_train_all, y_train_predict_all)\n",
    "plt.xlabel(\"Actual House Prices ($1000)\")\n",
    "plt.ylabel(\"Predicted House Prices: ($1000)\")\n",
    "plt.xticks(range(0, int(max(y_train_predict_all)),2))\n",
    "plt.yticks(range(0, int(max(y_train_predict_all)),2))\n",
    "plt.title(\"Actual Prices vs Predicted prices- All data\")"
   ]
  },
  {
   "cell_type": "markdown",
   "metadata": {},
   "source": [
    "From EDA, below columns look interesting :\n",
    "\n",
    "ZN       proportion of residential land zoned for lots over 25,000 sq.ft. -- Has about 50% data as 0. It would be interesting to see if a lot of 0's get nullified would change the prediction\n",
    "\n",
    "CHAS is the only categorical variable. Can try using that\n",
    "\n",
    "RAD/TAX are correlated, if one of them is used to nullify\n",
    "\n",
    "B - has high variability"
   ]
  },
  {
   "cell_type": "markdown",
   "metadata": {},
   "source": [
    "<a id=\"car\"></a>\n",
    "<a href=\"#methods\">Back to Methods</a>\n",
    "\n",
    "### Data Missing Completely at Random (CAR)"
   ]
  },
  {
   "cell_type": "code",
   "execution_count": 127,
   "metadata": {},
   "outputs": [],
   "source": [
    "def new_df(orig_df,per,col_name,seed):\n",
    "    df_c=orig_df.copy()\n",
    "    df_size=orig_df.shape[0]\n",
    "    np.random.seed(0)\n",
    "    num_nulls=int(round((per/100)*(df_size-1)))\n",
    "    null_pos=np.random.randint(low=0,high=df_size-1, size=num_nulls)\n",
    "    for i in null_pos:\n",
    "        df_c.loc[i][col_name]=None\n",
    "    return df_c"
   ]
  },
  {
   "cell_type": "code",
   "execution_count": 262,
   "metadata": {},
   "outputs": [],
   "source": [
    "def df_impute(orig_df,function):\n",
    "    imputed_df=orig_df.copy()\n",
    "    if function=='mean':\n",
    "        imputed_df.fillna(imputed_df.mean(), inplace=True)\n",
    "    elif function=='median':\n",
    "        imputed_df.fillna(imputed_df.median(), inplace=True)\n",
    "    elif function=='mode':\n",
    "        imputed_df.fillna(imputed_df.mode(), inplace=True)\n",
    "    else:\n",
    "        imputed_df.fillna(int(function), inplace=True)\n",
    "    return imputed_df"
   ]
  },
  {
   "cell_type": "code",
   "execution_count": 174,
   "metadata": {},
   "outputs": [],
   "source": [
    " def linear_reg_goodness(df,target):\n",
    "    \n",
    "    X_train=df.drop([target],axis=1)\n",
    "    X_train.head()\n",
    "    Y_train=df[target]\n",
    "    \n",
    "\n",
    "    reg = LinearRegression()\n",
    "    reg.fit(X_train, Y_train)\n",
    "\n",
    "    y_train_predict = reg.predict(X_train)\n",
    "    rmse = (np.sqrt(mean_squared_error(Y_train, y_train_predict)))\n",
    "    r2 = round(reg.score(X_train, Y_train),2)\n",
    "    goodness=[rmse,r2]\n",
    "    return goodness"
   ]
  },
  {
   "cell_type": "markdown",
   "metadata": {},
   "source": [
    "<a id=\"car_results\"></a>\n",
    "<a href=\"#results\">Back to Results</a>"
   ]
  },
  {
   "cell_type": "code",
   "execution_count": 313,
   "metadata": {},
   "outputs": [
    {
     "name": "stdout",
     "output_type": "stream",
     "text": [
      "1 % nulls\n",
      "CRIM       0\n",
      "ZN         0\n",
      "INDUS      0\n",
      "CHAS       0\n",
      "NOX        0\n",
      "RM         5\n",
      "AGE        0\n",
      "DIS        0\n",
      "RAD        0\n",
      "TAX        0\n",
      "PTRATIO    0\n",
      "B          0\n",
      "LSTAT      0\n",
      "PRICE      0\n",
      "dtype: int64\n",
      "=======================\n",
      "5 % nulls\n",
      "CRIM        0\n",
      "ZN          0\n",
      "INDUS       0\n",
      "CHAS        0\n",
      "NOX         0\n",
      "RM         23\n",
      "AGE         0\n",
      "DIS         0\n",
      "RAD         0\n",
      "TAX         0\n",
      "PTRATIO     0\n",
      "B           0\n",
      "LSTAT       0\n",
      "PRICE       0\n",
      "dtype: int64\n",
      "=======================\n",
      "10 % nulls\n",
      "CRIM        0\n",
      "ZN          0\n",
      "INDUS       0\n",
      "CHAS        0\n",
      "NOX         0\n",
      "RM         45\n",
      "AGE         0\n",
      "DIS         0\n",
      "RAD         0\n",
      "TAX         0\n",
      "PTRATIO     0\n",
      "B           0\n",
      "LSTAT       0\n",
      "PRICE       0\n",
      "dtype: int64\n",
      "=======================\n",
      "20 % nulls\n",
      "CRIM        0\n",
      "ZN          0\n",
      "INDUS       0\n",
      "CHAS        0\n",
      "NOX         0\n",
      "RM         87\n",
      "AGE         0\n",
      "DIS         0\n",
      "RAD         0\n",
      "TAX         0\n",
      "PTRATIO     0\n",
      "B           0\n",
      "LSTAT       0\n",
      "PRICE       0\n",
      "dtype: int64\n",
      "=======================\n",
      "33 % nulls\n",
      "CRIM         0\n",
      "ZN           0\n",
      "INDUS        0\n",
      "CHAS         0\n",
      "NOX          0\n",
      "RM         136\n",
      "AGE          0\n",
      "DIS          0\n",
      "RAD          0\n",
      "TAX          0\n",
      "PTRATIO      0\n",
      "B            0\n",
      "LSTAT        0\n",
      "PRICE        0\n",
      "dtype: int64\n",
      "=======================\n",
      "50 % nulls\n",
      "CRIM         0\n",
      "ZN           0\n",
      "INDUS        0\n",
      "CHAS         0\n",
      "NOX          0\n",
      "RM         192\n",
      "AGE          0\n",
      "DIS          0\n",
      "RAD          0\n",
      "TAX          0\n",
      "PTRATIO      0\n",
      "B            0\n",
      "LSTAT        0\n",
      "PRICE        0\n",
      "dtype: int64\n",
      "=======================\n"
     ]
    },
    {
     "data": {
      "text/plain": [
       "[[4.883623032349549, 0.72],\n",
       " [4.976610046557696, 0.71],\n",
       " [4.967029264262159, 0.71],\n",
       " [5.035806168801492, 0.7],\n",
       " [5.057302565835696, 0.7],\n",
       " [5.058254823398979, 0.7]]"
      ]
     },
     "execution_count": 313,
     "metadata": {},
     "output_type": "execute_result"
    }
   ],
   "source": [
    "bos_car_rm_df=[]\n",
    "per_car_arr=[1,5,10,20,33,50]\n",
    "bos_car_rm_df=[new_df(bos,p,'RM',999) for p in per_arr]\n",
    "c=0\n",
    "for b_df in bos_car_rm_df:\n",
    "    print(per_arr[c],\"% nulls\")\n",
    "    print(b_df.isnull().sum())\n",
    "    c=c+1\n",
    "    print(\"=======================\")\n",
    "    \n",
    "bos_car_rm_impute_zero_df=[]\n",
    "bos_car_rm_impute_zero_df=[df_impute(df,'0') for df in bos_car_rm_df]\n",
    "goodness_car_rm_zero=[]\n",
    "goodness_car_rm_zero=[linear_reg_goodness(df,'PRICE') for df in bos_car_rm_impute_zero_df]\n",
    "goodness_car_rm_zero"
   ]
  },
  {
   "cell_type": "code",
   "execution_count": 314,
   "metadata": {},
   "outputs": [
    {
     "data": {
      "text/plain": [
       "[[4.692669148523668, 0.74],\n",
       " [4.713891593417272, 0.74],\n",
       " [4.721270539405498, 0.74],\n",
       " [4.853928441325208, 0.72],\n",
       " [4.8924632910685535, 0.72],\n",
       " [4.943278395989387, 0.71]]"
      ]
     },
     "execution_count": 314,
     "metadata": {},
     "output_type": "execute_result"
    }
   ],
   "source": [
    "bos_car_rm_df=[]\n",
    "per_car_arr=[1,5,10,20,33,50]\n",
    "bos_car_rm_df=[new_df(bos,p,'RM',999) for p in per_arr]\n",
    "bos_car_rm_impute_mean_df=[]\n",
    "bos_car_rm_impute_mean_df=[df_impute(df,'mean') for df in bos_car_rm_df]\n",
    "goodness_car_rm_mean=[]\n",
    "goodness_car_rm_mean=[linear_reg_goodness(df,'PRICE') for df in bos_car_rm_impute_mean_df]\n",
    "goodness_car_rm_mean"
   ]
  },
  {
   "cell_type": "code",
   "execution_count": 330,
   "metadata": {},
   "outputs": [
    {
     "data": {
      "image/png": "[encoded data removed]",
      "text/plain": [
       "<Figure size 720x360 with 2 Axes>"
      ]
     },
     "metadata": {
      "needs_background": "light"
     },
     "output_type": "display_data"
    }
   ],
   "source": [
    "rmse_mean=[r[0] for r in goodness_car_rm_mean]\n",
    "rmse_zero=[r[0] for r in goodness_car_rm_zero]\n",
    "\n",
    "r2_mean=[r[1] for r in goodness_car_rm_mean]\n",
    "r2_zero=[r[1] for r in goodness_car_rm_zero]\n",
    "\n",
    "plt.figure(figsize=(10,5))\n",
    "plt.subplot(1,2,1)\n",
    "plt.plot(per_car_arr,rmse_mean,color='blue',label='mean imputation')\n",
    "plt.plot(per_car_arr,rmse_zero,color='red',label='zero imputation')\n",
    "plt.title(\"RMSE score for CAR Imputation\")\n",
    "plt.xlabel(\"percentage data imputed\")\n",
    "plt.ylabel(\"RMSE score\")\n",
    "plt.legend()\n",
    "\n",
    "plt.subplot(1,2,2)\n",
    "plt.plot(per_car_arr,r2_mean,color='blue',label='mean imputation')\n",
    "plt.plot(per_car_arr,r2_zero,color='red',label='zero imputation')\n",
    "plt.title(\"R2 score for CAR Imputation\")\n",
    "plt.xlabel(\"percentage data imputed\")\n",
    "plt.ylabel(\"R2 score\")\n",
    "plt.legend()\n",
    "plt.tight_layout()"
   ]
  },
  {
   "cell_type": "markdown",
   "metadata": {},
   "source": [
    "<a id=\"mar\"></a>\n",
    "<a href=\"#methods\">Back to Methods</a>\n",
    "\n",
    "### Missing at Random (MAR)\n",
    "\n",
    "AGE>77, then NOX is random"
   ]
  },
  {
   "cell_type": "code",
   "execution_count": 203,
   "metadata": {},
   "outputs": [],
   "source": [
    "def indices(list, filtr=lambda x: bool(x)):\n",
    "    return [i for i,x in enumerate(list) if filtr(x)]\n",
    "\n",
    "bos_age_mar_indices=indices(bos_test2['AGE'], lambda x: x>77)"
   ]
  },
  {
   "cell_type": "code",
   "execution_count": 206,
   "metadata": {},
   "outputs": [
    {
     "data": {
      "text/plain": [
       "420"
      ]
     },
     "execution_count": 206,
     "metadata": {},
     "output_type": "execute_result"
    }
   ],
   "source": [
    "np.random.choice(bos_age_mar_indices)"
   ]
  },
  {
   "cell_type": "code",
   "execution_count": 208,
   "metadata": {},
   "outputs": [],
   "source": [
    "def new_mar_df(orig_df,per,col_name,seed,indices):\n",
    "    df_c=orig_df.copy()\n",
    "    df_size=orig_df.shape[0]\n",
    "    np.random.seed(0)\n",
    "    num_nulls=int(round((per/100)*(df_size-1)))\n",
    "    for i in range(num_nulls):\n",
    "        r=np.random.choice(indices)\n",
    "        df_c.loc[r][col_name]=None\n",
    "    return df_c"
   ]
  },
  {
   "cell_type": "code",
   "execution_count": 210,
   "metadata": {},
   "outputs": [],
   "source": [
    "bos_mar_df=[]\n",
    "per_mar_arr=[10,20,30]\n",
    "bos_mar_df=[new_mar_df(bos,p,'NOX',999,bos_age_mar_indices) for p in per_mar_arr]"
   ]
  },
  {
   "cell_type": "code",
   "execution_count": 211,
   "metadata": {},
   "outputs": [
    {
     "name": "stdout",
     "output_type": "stream",
     "text": [
      "(506, 14)\n",
      "(506, 14)\n",
      "(506, 14)\n"
     ]
    }
   ],
   "source": [
    "for i in bos_mar_df:\n",
    "    print(i.shape)"
   ]
  },
  {
   "cell_type": "code",
   "execution_count": 212,
   "metadata": {},
   "outputs": [
    {
     "name": "stdout",
     "output_type": "stream",
     "text": [
      "10 % nulls\n",
      "CRIM        0\n",
      "ZN          0\n",
      "INDUS       0\n",
      "CHAS        0\n",
      "NOX        43\n",
      "RM          0\n",
      "AGE         0\n",
      "DIS         0\n",
      "RAD         0\n",
      "TAX         0\n",
      "PTRATIO     0\n",
      "B           0\n",
      "LSTAT       0\n",
      "PRICE       0\n",
      "dtype: int64\n",
      "=======================\n",
      "20 % nulls\n",
      "CRIM        0\n",
      "ZN          0\n",
      "INDUS       0\n",
      "CHAS        0\n",
      "NOX        80\n",
      "RM          0\n",
      "AGE         0\n",
      "DIS         0\n",
      "RAD         0\n",
      "TAX         0\n",
      "PTRATIO     0\n",
      "B           0\n",
      "LSTAT       0\n",
      "PRICE       0\n",
      "dtype: int64\n",
      "=======================\n",
      "30 % nulls\n",
      "CRIM         0\n",
      "ZN           0\n",
      "INDUS        0\n",
      "CHAS         0\n",
      "NOX        111\n",
      "RM           0\n",
      "AGE          0\n",
      "DIS          0\n",
      "RAD          0\n",
      "TAX          0\n",
      "PTRATIO      0\n",
      "B            0\n",
      "LSTAT        0\n",
      "PRICE        0\n",
      "dtype: int64\n",
      "=======================\n"
     ]
    }
   ],
   "source": [
    "c=0\n",
    "for b_df in bos_mar_df:\n",
    "    print(per_mar_arr[c],\"% nulls\")\n",
    "    print(b_df.isnull().sum())\n",
    "    c=c+1\n",
    "    print(\"=======================\")"
   ]
  },
  {
   "cell_type": "markdown",
   "metadata": {},
   "source": [
    "<a id=\"mar_results\"></a>\n",
    "<a href=\"#results\">Back to Results</a>"
   ]
  },
  {
   "cell_type": "code",
   "execution_count": 332,
   "metadata": {},
   "outputs": [
    {
     "data": {
      "text/plain": [
       "[[4.70402998841331, 0.74],\n",
       " [4.723059341701854, 0.74],\n",
       " [4.735517419799171, 0.73]]"
      ]
     },
     "execution_count": 332,
     "metadata": {},
     "output_type": "execute_result"
    }
   ],
   "source": [
    "bos_mar_impute_mean_df=[]\n",
    "bos_mar_impute_mean_df=[df_impute(df,'mean') for df in bos_mar_df]\n",
    "goodness_mar_mean=[]\n",
    "goodness_mar_mean=[linear_reg_goodness(df,'PRICE') for df in bos_mar_impute_mean_df]\n",
    "goodness_mar_mean"
   ]
  },
  {
   "cell_type": "code",
   "execution_count": 216,
   "metadata": {},
   "outputs": [
    {
     "data": {
      "text/plain": [
       "[[4.707520717313876, 0.74],\n",
       " [4.727502712268104, 0.74],\n",
       " [4.739129689409382, 0.73]]"
      ]
     },
     "execution_count": 216,
     "metadata": {},
     "output_type": "execute_result"
    }
   ],
   "source": [
    "bos_mar_impute_median_df=[]\n",
    "bos_mar_impute_median_df=[df_impute(df,'median') for df in bos_mar_df]\n",
    "goodness_mar_med=[]\n",
    "goodness_mar_med=[linear_reg_goodness(df,'PRICE') for df in bos_mar_impute_median_df]\n",
    "goodness_mar_med"
   ]
  },
  {
   "cell_type": "code",
   "execution_count": 274,
   "metadata": {},
   "outputs": [
    {
     "data": {
      "text/plain": [
       "[[4.759011058351853, 0.73],\n",
       " [4.7671337980151085, 0.73],\n",
       " [4.768835718301644, 0.73]]"
      ]
     },
     "execution_count": 274,
     "metadata": {},
     "output_type": "execute_result"
    }
   ],
   "source": [
    "bos_mar_impute_zero_df=[]\n",
    "bos_mar_impute_zero_df=[df_impute(df,'0') for df in bos_mar_df]\n",
    "goodness_mar_zer=[]\n",
    "goodness_mar_zer=[linear_reg_goodness(df,'PRICE') for df in bos_mar_impute_zero_df]\n",
    "goodness_mar_zer"
   ]
  },
  {
   "cell_type": "code",
   "execution_count": 351,
   "metadata": {},
   "outputs": [
    {
     "data": {
      "image/png": "[encoded data removed]",
      "text/plain": [
       "<Figure size 720x360 with 2 Axes>"
      ]
     },
     "metadata": {
      "needs_background": "light"
     },
     "output_type": "display_data"
    }
   ],
   "source": [
    "rmse_mean=[r[0] for r in goodness_mar_mean]\n",
    "rmse_med=[r[0] for r in goodness_mar_med]\n",
    "rmse_zero=[r[0] for r in goodness_mar_zer]\n",
    "\n",
    "r2_mean=[r[1] for r in goodness_mar_mean]\n",
    "r2_med=[r[1] for r in goodness_mar_med]\n",
    "r2_zero=[r[1] for r in goodness_mar_zer]\n",
    "\n",
    "plt.figure(figsize=(10,5))\n",
    "plt.subplot(1,2,1)\n",
    "plt.plot(per_mar_arr,rmse_mean,color='blue',label='mean imputation')\n",
    "plt.plot(per_mar_arr,rmse_zero,color='red',label='zero imputation')\n",
    "plt.plot(per_mar_arr,rmse_med,color='green',label='median imputation')\n",
    "plt.title(\"RMSE score for MAR Imputation\")\n",
    "plt.xlabel(\"percentage data imputed\")\n",
    "plt.ylabel(\"RMSE score\")\n",
    "plt.legend()\n",
    "\n",
    "plt.subplot(1,2,2)\n",
    "plt.plot(per_mar_arr,r2_zero,color='red',label='zero imputation')\n",
    "plt.plot(per_mar_arr,r2_mean,color='blue',label='mean imputation')\n",
    "plt.plot(per_mar_arr,r2_med,color='green',label='median imputation')\n",
    "plt.title(\"R2 score for MAR Imputation\")\n",
    "plt.xlabel(\"percentage data imputed\")\n",
    "plt.ylabel(\"R2 score\")\n",
    "plt.legend()\n",
    "plt.tight_layout()\n",
    "\n"
   ]
  },
  {
   "cell_type": "markdown",
   "metadata": {},
   "source": [
    "<a id=\"nar\"></a>\n",
    "<a href=\"#methods\">Back to Methods</a>\n",
    "\n",
    "### NAR ( Not at Random )\n",
    "\n",
    "if LSTAT > 17 then PTRATIO is null\n"
   ]
  },
  {
   "cell_type": "code",
   "execution_count": 277,
   "metadata": {},
   "outputs": [
    {
     "data": {
      "text/plain": [
       "CRIM       126\n",
       "ZN         126\n",
       "INDUS      126\n",
       "CHAS       126\n",
       "NOX        126\n",
       "RM         126\n",
       "AGE        126\n",
       "DIS        126\n",
       "RAD        126\n",
       "TAX        126\n",
       "PTRATIO    126\n",
       "B          126\n",
       "LSTAT      126\n",
       "PRICE      126\n",
       "dtype: int64"
      ]
     },
     "execution_count": 277,
     "metadata": {},
     "output_type": "execute_result"
    }
   ],
   "source": [
    "bos_nar_df=bos.copy()\n",
    "bos_nar_df[bos_nar_df['LSTAT']>17].count()"
   ]
  },
  {
   "cell_type": "code",
   "execution_count": 286,
   "metadata": {},
   "outputs": [],
   "source": [
    "bos_age_nar_indices=indices(bos_test2['LSTAT'], lambda x: x>17)\n",
    "bos_age_nar_indices\n",
    "\n",
    "for i in bos_age_nar_indices:\n",
    "        bos_nar_df.loc[i]['PTRATIO']=None"
   ]
  },
  {
   "cell_type": "code",
   "execution_count": 287,
   "metadata": {},
   "outputs": [
    {
     "data": {
      "text/plain": [
       "CRIM         0\n",
       "ZN           0\n",
       "INDUS        0\n",
       "CHAS         0\n",
       "NOX          0\n",
       "RM           0\n",
       "AGE          0\n",
       "DIS          0\n",
       "RAD          0\n",
       "TAX          0\n",
       "PTRATIO    126\n",
       "B            0\n",
       "LSTAT        0\n",
       "PRICE        0\n",
       "dtype: int64"
      ]
     },
     "execution_count": 287,
     "metadata": {},
     "output_type": "execute_result"
    }
   ],
   "source": [
    "bos_nar_df.isnull().sum()"
   ]
  },
  {
   "cell_type": "markdown",
   "metadata": {},
   "source": [
    "<a id=\"nar_results\"></a>\n",
    "<a href=\"#results\">Back to Results</a>"
   ]
  },
  {
   "cell_type": "code",
   "execution_count": 341,
   "metadata": {},
   "outputs": [
    {
     "data": {
      "text/plain": [
       "[4.900476647079992, 0.72]"
      ]
     },
     "execution_count": 341,
     "metadata": {},
     "output_type": "execute_result"
    }
   ],
   "source": [
    "per_nar_arr=25\n",
    "bos_nar_impute_zero_df=[]\n",
    "bos_nar_impute_zero_df=df_impute(bos_nar_df,'0')\n",
    "goodness_nar_zer=[]\n",
    "goodness_nar_zer=linear_reg_goodness(bos_nar_impute_zero_df,'PRICE')\n",
    "goodness_nar_zer"
   ]
  },
  {
   "cell_type": "code",
   "execution_count": 292,
   "metadata": {},
   "outputs": [
    {
     "data": {
      "text/plain": [
       "[4.78445404307053, 0.73]"
      ]
     },
     "execution_count": 292,
     "metadata": {},
     "output_type": "execute_result"
    }
   ],
   "source": [
    "bos_nar_impute_mean_df=[]\n",
    "bos_nar_impute_mean_df=df_impute(bos_nar_df,'mean')\n",
    "goodness_nar_mean=[]\n",
    "goodness_nar_mean=linear_reg_goodness(bos_nar_impute_mean_df,'PRICE')\n",
    "goodness_nar_mean"
   ]
  },
  {
   "cell_type": "code",
   "execution_count": 336,
   "metadata": {},
   "outputs": [
    {
     "data": {
      "text/plain": [
       "[4.783571717221569, 0.73]"
      ]
     },
     "execution_count": 336,
     "metadata": {},
     "output_type": "execute_result"
    }
   ],
   "source": [
    "bos_nar_impute_med_df=[]\n",
    "bos_nar_impute_med_df=df_impute(bos_nar_df,'median')\n",
    "goodness_nar_med=[]\n",
    "goodness_nar_med=linear_reg_goodness(bos_nar_impute_med_df,'PRICE')\n",
    "goodness_nar_med"
   ]
  },
  {
   "cell_type": "code",
   "execution_count": 350,
   "metadata": {},
   "outputs": [
    {
     "data": {
      "image/png": "[encoded data removed]",
      "text/plain": [
       "<Figure size 720x360 with 2 Axes>"
      ]
     },
     "metadata": {
      "needs_background": "light"
     },
     "output_type": "display_data"
    }
   ],
   "source": [
    "rmse_mean=goodness_nar_mean[0]\n",
    "rmse_med=goodness_nar_med[0]\n",
    "rmse_zero=goodness_nar_zer[0]\n",
    "\n",
    "r2_mean=goodness_nar_mean[1]\n",
    "r2_med= goodness_nar_med[1]\n",
    "r2_zero= goodness_nar_zer[1]\n",
    "\n",
    "plt.figure(figsize=(10,5))\n",
    "plt.subplot(1,2,1)\n",
    "plt.scatter(per_nar_arr,rmse_mean,color='blue',label='mean imputation',marker='o')\n",
    "plt.scatter(per_nar_arr,rmse_zero,color='red',label='zero imputation',marker='o')\n",
    "plt.scatter(per_nar_arr,rmse_med,color='green',label='median imputation',marker='o')\n",
    "plt.title(\"RMSE score for NAR Imputation\")\n",
    "plt.xlabel(\"percentage data imputed\")\n",
    "plt.ylabel(\"RMSE score\")\n",
    "plt.legend()\n",
    "plt.xlim([0,50])\n",
    "\n",
    "\n",
    "plt.subplot(1,2,2)\n",
    "plt.scatter(per_nar_arr,r2_zero,color='red',label='zero imputation')\n",
    "plt.scatter(per_nar_arr,r2_mean,color='blue',label='mean imputation')\n",
    "plt.scatter(per_nar_arr,r2_med,color='green',label='median imputation')\n",
    "plt.title(\"R2 score for NAR Imputation\")\n",
    "plt.xlabel(\"percentage data imputed\")\n",
    "plt.ylabel(\"R2 score\")\n",
    "plt.legend()\n",
    "plt.xlim([0,50])\n",
    "\n",
    "plt.tight_layout()\n"
   ]
  },
  {
   "cell_type": "code",
   "execution_count": null,
   "metadata": {},
   "outputs": [],
   "source": []
  }
 ],
 "metadata": {
  "kernelspec": {
   "display_name": "Python 3",
   "language": "python",
   "name": "python3"
  },
  "language_info": {
   "codemirror_mode": {
    "name": "ipython",
    "version": 3
   },
   "file_extension": ".py",
   "mimetype": "text/x-python",
   "name": "python",
   "nbconvert_exporter": "python",
   "pygments_lexer": "ipython3",
   "version": "3.7.3"
  }
 },
 "nbformat": 4,
 "nbformat_minor": 2
}
