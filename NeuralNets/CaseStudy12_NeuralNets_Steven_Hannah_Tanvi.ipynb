{
 "cells": [
  {
   "cell_type": "markdown",
   "metadata": {},
   "source": [
    "<h1><center>Case Study 12: Neural Networks</center></h1>\n",
    "<h3><center>Steven Cocke, Hannah Kosinovsky, Tanvi Arora</center></h3>\n",
    "<h3><center>November 18th, 2019</center></h3>"
   ]
  },
  {
   "cell_type": "markdown",
   "metadata": {},
   "source": [
    "<h3><center>Abstract</center></h3>\n",
    "\n",
    "In this case study we attempted to replicate the work in the paper on \"Searching for Exotic Particles in High-Energy Physics with Deep Learning\" by adjusting the parameters and hyper parameters in keras to build a deep learning model.We also try to compare it with a newer optimizer. "
   ]
  },
  {
   "cell_type": "markdown",
   "metadata": {},
   "source": [
    "## 1 Introduction\n",
    "\n",
    "Neural Networks are statistical models that were named after brain neurons. Neurons in the brain fires after a certain threshold is reached. In the statistical model, after the inputs of the model reach a certain threshold, the neuron in the model also \"fires\". Since we have multiple neurons in the model, it becomes a network. Each neuron in our model computes an \"activation function\".\n",
    "\n",
    "These activation functions act as logistic regressors. Since the layers in the network perform these functions several times over on each previous output, the neural networks are essentially doing regressions on top of one another. \n",
    "\n",
    "The goal is to change the inputs such that the model has more complex indpendent components. Each neuron in the network has its own weight and bias. \n",
    "\n",
    "In the paper from which we are trying to replicate results, the model was pre-trained using a subset of HIGGS data consisting of 2.6 million training examples and 100,000 validation examples.A five-layer neural network with 300 hidden units in each layer, a learning rate of 0.05 and a weight decay coefficient of 1\\*10<sup>-5</sup> was chosen. Following hyperparameters wre predetermined without optimization.\n",
    "\n",
    "- Hidden units all used the *tanh* activation function\n",
    "- Weights were initialized from a normal distribution with zero mean and standard deviation 0.1 in the first layer, 0.001 in the output layer, 0/05 all other hidden layers.\n",
    "- Gradient computations were made on mini-batches of size 100.\n",
    "- A momentum term increased linearly over the first 200 epochs from 0.9 to 0.99, at which point it remained constant.\n",
    "- The learning rate decayed by a factor of 1.0000002 every batch update until it reached a minimum of 10<sup>-6</sup>.\n",
    "- Training ended when the momentum reached its maximum value and the minimum error on the validation set had not decreased by more than a factor of 0.00001 over 10 epochs. This early stopping prevented overfitting and resulted in each neural network being trained for 200-1000 epochs. \n",
    "\n",
    "By following the methodology for the inputs, we should be able to obtain similar accuracy. "
   ]
  },
  {
   "cell_type": "markdown",
   "metadata": {},
   "source": [
    "## 2 Methods\n",
    "\n",
    "**SGD Optimizer with hyperparameters**  \n",
    "In order to replicate these results, we had to focus on several different inputs. In the paper it was specified that they used \n",
    "\n",
    "<a id='weightmethods'></a>\n",
    "<a href=\"#modelinit\">Model Initialization</a>\n",
    "\n",
    "Above link refers to below tasks :\n",
    "\n",
    "- tanh activation functions in the hidden layers\n",
    "- weights initialized from a normal distribution with zero mean and standard deviation of .1. \n",
    "\n",
    "\n",
    "\n",
    "- gradient computations made on mini-batches of size 100\n",
    "\n",
    "batch size was chosen to be 100\n",
    "\n",
    "<a id='stoppingmethods'></a>\n",
    "<a href=\"#stopping\">Early Stopping</a>\n",
    "\n",
    "Above link refers to below tasks :\n",
    "\n",
    "- Implementation of early stopping after a set threshold to prevent overfitting,was set based on validation loss\n",
    "\n",
    "\n",
    "\n",
    "**adam optimizer**  \n",
    "We also tried running through the same training set on the same model layers but using an adam optimizer with defaults. \n"
   ]
  },
  {
   "cell_type": "markdown",
   "metadata": {},
   "source": [
    "## 3 Results\n",
    "\n",
    "In the paper, an AUC for neural networks was achieved as 0.816 and for Deep Neural Network it was 0.885. \n",
    "We were able to achieve an AUC of 0.5 only as shown in Fig. 1 below . We have used 1 million training examples due to computational efficiency.We were able to implement the learning rate and early stopping using the validation loss from the hyperparameters. We were not able to implement the change in weights using the momentum change per epochs. Although this should not have affected it so much to get a very low AUC compared to what was achieved in paper.\n",
    "\n",
    "![sgs_auc](./images/sgd_auc.png)\n",
    "\n",
    "<h4><center> Fig. 1 AUC Curve using SGD Optimizer with hyperparameters referred from paper</center></h4>\n",
    "On the contrary we tried an 'adam' optimizer with defaults on the same training dataset , it was faster and returned an AUC of 0.82 as shown in Fig. 2 below which is very close to what was achieved in paper with lot of hyperparameters.\n",
    "\n",
    "![adam_auc](./images/adam_auc.png)\n",
    "\n",
    "<h4><center> Fig. 2 AUC Curve using adam Optimizer</center></h4>"
   ]
  },
  {
   "cell_type": "markdown",
   "metadata": {},
   "source": [
    "## 4 Conclusions\n",
    "\n",
    "We were not able to obtain an accuracy rate as high as the one in the paper. It is possible that there were additional inputs not accurately specified. \n",
    "\n",
    "Using tensorflow, using adam gave better results with defaults as well as better performance as compared to SGD optimizer which had additional parameters tuned. \n",
    "We think that we should use the newly available optimizers that are already tuned and give us better results and performance. "
   ]
  },
  {
   "cell_type": "markdown",
   "metadata": {},
   "source": [
    "## References\n",
    "\n",
    "Paper on Deep Neural Networks used to replicate results: \n",
    "https://arxiv.org/pdf/1402.4735.pdf\n",
    "\n",
    "Comparison of keras optimizers:\n",
    "https://www.dlology.com/blog/quick-notes-on-how-to-choose-optimizer-in-keras/"
   ]
  },
  {
   "cell_type": "markdown",
   "metadata": {},
   "source": [
    "## Code"
   ]
  },
  {
   "cell_type": "code",
   "execution_count": 33,
   "metadata": {},
   "outputs": [
    {
     "name": "stdout",
     "output_type": "stream",
     "text": [
      "2.0.0\n"
     ]
    }
   ],
   "source": [
    "\n",
    "import tensorflow as tf\n",
    "from tensorflow.keras import layers \n",
    "from tensorflow.keras.optimizers import SGD\n",
    "from tensorflow.keras.callbacks import LearningRateScheduler\n",
    "from tensorflow.keras.callbacks import EarlyStopping\n",
    "from sklearn import metrics\n",
    "\n",
    "from tensorflow.keras.regularizers import l2\n",
    "from sklearn import datasets\n",
    "import pandas as pd\n",
    "import numpy as np\n",
    "print(tf.__version__)\n",
    "\n",
    "import matplotlib.pyplot as plt\n",
    "%matplotlib inline"
   ]
  },
  {
   "cell_type": "code",
   "execution_count": 2,
   "metadata": {},
   "outputs": [],
   "source": [
    "higgs=pd.read_csv('HIGGS.csv',sep=',',header=None,nrows=1E6,dtype=np.float16)\n",
    "#higgs=pd.read_csv('HIGGS.csv',sep=',',header=None,dtype=np.float16)"
   ]
  },
  {
   "cell_type": "code",
   "execution_count": 3,
   "metadata": {},
   "outputs": [
    {
     "data": {
      "text/html": [
       "<div>\n",
       "<style scoped>\n",
       "    .dataframe tbody tr th:only-of-type {\n",
       "        vertical-align: middle;\n",
       "    }\n",
       "\n",
       "    .dataframe tbody tr th {\n",
       "        vertical-align: top;\n",
       "    }\n",
       "\n",
       "    .dataframe thead th {\n",
       "        text-align: right;\n",
       "    }\n",
       "</style>\n",
       "<table border=\"1\" class=\"dataframe\">\n",
       "  <thead>\n",
       "    <tr style=\"text-align: right;\">\n",
       "      <th></th>\n",
       "      <th>0</th>\n",
       "      <th>1</th>\n",
       "      <th>2</th>\n",
       "      <th>3</th>\n",
       "      <th>4</th>\n",
       "      <th>5</th>\n",
       "      <th>6</th>\n",
       "      <th>7</th>\n",
       "      <th>8</th>\n",
       "      <th>9</th>\n",
       "      <th>...</th>\n",
       "      <th>19</th>\n",
       "      <th>20</th>\n",
       "      <th>21</th>\n",
       "      <th>22</th>\n",
       "      <th>23</th>\n",
       "      <th>24</th>\n",
       "      <th>25</th>\n",
       "      <th>26</th>\n",
       "      <th>27</th>\n",
       "      <th>28</th>\n",
       "    </tr>\n",
       "  </thead>\n",
       "  <tbody>\n",
       "    <tr>\n",
       "      <td>0</td>\n",
       "      <td>1.0</td>\n",
       "      <td>0.869141</td>\n",
       "      <td>-0.635254</td>\n",
       "      <td>0.225708</td>\n",
       "      <td>0.327393</td>\n",
       "      <td>-0.689941</td>\n",
       "      <td>0.754395</td>\n",
       "      <td>-0.248535</td>\n",
       "      <td>-1.091797</td>\n",
       "      <td>0.000000</td>\n",
       "      <td>...</td>\n",
       "      <td>-0.010452</td>\n",
       "      <td>-0.045776</td>\n",
       "      <td>3.101562</td>\n",
       "      <td>1.353516</td>\n",
       "      <td>0.979492</td>\n",
       "      <td>0.978027</td>\n",
       "      <td>0.919922</td>\n",
       "      <td>0.721680</td>\n",
       "      <td>0.988770</td>\n",
       "      <td>0.876465</td>\n",
       "    </tr>\n",
       "    <tr>\n",
       "      <td>1</td>\n",
       "      <td>1.0</td>\n",
       "      <td>0.907715</td>\n",
       "      <td>0.329102</td>\n",
       "      <td>0.359375</td>\n",
       "      <td>1.498047</td>\n",
       "      <td>-0.312988</td>\n",
       "      <td>1.095703</td>\n",
       "      <td>-0.557617</td>\n",
       "      <td>-1.587891</td>\n",
       "      <td>2.173828</td>\n",
       "      <td>...</td>\n",
       "      <td>-1.138672</td>\n",
       "      <td>-0.000819</td>\n",
       "      <td>0.000000</td>\n",
       "      <td>0.302246</td>\n",
       "      <td>0.833008</td>\n",
       "      <td>0.985840</td>\n",
       "      <td>0.978027</td>\n",
       "      <td>0.779785</td>\n",
       "      <td>0.992188</td>\n",
       "      <td>0.798340</td>\n",
       "    </tr>\n",
       "    <tr>\n",
       "      <td>2</td>\n",
       "      <td>1.0</td>\n",
       "      <td>0.798828</td>\n",
       "      <td>1.470703</td>\n",
       "      <td>-1.635742</td>\n",
       "      <td>0.453857</td>\n",
       "      <td>0.425537</td>\n",
       "      <td>1.104492</td>\n",
       "      <td>1.282227</td>\n",
       "      <td>1.381836</td>\n",
       "      <td>0.000000</td>\n",
       "      <td>...</td>\n",
       "      <td>1.128906</td>\n",
       "      <td>0.900391</td>\n",
       "      <td>0.000000</td>\n",
       "      <td>0.909668</td>\n",
       "      <td>1.108398</td>\n",
       "      <td>0.985840</td>\n",
       "      <td>0.951172</td>\n",
       "      <td>0.803223</td>\n",
       "      <td>0.865723</td>\n",
       "      <td>0.780273</td>\n",
       "    </tr>\n",
       "    <tr>\n",
       "      <td>3</td>\n",
       "      <td>0.0</td>\n",
       "      <td>1.344727</td>\n",
       "      <td>-0.876465</td>\n",
       "      <td>0.936035</td>\n",
       "      <td>1.992188</td>\n",
       "      <td>0.882324</td>\n",
       "      <td>1.786133</td>\n",
       "      <td>-1.646484</td>\n",
       "      <td>-0.942383</td>\n",
       "      <td>0.000000</td>\n",
       "      <td>...</td>\n",
       "      <td>-0.678223</td>\n",
       "      <td>-1.360352</td>\n",
       "      <td>0.000000</td>\n",
       "      <td>0.946777</td>\n",
       "      <td>1.028320</td>\n",
       "      <td>0.998535</td>\n",
       "      <td>0.728516</td>\n",
       "      <td>0.869141</td>\n",
       "      <td>1.026367</td>\n",
       "      <td>0.958008</td>\n",
       "    </tr>\n",
       "    <tr>\n",
       "      <td>4</td>\n",
       "      <td>1.0</td>\n",
       "      <td>1.105469</td>\n",
       "      <td>0.321289</td>\n",
       "      <td>1.522461</td>\n",
       "      <td>0.882812</td>\n",
       "      <td>-1.205078</td>\n",
       "      <td>0.681641</td>\n",
       "      <td>-1.070312</td>\n",
       "      <td>-0.921875</td>\n",
       "      <td>0.000000</td>\n",
       "      <td>...</td>\n",
       "      <td>-0.373535</td>\n",
       "      <td>0.113037</td>\n",
       "      <td>0.000000</td>\n",
       "      <td>0.755859</td>\n",
       "      <td>1.361328</td>\n",
       "      <td>0.986816</td>\n",
       "      <td>0.837891</td>\n",
       "      <td>1.132812</td>\n",
       "      <td>0.872070</td>\n",
       "      <td>0.808594</td>\n",
       "    </tr>\n",
       "  </tbody>\n",
       "</table>\n",
       "<p>5 rows × 29 columns</p>\n",
       "</div>"
      ],
      "text/plain": [
       "    0         1         2         3         4         5         6         7   \\\n",
       "0  1.0  0.869141 -0.635254  0.225708  0.327393 -0.689941  0.754395 -0.248535   \n",
       "1  1.0  0.907715  0.329102  0.359375  1.498047 -0.312988  1.095703 -0.557617   \n",
       "2  1.0  0.798828  1.470703 -1.635742  0.453857  0.425537  1.104492  1.282227   \n",
       "3  0.0  1.344727 -0.876465  0.936035  1.992188  0.882324  1.786133 -1.646484   \n",
       "4  1.0  1.105469  0.321289  1.522461  0.882812 -1.205078  0.681641 -1.070312   \n",
       "\n",
       "         8         9   ...        19        20        21        22        23  \\\n",
       "0 -1.091797  0.000000  ... -0.010452 -0.045776  3.101562  1.353516  0.979492   \n",
       "1 -1.587891  2.173828  ... -1.138672 -0.000819  0.000000  0.302246  0.833008   \n",
       "2  1.381836  0.000000  ...  1.128906  0.900391  0.000000  0.909668  1.108398   \n",
       "3 -0.942383  0.000000  ... -0.678223 -1.360352  0.000000  0.946777  1.028320   \n",
       "4 -0.921875  0.000000  ... -0.373535  0.113037  0.000000  0.755859  1.361328   \n",
       "\n",
       "         24        25        26        27        28  \n",
       "0  0.978027  0.919922  0.721680  0.988770  0.876465  \n",
       "1  0.985840  0.978027  0.779785  0.992188  0.798340  \n",
       "2  0.985840  0.951172  0.803223  0.865723  0.780273  \n",
       "3  0.998535  0.728516  0.869141  1.026367  0.958008  \n",
       "4  0.986816  0.837891  1.132812  0.872070  0.808594  \n",
       "\n",
       "[5 rows x 29 columns]"
      ]
     },
     "execution_count": 3,
     "metadata": {},
     "output_type": "execute_result"
    }
   ],
   "source": [
    "higgs.head()"
   ]
  },
  {
   "cell_type": "code",
   "execution_count": 4,
   "metadata": {},
   "outputs": [],
   "source": [
    "higgs.columns=['class_label','lepton_pT','lepton_eta','lepton_phi','missing_energy_magnitude','missing_energy_phi','jet_1_pt','jet_1_eta','jet_1_phi','jet_1_b_tag','jet_2_pt','jet_2_eta','jet_2_phi','jet_2_b_tag','jet_3_pt','jet_3_eta','jet_3_phi','jet_3_b_tag','jet_4_pt','jet_4_eta','jet_4_phi','jet_4_b_tag','m_jj','m_jjj','m_lv','m_jlv','m_bb','m_wbb','m_wwbb']"
   ]
  },
  {
   "cell_type": "code",
   "execution_count": 5,
   "metadata": {},
   "outputs": [
    {
     "data": {
      "text/html": [
       "<div>\n",
       "<style scoped>\n",
       "    .dataframe tbody tr th:only-of-type {\n",
       "        vertical-align: middle;\n",
       "    }\n",
       "\n",
       "    .dataframe tbody tr th {\n",
       "        vertical-align: top;\n",
       "    }\n",
       "\n",
       "    .dataframe thead th {\n",
       "        text-align: right;\n",
       "    }\n",
       "</style>\n",
       "<table border=\"1\" class=\"dataframe\">\n",
       "  <thead>\n",
       "    <tr style=\"text-align: right;\">\n",
       "      <th></th>\n",
       "      <th>class_label</th>\n",
       "      <th>lepton_pT</th>\n",
       "      <th>lepton_eta</th>\n",
       "      <th>lepton_phi</th>\n",
       "      <th>missing_energy_magnitude</th>\n",
       "      <th>missing_energy_phi</th>\n",
       "      <th>jet_1_pt</th>\n",
       "      <th>jet_1_eta</th>\n",
       "      <th>jet_1_phi</th>\n",
       "      <th>jet_1_b_tag</th>\n",
       "      <th>...</th>\n",
       "      <th>jet_4_eta</th>\n",
       "      <th>jet_4_phi</th>\n",
       "      <th>jet_4_b_tag</th>\n",
       "      <th>m_jj</th>\n",
       "      <th>m_jjj</th>\n",
       "      <th>m_lv</th>\n",
       "      <th>m_jlv</th>\n",
       "      <th>m_bb</th>\n",
       "      <th>m_wbb</th>\n",
       "      <th>m_wwbb</th>\n",
       "    </tr>\n",
       "  </thead>\n",
       "  <tbody>\n",
       "    <tr>\n",
       "      <td>0</td>\n",
       "      <td>1.0</td>\n",
       "      <td>0.869141</td>\n",
       "      <td>-0.635254</td>\n",
       "      <td>0.225708</td>\n",
       "      <td>0.327393</td>\n",
       "      <td>-0.689941</td>\n",
       "      <td>0.754395</td>\n",
       "      <td>-0.248535</td>\n",
       "      <td>-1.091797</td>\n",
       "      <td>0.000000</td>\n",
       "      <td>...</td>\n",
       "      <td>-0.010452</td>\n",
       "      <td>-0.045776</td>\n",
       "      <td>3.101562</td>\n",
       "      <td>1.353516</td>\n",
       "      <td>0.979492</td>\n",
       "      <td>0.978027</td>\n",
       "      <td>0.919922</td>\n",
       "      <td>0.721680</td>\n",
       "      <td>0.988770</td>\n",
       "      <td>0.876465</td>\n",
       "    </tr>\n",
       "    <tr>\n",
       "      <td>1</td>\n",
       "      <td>1.0</td>\n",
       "      <td>0.907715</td>\n",
       "      <td>0.329102</td>\n",
       "      <td>0.359375</td>\n",
       "      <td>1.498047</td>\n",
       "      <td>-0.312988</td>\n",
       "      <td>1.095703</td>\n",
       "      <td>-0.557617</td>\n",
       "      <td>-1.587891</td>\n",
       "      <td>2.173828</td>\n",
       "      <td>...</td>\n",
       "      <td>-1.138672</td>\n",
       "      <td>-0.000819</td>\n",
       "      <td>0.000000</td>\n",
       "      <td>0.302246</td>\n",
       "      <td>0.833008</td>\n",
       "      <td>0.985840</td>\n",
       "      <td>0.978027</td>\n",
       "      <td>0.779785</td>\n",
       "      <td>0.992188</td>\n",
       "      <td>0.798340</td>\n",
       "    </tr>\n",
       "    <tr>\n",
       "      <td>2</td>\n",
       "      <td>1.0</td>\n",
       "      <td>0.798828</td>\n",
       "      <td>1.470703</td>\n",
       "      <td>-1.635742</td>\n",
       "      <td>0.453857</td>\n",
       "      <td>0.425537</td>\n",
       "      <td>1.104492</td>\n",
       "      <td>1.282227</td>\n",
       "      <td>1.381836</td>\n",
       "      <td>0.000000</td>\n",
       "      <td>...</td>\n",
       "      <td>1.128906</td>\n",
       "      <td>0.900391</td>\n",
       "      <td>0.000000</td>\n",
       "      <td>0.909668</td>\n",
       "      <td>1.108398</td>\n",
       "      <td>0.985840</td>\n",
       "      <td>0.951172</td>\n",
       "      <td>0.803223</td>\n",
       "      <td>0.865723</td>\n",
       "      <td>0.780273</td>\n",
       "    </tr>\n",
       "    <tr>\n",
       "      <td>3</td>\n",
       "      <td>0.0</td>\n",
       "      <td>1.344727</td>\n",
       "      <td>-0.876465</td>\n",
       "      <td>0.936035</td>\n",
       "      <td>1.992188</td>\n",
       "      <td>0.882324</td>\n",
       "      <td>1.786133</td>\n",
       "      <td>-1.646484</td>\n",
       "      <td>-0.942383</td>\n",
       "      <td>0.000000</td>\n",
       "      <td>...</td>\n",
       "      <td>-0.678223</td>\n",
       "      <td>-1.360352</td>\n",
       "      <td>0.000000</td>\n",
       "      <td>0.946777</td>\n",
       "      <td>1.028320</td>\n",
       "      <td>0.998535</td>\n",
       "      <td>0.728516</td>\n",
       "      <td>0.869141</td>\n",
       "      <td>1.026367</td>\n",
       "      <td>0.958008</td>\n",
       "    </tr>\n",
       "    <tr>\n",
       "      <td>4</td>\n",
       "      <td>1.0</td>\n",
       "      <td>1.105469</td>\n",
       "      <td>0.321289</td>\n",
       "      <td>1.522461</td>\n",
       "      <td>0.882812</td>\n",
       "      <td>-1.205078</td>\n",
       "      <td>0.681641</td>\n",
       "      <td>-1.070312</td>\n",
       "      <td>-0.921875</td>\n",
       "      <td>0.000000</td>\n",
       "      <td>...</td>\n",
       "      <td>-0.373535</td>\n",
       "      <td>0.113037</td>\n",
       "      <td>0.000000</td>\n",
       "      <td>0.755859</td>\n",
       "      <td>1.361328</td>\n",
       "      <td>0.986816</td>\n",
       "      <td>0.837891</td>\n",
       "      <td>1.132812</td>\n",
       "      <td>0.872070</td>\n",
       "      <td>0.808594</td>\n",
       "    </tr>\n",
       "  </tbody>\n",
       "</table>\n",
       "<p>5 rows × 29 columns</p>\n",
       "</div>"
      ],
      "text/plain": [
       "   class_label  lepton_pT  lepton_eta  lepton_phi  missing_energy_magnitude  \\\n",
       "0          1.0   0.869141   -0.635254    0.225708                  0.327393   \n",
       "1          1.0   0.907715    0.329102    0.359375                  1.498047   \n",
       "2          1.0   0.798828    1.470703   -1.635742                  0.453857   \n",
       "3          0.0   1.344727   -0.876465    0.936035                  1.992188   \n",
       "4          1.0   1.105469    0.321289    1.522461                  0.882812   \n",
       "\n",
       "   missing_energy_phi  jet_1_pt  jet_1_eta  jet_1_phi  jet_1_b_tag  ...  \\\n",
       "0           -0.689941  0.754395  -0.248535  -1.091797     0.000000  ...   \n",
       "1           -0.312988  1.095703  -0.557617  -1.587891     2.173828  ...   \n",
       "2            0.425537  1.104492   1.282227   1.381836     0.000000  ...   \n",
       "3            0.882324  1.786133  -1.646484  -0.942383     0.000000  ...   \n",
       "4           -1.205078  0.681641  -1.070312  -0.921875     0.000000  ...   \n",
       "\n",
       "   jet_4_eta  jet_4_phi  jet_4_b_tag      m_jj     m_jjj      m_lv     m_jlv  \\\n",
       "0  -0.010452  -0.045776     3.101562  1.353516  0.979492  0.978027  0.919922   \n",
       "1  -1.138672  -0.000819     0.000000  0.302246  0.833008  0.985840  0.978027   \n",
       "2   1.128906   0.900391     0.000000  0.909668  1.108398  0.985840  0.951172   \n",
       "3  -0.678223  -1.360352     0.000000  0.946777  1.028320  0.998535  0.728516   \n",
       "4  -0.373535   0.113037     0.000000  0.755859  1.361328  0.986816  0.837891   \n",
       "\n",
       "       m_bb     m_wbb    m_wwbb  \n",
       "0  0.721680  0.988770  0.876465  \n",
       "1  0.779785  0.992188  0.798340  \n",
       "2  0.803223  0.865723  0.780273  \n",
       "3  0.869141  1.026367  0.958008  \n",
       "4  1.132812  0.872070  0.808594  \n",
       "\n",
       "[5 rows x 29 columns]"
      ]
     },
     "execution_count": 5,
     "metadata": {},
     "output_type": "execute_result"
    }
   ],
   "source": [
    "higgs.head()"
   ]
  },
  {
   "cell_type": "code",
   "execution_count": 6,
   "metadata": {},
   "outputs": [
    {
     "data": {
      "text/html": [
       "<div>\n",
       "<style scoped>\n",
       "    .dataframe tbody tr th:only-of-type {\n",
       "        vertical-align: middle;\n",
       "    }\n",
       "\n",
       "    .dataframe tbody tr th {\n",
       "        vertical-align: top;\n",
       "    }\n",
       "\n",
       "    .dataframe thead th {\n",
       "        text-align: right;\n",
       "    }\n",
       "</style>\n",
       "<table border=\"1\" class=\"dataframe\">\n",
       "  <thead>\n",
       "    <tr style=\"text-align: right;\">\n",
       "      <th></th>\n",
       "      <th>class_label</th>\n",
       "      <th>lepton_pT</th>\n",
       "      <th>lepton_eta</th>\n",
       "      <th>lepton_phi</th>\n",
       "      <th>missing_energy_magnitude</th>\n",
       "      <th>missing_energy_phi</th>\n",
       "      <th>jet_1_pt</th>\n",
       "      <th>jet_1_eta</th>\n",
       "      <th>jet_1_phi</th>\n",
       "      <th>jet_1_b_tag</th>\n",
       "      <th>...</th>\n",
       "      <th>jet_4_eta</th>\n",
       "      <th>jet_4_phi</th>\n",
       "      <th>jet_4_b_tag</th>\n",
       "      <th>m_jj</th>\n",
       "      <th>m_jjj</th>\n",
       "      <th>m_lv</th>\n",
       "      <th>m_jlv</th>\n",
       "      <th>m_bb</th>\n",
       "      <th>m_wbb</th>\n",
       "      <th>m_wwbb</th>\n",
       "    </tr>\n",
       "  </thead>\n",
       "  <tbody>\n",
       "    <tr>\n",
       "      <td>count</td>\n",
       "      <td>1000000.0</td>\n",
       "      <td>1000000.000000</td>\n",
       "      <td>1000000.000000</td>\n",
       "      <td>1000000.000000</td>\n",
       "      <td>1000000.000000</td>\n",
       "      <td>1000000.000000</td>\n",
       "      <td>1000000.000000</td>\n",
       "      <td>1000000.000000</td>\n",
       "      <td>1000000.000000</td>\n",
       "      <td>1000000.000000</td>\n",
       "      <td>...</td>\n",
       "      <td>1000000.000000</td>\n",
       "      <td>1000000.000000</td>\n",
       "      <td>1000000.000000</td>\n",
       "      <td>1000000.000000</td>\n",
       "      <td>1000000.000000</td>\n",
       "      <td>1000000.000000</td>\n",
       "      <td>1000000.000000</td>\n",
       "      <td>1000000.000000</td>\n",
       "      <td>1000000.000000</td>\n",
       "      <td>1000000.000000</td>\n",
       "    </tr>\n",
       "    <tr>\n",
       "      <td>mean</td>\n",
       "      <td>NaN</td>\n",
       "      <td>NaN</td>\n",
       "      <td>0.000496</td>\n",
       "      <td>-0.000953</td>\n",
       "      <td>NaN</td>\n",
       "      <td>-0.000574</td>\n",
       "      <td>NaN</td>\n",
       "      <td>-0.000823</td>\n",
       "      <td>0.000549</td>\n",
       "      <td>NaN</td>\n",
       "      <td>...</td>\n",
       "      <td>-0.000374</td>\n",
       "      <td>-0.001727</td>\n",
       "      <td>NaN</td>\n",
       "      <td>NaN</td>\n",
       "      <td>NaN</td>\n",
       "      <td>NaN</td>\n",
       "      <td>NaN</td>\n",
       "      <td>NaN</td>\n",
       "      <td>NaN</td>\n",
       "      <td>NaN</td>\n",
       "    </tr>\n",
       "    <tr>\n",
       "      <td>std</td>\n",
       "      <td>0.0</td>\n",
       "      <td>0.000000</td>\n",
       "      <td>0.000000</td>\n",
       "      <td>0.000000</td>\n",
       "      <td>0.000000</td>\n",
       "      <td>0.000000</td>\n",
       "      <td>0.000000</td>\n",
       "      <td>0.000000</td>\n",
       "      <td>0.000000</td>\n",
       "      <td>0.000000</td>\n",
       "      <td>...</td>\n",
       "      <td>0.000000</td>\n",
       "      <td>0.000000</td>\n",
       "      <td>0.000000</td>\n",
       "      <td>0.000000</td>\n",
       "      <td>0.000000</td>\n",
       "      <td>0.000000</td>\n",
       "      <td>0.000000</td>\n",
       "      <td>0.000000</td>\n",
       "      <td>0.000000</td>\n",
       "      <td>0.000000</td>\n",
       "    </tr>\n",
       "    <tr>\n",
       "      <td>min</td>\n",
       "      <td>0.0</td>\n",
       "      <td>0.274658</td>\n",
       "      <td>-2.435547</td>\n",
       "      <td>-1.742188</td>\n",
       "      <td>0.000626</td>\n",
       "      <td>-1.744141</td>\n",
       "      <td>0.138550</td>\n",
       "      <td>-2.968750</td>\n",
       "      <td>-1.741211</td>\n",
       "      <td>0.000000</td>\n",
       "      <td>...</td>\n",
       "      <td>-2.498047</td>\n",
       "      <td>-1.743164</td>\n",
       "      <td>0.000000</td>\n",
       "      <td>0.101196</td>\n",
       "      <td>0.234741</td>\n",
       "      <td>0.092224</td>\n",
       "      <td>0.157471</td>\n",
       "      <td>0.048126</td>\n",
       "      <td>0.303467</td>\n",
       "      <td>0.350830</td>\n",
       "    </tr>\n",
       "    <tr>\n",
       "      <td>25%</td>\n",
       "      <td>0.0</td>\n",
       "      <td>0.590820</td>\n",
       "      <td>-0.737305</td>\n",
       "      <td>-0.872070</td>\n",
       "      <td>0.576660</td>\n",
       "      <td>-0.871582</td>\n",
       "      <td>0.678711</td>\n",
       "      <td>-0.689453</td>\n",
       "      <td>-0.867676</td>\n",
       "      <td>0.000000</td>\n",
       "      <td>...</td>\n",
       "      <td>-0.714355</td>\n",
       "      <td>-0.872070</td>\n",
       "      <td>0.000000</td>\n",
       "      <td>0.790527</td>\n",
       "      <td>0.846191</td>\n",
       "      <td>0.985840</td>\n",
       "      <td>0.767578</td>\n",
       "      <td>0.673828</td>\n",
       "      <td>0.819336</td>\n",
       "      <td>0.770508</td>\n",
       "    </tr>\n",
       "    <tr>\n",
       "      <td>50%</td>\n",
       "      <td>1.0</td>\n",
       "      <td>0.853516</td>\n",
       "      <td>0.000920</td>\n",
       "      <td>0.000417</td>\n",
       "      <td>0.891602</td>\n",
       "      <td>-0.000799</td>\n",
       "      <td>0.894043</td>\n",
       "      <td>-0.001016</td>\n",
       "      <td>0.000715</td>\n",
       "      <td>1.086914</td>\n",
       "      <td>...</td>\n",
       "      <td>0.000372</td>\n",
       "      <td>-0.005260</td>\n",
       "      <td>0.000000</td>\n",
       "      <td>0.895020</td>\n",
       "      <td>0.950684</td>\n",
       "      <td>0.989746</td>\n",
       "      <td>0.916504</td>\n",
       "      <td>0.873535</td>\n",
       "      <td>0.947266</td>\n",
       "      <td>0.871582</td>\n",
       "    </tr>\n",
       "    <tr>\n",
       "      <td>75%</td>\n",
       "      <td>1.0</td>\n",
       "      <td>1.237305</td>\n",
       "      <td>0.738281</td>\n",
       "      <td>0.868652</td>\n",
       "      <td>1.292969</td>\n",
       "      <td>0.871582</td>\n",
       "      <td>1.170898</td>\n",
       "      <td>0.687012</td>\n",
       "      <td>0.870117</td>\n",
       "      <td>2.173828</td>\n",
       "      <td>...</td>\n",
       "      <td>0.714844</td>\n",
       "      <td>0.868652</td>\n",
       "      <td>3.101562</td>\n",
       "      <td>1.024414</td>\n",
       "      <td>1.083008</td>\n",
       "      <td>1.020508</td>\n",
       "      <td>1.142578</td>\n",
       "      <td>1.139648</td>\n",
       "      <td>1.140625</td>\n",
       "      <td>1.059570</td>\n",
       "    </tr>\n",
       "    <tr>\n",
       "      <td>max</td>\n",
       "      <td>1.0</td>\n",
       "      <td>8.710938</td>\n",
       "      <td>2.435547</td>\n",
       "      <td>1.743164</td>\n",
       "      <td>9.898438</td>\n",
       "      <td>1.743164</td>\n",
       "      <td>8.382812</td>\n",
       "      <td>2.968750</td>\n",
       "      <td>1.741211</td>\n",
       "      <td>2.173828</td>\n",
       "      <td>...</td>\n",
       "      <td>2.498047</td>\n",
       "      <td>1.743164</td>\n",
       "      <td>3.101562</td>\n",
       "      <td>31.078125</td>\n",
       "      <td>15.640625</td>\n",
       "      <td>5.921875</td>\n",
       "      <td>10.796875</td>\n",
       "      <td>13.734375</td>\n",
       "      <td>8.781250</td>\n",
       "      <td>6.257812</td>\n",
       "    </tr>\n",
       "  </tbody>\n",
       "</table>\n",
       "<p>8 rows × 29 columns</p>\n",
       "</div>"
      ],
      "text/plain": [
       "       class_label       lepton_pT      lepton_eta      lepton_phi  \\\n",
       "count    1000000.0  1000000.000000  1000000.000000  1000000.000000   \n",
       "mean           NaN             NaN        0.000496       -0.000953   \n",
       "std            0.0        0.000000        0.000000        0.000000   \n",
       "min            0.0        0.274658       -2.435547       -1.742188   \n",
       "25%            0.0        0.590820       -0.737305       -0.872070   \n",
       "50%            1.0        0.853516        0.000920        0.000417   \n",
       "75%            1.0        1.237305        0.738281        0.868652   \n",
       "max            1.0        8.710938        2.435547        1.743164   \n",
       "\n",
       "       missing_energy_magnitude  missing_energy_phi        jet_1_pt  \\\n",
       "count            1000000.000000      1000000.000000  1000000.000000   \n",
       "mean                        NaN           -0.000574             NaN   \n",
       "std                    0.000000            0.000000        0.000000   \n",
       "min                    0.000626           -1.744141        0.138550   \n",
       "25%                    0.576660           -0.871582        0.678711   \n",
       "50%                    0.891602           -0.000799        0.894043   \n",
       "75%                    1.292969            0.871582        1.170898   \n",
       "max                    9.898438            1.743164        8.382812   \n",
       "\n",
       "            jet_1_eta       jet_1_phi     jet_1_b_tag  ...       jet_4_eta  \\\n",
       "count  1000000.000000  1000000.000000  1000000.000000  ...  1000000.000000   \n",
       "mean        -0.000823        0.000549             NaN  ...       -0.000374   \n",
       "std          0.000000        0.000000        0.000000  ...        0.000000   \n",
       "min         -2.968750       -1.741211        0.000000  ...       -2.498047   \n",
       "25%         -0.689453       -0.867676        0.000000  ...       -0.714355   \n",
       "50%         -0.001016        0.000715        1.086914  ...        0.000372   \n",
       "75%          0.687012        0.870117        2.173828  ...        0.714844   \n",
       "max          2.968750        1.741211        2.173828  ...        2.498047   \n",
       "\n",
       "            jet_4_phi     jet_4_b_tag            m_jj           m_jjj  \\\n",
       "count  1000000.000000  1000000.000000  1000000.000000  1000000.000000   \n",
       "mean        -0.001727             NaN             NaN             NaN   \n",
       "std          0.000000        0.000000        0.000000        0.000000   \n",
       "min         -1.743164        0.000000        0.101196        0.234741   \n",
       "25%         -0.872070        0.000000        0.790527        0.846191   \n",
       "50%         -0.005260        0.000000        0.895020        0.950684   \n",
       "75%          0.868652        3.101562        1.024414        1.083008   \n",
       "max          1.743164        3.101562       31.078125       15.640625   \n",
       "\n",
       "                 m_lv           m_jlv            m_bb           m_wbb  \\\n",
       "count  1000000.000000  1000000.000000  1000000.000000  1000000.000000   \n",
       "mean              NaN             NaN             NaN             NaN   \n",
       "std          0.000000        0.000000        0.000000        0.000000   \n",
       "min          0.092224        0.157471        0.048126        0.303467   \n",
       "25%          0.985840        0.767578        0.673828        0.819336   \n",
       "50%          0.989746        0.916504        0.873535        0.947266   \n",
       "75%          1.020508        1.142578        1.139648        1.140625   \n",
       "max          5.921875       10.796875       13.734375        8.781250   \n",
       "\n",
       "               m_wwbb  \n",
       "count  1000000.000000  \n",
       "mean              NaN  \n",
       "std          0.000000  \n",
       "min          0.350830  \n",
       "25%          0.770508  \n",
       "50%          0.871582  \n",
       "75%          1.059570  \n",
       "max          6.257812  \n",
       "\n",
       "[8 rows x 29 columns]"
      ]
     },
     "execution_count": 6,
     "metadata": {},
     "output_type": "execute_result"
    }
   ],
   "source": [
    "higgs.describe()"
   ]
  },
  {
   "cell_type": "code",
   "execution_count": 7,
   "metadata": {},
   "outputs": [
    {
     "data": {
      "text/plain": [
       "class_label                 0\n",
       "lepton_pT                   0\n",
       "lepton_eta                  0\n",
       "lepton_phi                  0\n",
       "missing_energy_magnitude    0\n",
       "missing_energy_phi          0\n",
       "jet_1_pt                    0\n",
       "jet_1_eta                   0\n",
       "jet_1_phi                   0\n",
       "jet_1_b_tag                 0\n",
       "jet_2_pt                    0\n",
       "jet_2_eta                   0\n",
       "jet_2_phi                   0\n",
       "jet_2_b_tag                 0\n",
       "jet_3_pt                    0\n",
       "jet_3_eta                   0\n",
       "jet_3_phi                   0\n",
       "jet_3_b_tag                 0\n",
       "jet_4_pt                    0\n",
       "jet_4_eta                   0\n",
       "jet_4_phi                   0\n",
       "jet_4_b_tag                 0\n",
       "m_jj                        0\n",
       "m_jjj                       0\n",
       "m_lv                        0\n",
       "m_jlv                       0\n",
       "m_bb                        0\n",
       "m_wbb                       0\n",
       "m_wwbb                      0\n",
       "dtype: int64"
      ]
     },
     "execution_count": 7,
     "metadata": {},
     "output_type": "execute_result"
    }
   ],
   "source": [
    "higgs.isnull().sum()"
   ]
  },
  {
   "cell_type": "code",
   "execution_count": 8,
   "metadata": {},
   "outputs": [
    {
     "data": {
      "text/html": [
       "<div>\n",
       "<style scoped>\n",
       "    .dataframe tbody tr th:only-of-type {\n",
       "        vertical-align: middle;\n",
       "    }\n",
       "\n",
       "    .dataframe tbody tr th {\n",
       "        vertical-align: top;\n",
       "    }\n",
       "\n",
       "    .dataframe thead th {\n",
       "        text-align: right;\n",
       "    }\n",
       "</style>\n",
       "<table border=\"1\" class=\"dataframe\">\n",
       "  <thead>\n",
       "    <tr style=\"text-align: right;\">\n",
       "      <th></th>\n",
       "      <th>lepton_pT</th>\n",
       "      <th>lepton_eta</th>\n",
       "      <th>lepton_phi</th>\n",
       "      <th>missing_energy_magnitude</th>\n",
       "      <th>missing_energy_phi</th>\n",
       "      <th>jet_1_pt</th>\n",
       "      <th>jet_1_eta</th>\n",
       "      <th>jet_1_phi</th>\n",
       "      <th>jet_1_b_tag</th>\n",
       "      <th>jet_2_pt</th>\n",
       "      <th>...</th>\n",
       "      <th>jet_4_eta</th>\n",
       "      <th>jet_4_phi</th>\n",
       "      <th>jet_4_b_tag</th>\n",
       "      <th>m_jj</th>\n",
       "      <th>m_jjj</th>\n",
       "      <th>m_lv</th>\n",
       "      <th>m_jlv</th>\n",
       "      <th>m_bb</th>\n",
       "      <th>m_wbb</th>\n",
       "      <th>m_wwbb</th>\n",
       "    </tr>\n",
       "  </thead>\n",
       "  <tbody>\n",
       "    <tr>\n",
       "      <td>0</td>\n",
       "      <td>0.869141</td>\n",
       "      <td>-0.635254</td>\n",
       "      <td>0.225708</td>\n",
       "      <td>0.327393</td>\n",
       "      <td>-0.689941</td>\n",
       "      <td>0.754395</td>\n",
       "      <td>-0.248535</td>\n",
       "      <td>-1.091797</td>\n",
       "      <td>0.000000</td>\n",
       "      <td>1.375000</td>\n",
       "      <td>...</td>\n",
       "      <td>-0.010452</td>\n",
       "      <td>-0.045776</td>\n",
       "      <td>3.101562</td>\n",
       "      <td>1.353516</td>\n",
       "      <td>0.979492</td>\n",
       "      <td>0.978027</td>\n",
       "      <td>0.919922</td>\n",
       "      <td>0.721680</td>\n",
       "      <td>0.988770</td>\n",
       "      <td>0.876465</td>\n",
       "    </tr>\n",
       "    <tr>\n",
       "      <td>1</td>\n",
       "      <td>0.907715</td>\n",
       "      <td>0.329102</td>\n",
       "      <td>0.359375</td>\n",
       "      <td>1.498047</td>\n",
       "      <td>-0.312988</td>\n",
       "      <td>1.095703</td>\n",
       "      <td>-0.557617</td>\n",
       "      <td>-1.587891</td>\n",
       "      <td>2.173828</td>\n",
       "      <td>0.812500</td>\n",
       "      <td>...</td>\n",
       "      <td>-1.138672</td>\n",
       "      <td>-0.000819</td>\n",
       "      <td>0.000000</td>\n",
       "      <td>0.302246</td>\n",
       "      <td>0.833008</td>\n",
       "      <td>0.985840</td>\n",
       "      <td>0.978027</td>\n",
       "      <td>0.779785</td>\n",
       "      <td>0.992188</td>\n",
       "      <td>0.798340</td>\n",
       "    </tr>\n",
       "    <tr>\n",
       "      <td>2</td>\n",
       "      <td>0.798828</td>\n",
       "      <td>1.470703</td>\n",
       "      <td>-1.635742</td>\n",
       "      <td>0.453857</td>\n",
       "      <td>0.425537</td>\n",
       "      <td>1.104492</td>\n",
       "      <td>1.282227</td>\n",
       "      <td>1.381836</td>\n",
       "      <td>0.000000</td>\n",
       "      <td>0.851562</td>\n",
       "      <td>...</td>\n",
       "      <td>1.128906</td>\n",
       "      <td>0.900391</td>\n",
       "      <td>0.000000</td>\n",
       "      <td>0.909668</td>\n",
       "      <td>1.108398</td>\n",
       "      <td>0.985840</td>\n",
       "      <td>0.951172</td>\n",
       "      <td>0.803223</td>\n",
       "      <td>0.865723</td>\n",
       "      <td>0.780273</td>\n",
       "    </tr>\n",
       "    <tr>\n",
       "      <td>3</td>\n",
       "      <td>1.344727</td>\n",
       "      <td>-0.876465</td>\n",
       "      <td>0.936035</td>\n",
       "      <td>1.992188</td>\n",
       "      <td>0.882324</td>\n",
       "      <td>1.786133</td>\n",
       "      <td>-1.646484</td>\n",
       "      <td>-0.942383</td>\n",
       "      <td>0.000000</td>\n",
       "      <td>2.423828</td>\n",
       "      <td>...</td>\n",
       "      <td>-0.678223</td>\n",
       "      <td>-1.360352</td>\n",
       "      <td>0.000000</td>\n",
       "      <td>0.946777</td>\n",
       "      <td>1.028320</td>\n",
       "      <td>0.998535</td>\n",
       "      <td>0.728516</td>\n",
       "      <td>0.869141</td>\n",
       "      <td>1.026367</td>\n",
       "      <td>0.958008</td>\n",
       "    </tr>\n",
       "    <tr>\n",
       "      <td>4</td>\n",
       "      <td>1.105469</td>\n",
       "      <td>0.321289</td>\n",
       "      <td>1.522461</td>\n",
       "      <td>0.882812</td>\n",
       "      <td>-1.205078</td>\n",
       "      <td>0.681641</td>\n",
       "      <td>-1.070312</td>\n",
       "      <td>-0.921875</td>\n",
       "      <td>0.000000</td>\n",
       "      <td>0.800781</td>\n",
       "      <td>...</td>\n",
       "      <td>-0.373535</td>\n",
       "      <td>0.113037</td>\n",
       "      <td>0.000000</td>\n",
       "      <td>0.755859</td>\n",
       "      <td>1.361328</td>\n",
       "      <td>0.986816</td>\n",
       "      <td>0.837891</td>\n",
       "      <td>1.132812</td>\n",
       "      <td>0.872070</td>\n",
       "      <td>0.808594</td>\n",
       "    </tr>\n",
       "  </tbody>\n",
       "</table>\n",
       "<p>5 rows × 28 columns</p>\n",
       "</div>"
      ],
      "text/plain": [
       "   lepton_pT  lepton_eta  lepton_phi  missing_energy_magnitude  \\\n",
       "0   0.869141   -0.635254    0.225708                  0.327393   \n",
       "1   0.907715    0.329102    0.359375                  1.498047   \n",
       "2   0.798828    1.470703   -1.635742                  0.453857   \n",
       "3   1.344727   -0.876465    0.936035                  1.992188   \n",
       "4   1.105469    0.321289    1.522461                  0.882812   \n",
       "\n",
       "   missing_energy_phi  jet_1_pt  jet_1_eta  jet_1_phi  jet_1_b_tag  jet_2_pt  \\\n",
       "0           -0.689941  0.754395  -0.248535  -1.091797     0.000000  1.375000   \n",
       "1           -0.312988  1.095703  -0.557617  -1.587891     2.173828  0.812500   \n",
       "2            0.425537  1.104492   1.282227   1.381836     0.000000  0.851562   \n",
       "3            0.882324  1.786133  -1.646484  -0.942383     0.000000  2.423828   \n",
       "4           -1.205078  0.681641  -1.070312  -0.921875     0.000000  0.800781   \n",
       "\n",
       "   ...  jet_4_eta  jet_4_phi  jet_4_b_tag      m_jj     m_jjj      m_lv  \\\n",
       "0  ...  -0.010452  -0.045776     3.101562  1.353516  0.979492  0.978027   \n",
       "1  ...  -1.138672  -0.000819     0.000000  0.302246  0.833008  0.985840   \n",
       "2  ...   1.128906   0.900391     0.000000  0.909668  1.108398  0.985840   \n",
       "3  ...  -0.678223  -1.360352     0.000000  0.946777  1.028320  0.998535   \n",
       "4  ...  -0.373535   0.113037     0.000000  0.755859  1.361328  0.986816   \n",
       "\n",
       "      m_jlv      m_bb     m_wbb    m_wwbb  \n",
       "0  0.919922  0.721680  0.988770  0.876465  \n",
       "1  0.978027  0.779785  0.992188  0.798340  \n",
       "2  0.951172  0.803223  0.865723  0.780273  \n",
       "3  0.728516  0.869141  1.026367  0.958008  \n",
       "4  0.837891  1.132812  0.872070  0.808594  \n",
       "\n",
       "[5 rows x 28 columns]"
      ]
     },
     "execution_count": 8,
     "metadata": {},
     "output_type": "execute_result"
    }
   ],
   "source": [
    "x=higgs.copy()\n",
    "x=x.drop(['class_label'],axis=1)\n",
    "x.head()"
   ]
  },
  {
   "cell_type": "code",
   "execution_count": 9,
   "metadata": {},
   "outputs": [
    {
     "data": {
      "text/plain": [
       "0    1.0\n",
       "1    1.0\n",
       "2    1.0\n",
       "3    0.0\n",
       "4    1.0\n",
       "Name: class_label, dtype: float16"
      ]
     },
     "execution_count": 9,
     "metadata": {},
     "output_type": "execute_result"
    }
   ],
   "source": [
    "y=higgs['class_label']\n",
    "y.head()"
   ]
  },
  {
   "cell_type": "markdown",
   "metadata": {},
   "source": [
    "### Scale Data"
   ]
  },
  {
   "cell_type": "code",
   "execution_count": 10,
   "metadata": {},
   "outputs": [
    {
     "name": "stdout",
     "output_type": "stream",
     "text": [
      "Note: median values were scaled by multiplying by 0.4514991182 and adding 0.000000\n"
     ]
    }
   ],
   "source": [
    "from sklearn.preprocessing import MinMaxScaler\n",
    "\n",
    "scaler = MinMaxScaler(feature_range=(0, 1))\n",
    "scaled_train = scaler.fit_transform(x)\n",
    "\n",
    "# Print out the adjustment that the scaler applied to the total_earnings column of data\n",
    "print(\"Note: median values were scaled by multiplying by {:.10f} and adding {:.6f}\".format(scaler.scale_[12], scaler.min_[12]))\n",
    "multiplied_by = scaler.scale_[12]\n",
    "added = scaler.min_[12]\n",
    "\n",
    "scaled_train_df = pd.DataFrame(scaled_train, columns=x.columns.values)"
   ]
  },
  {
   "cell_type": "code",
   "execution_count": 11,
   "metadata": {},
   "outputs": [
    {
     "data": {
      "image/png": "[encoded data removed]",
      "text/plain": [
       "<Figure size 432x288 with 1 Axes>"
      ]
     },
     "metadata": {
      "needs_background": "light"
     },
     "output_type": "display_data"
    },
    {
     "data": {
      "image/png": "[encoded data removed]",
      "text/plain": [
       "<Figure size 432x288 with 1 Axes>"
      ]
     },
     "metadata": {
      "needs_background": "light"
     },
     "output_type": "display_data"
    },
    {
     "data": {
      "image/png": "[encoded data removed]",
      "text/plain": [
       "<Figure size 432x288 with 1 Axes>"
      ]
     },
     "metadata": {
      "needs_background": "light"
     },
     "output_type": "display_data"
    },
    {
     "data": {
      "image/png": "[encoded data removed]",
      "text/plain": [
       "<Figure size 432x288 with 1 Axes>"
      ]
     },
     "metadata": {
      "needs_background": "light"
     },
     "output_type": "display_data"
    },
    {
     "data": {
      "image/png": "[encoded data removed]",
      "text/plain": [
       "<Figure size 432x288 with 1 Axes>"
      ]
     },
     "metadata": {
      "needs_background": "light"
     },
     "output_type": "display_data"
    },
    {
     "data": {
      "image/png": "[encoded data removed]",
      "text/plain": [
       "<Figure size 432x288 with 1 Axes>"
      ]
     },
     "metadata": {
      "needs_background": "light"
     },
     "output_type": "display_data"
    },
    {
     "data": {
      "image/png": "[encoded data removed]",
      "text/plain": [
       "<Figure size 432x288 with 1 Axes>"
      ]
     },
     "metadata": {
      "needs_background": "light"
     },
     "output_type": "display_data"
    },
    {
     "data": {
      "image/png": "[encoded data removed]",
      "text/plain": [
       "<Figure size 432x288 with 1 Axes>"
      ]
     },
     "metadata": {
      "needs_background": "light"
     },
     "output_type": "display_data"
    },
    {
     "data": {
      "image/png": "[encoded data removed]",
      "text/plain": [
       "<Figure size 432x288 with 1 Axes>"
      ]
     },
     "metadata": {
      "needs_background": "light"
     },
     "output_type": "display_data"
    },
    {
     "data": {
      "image/png": "[encoded data removed]",
      "text/plain": [
       "<Figure size 432x288 with 1 Axes>"
      ]
     },
     "metadata": {
      "needs_background": "light"
     },
     "output_type": "display_data"
    },
    {
     "data": {
      "image/png": "[encoded data removed]",
      "text/plain": [
       "<Figure size 432x288 with 1 Axes>"
      ]
     },
     "metadata": {
      "needs_background": "light"
     },
     "output_type": "display_data"
    },
    {
     "data": {
      "image/png": "[encoded data removed]",
      "text/plain": [
       "<Figure size 432x288 with 1 Axes>"
      ]
     },
     "metadata": {
      "needs_background": "light"
     },
     "output_type": "display_data"
    },
    {
     "data": {
      "image/png": "[encoded data removed]",
      "text/plain": [
       "<Figure size 432x288 with 1 Axes>"
      ]
     },
     "metadata": {
      "needs_background": "light"
     },
     "output_type": "display_data"
    },
    {
     "data": {
      "image/png": "[encoded data removed]",
      "text/plain": [
       "<Figure size 432x288 with 1 Axes>"
      ]
     },
     "metadata": {
      "needs_background": "light"
     },
     "output_type": "display_data"
    },
    {
     "data": {
      "image/png": "[encoded data removed]",
      "text/plain": [
       "<Figure size 432x288 with 1 Axes>"
      ]
     },
     "metadata": {
      "needs_background": "light"
     },
     "output_type": "display_data"
    },
    {
     "data": {
      "image/png": "[encoded data removed]",
      "text/plain": [
       "<Figure size 432x288 with 1 Axes>"
      ]
     },
     "metadata": {
      "needs_background": "light"
     },
     "output_type": "display_data"
    },
    {
     "data": {
      "image/png": "[encoded data removed]",
      "text/plain": [
       "<Figure size 432x288 with 1 Axes>"
      ]
     },
     "metadata": {
      "needs_background": "light"
     },
     "output_type": "display_data"
    },
    {
     "data": {
      "image/png": "[encoded data removed]",
      "text/plain": [
       "<Figure size 432x288 with 1 Axes>"
      ]
     },
     "metadata": {
      "needs_background": "light"
     },
     "output_type": "display_data"
    },
    {
     "data": {
      "image/png": "[encoded data removed]",
      "text/plain": [
       "<Figure size 432x288 with 1 Axes>"
      ]
     },
     "metadata": {
      "needs_background": "light"
     },
     "output_type": "display_data"
    },
    {
     "data": {
      "image/png": "[encoded data removed]",
      "text/plain": [
       "<Figure size 432x288 with 1 Axes>"
      ]
     },
     "metadata": {
      "needs_background": "light"
     },
     "output_type": "display_data"
    },
    {
     "data": {
      "image/png": "[encoded data removed]",
      "text/plain": [
       "<Figure size 432x288 with 1 Axes>"
      ]
     },
     "metadata": {
      "needs_background": "light"
     },
     "output_type": "display_data"
    },
    {
     "data": {
      "image/png": "[encoded data removed]",
      "text/plain": [
       "<Figure size 432x288 with 1 Axes>"
      ]
     },
     "metadata": {
      "needs_background": "light"
     },
     "output_type": "display_data"
    },
    {
     "data": {
      "image/png": "[encoded data removed]",
      "text/plain": [
       "<Figure size 432x288 with 1 Axes>"
      ]
     },
     "metadata": {
      "needs_background": "light"
     },
     "output_type": "display_data"
    },
    {
     "data": {
      "image/png": "[encoded data removed]",
      "text/plain": [
       "<Figure size 432x288 with 1 Axes>"
      ]
     },
     "metadata": {
      "needs_background": "light"
     },
     "output_type": "display_data"
    },
    {
     "data": {
      "image/png": "[encoded data removed]",
      "text/plain": [
       "<Figure size 432x288 with 1 Axes>"
      ]
     },
     "metadata": {
      "needs_background": "light"
     },
     "output_type": "display_data"
    },
    {
     "data": {
      "image/png": "[encoded data removed]",
      "text/plain": [
       "<Figure size 432x288 with 1 Axes>"
      ]
     },
     "metadata": {
      "needs_background": "light"
     },
     "output_type": "display_data"
    },
    {
     "data": {
      "image/png": "[encoded data removed]",
      "text/plain": [
       "<Figure size 432x288 with 1 Axes>"
      ]
     },
     "metadata": {
      "needs_background": "light"
     },
     "output_type": "display_data"
    },
    {
     "data": {
      "image/png": "[encoded data removed]",
      "text/plain": [
       "<Figure size 432x288 with 1 Axes>"
      ]
     },
     "metadata": {
      "needs_background": "light"
     },
     "output_type": "display_data"
    }
   ],
   "source": [
    "for i in scaled_train_df:\n",
    "    scaled_train_df[i].hist()\n",
    "    plt.show()"
   ]
  },
  {
   "cell_type": "markdown",
   "metadata": {},
   "source": [
    "### Model"
   ]
  },
  {
   "cell_type": "code",
   "execution_count": 20,
   "metadata": {},
   "outputs": [],
   "source": [
    "x.shape\n",
    "y= np.asarray(y)"
   ]
  },
  {
   "cell_type": "markdown",
   "metadata": {},
   "source": [
    "### Compile Model"
   ]
  },
  {
   "cell_type": "markdown",
   "metadata": {},
   "source": [
    "### Fit Model"
   ]
  },
  {
   "cell_type": "markdown",
   "metadata": {},
   "source": [
    "### Hyperparameters"
   ]
  },
  {
   "cell_type": "markdown",
   "metadata": {},
   "source": [
    "hidden layers - tanh function  \n",
    "\n",
    "initial weights - normal distribution with zero mean and std = 0.1 in first layer , 0.001 in the output layer and 0.05 in all other hidden layers\n",
    "\n",
    "gradient computations on batch of size = 100\n",
    "\n",
    "\n",
    "momentum - increased linearly over first 200 epochs from 0.9 to 0.99 , after which it is constant  \n",
    "\n",
    "learning rate decayed by a factor of 1.0000002 every batch update until it reached a minimum of 10 power -6\n",
    "\n",
    "Training ended when momentum reached maximum value and min error on validation set had not decreased by more than a factor of 0.00001 over 10 epochs\n",
    "\n"
   ]
  },
  {
   "cell_type": "code",
   "execution_count": 291,
   "metadata": {},
   "outputs": [],
   "source": [
    "\n"
   ]
  },
  {
   "cell_type": "markdown",
   "metadata": {},
   "source": [
    "### Custom SGD"
   ]
  },
  {
   "cell_type": "code",
   "execution_count": 13,
   "metadata": {},
   "outputs": [],
   "source": [
    "def get_momentum(epoch):\n",
    "    return min(epoch*(0.09/200),0.09)\n",
    "\n",
    "def get_lrate(epoch):\n",
    "    initial_lrate = 0.05\n",
    "    lrate=initial_lrate/((1+epoch)*1.0000002)\n",
    "    return max(10E-6,lrate)"
   ]
  },
  {
   "cell_type": "markdown",
   "metadata": {},
   "source": [
    "<a id='modelinit'></a>\n",
    "<a href=\"#weightmethods\">Back to Top</a>"
   ]
  },
  {
   "cell_type": "code",
   "execution_count": 21,
   "metadata": {},
   "outputs": [],
   "source": [
    "model_csgd = tf.keras.Sequential()\n",
    "model_csgd.add(layers.Dense(300, activation='tanh',kernel_initializer=tf.keras.initializers.RandomNormal(mean=0.0, stddev=0.1, seed=None)))\n",
    "model_csgd.add(layers.Dense(300, activation='tanh',kernel_initializer=tf.keras.initializers.RandomNormal(mean=0.0, stddev=0.05, seed=None)))\n",
    "model_csgd.add(layers.Dense(300, activation='tanh',kernel_initializer=tf.keras.initializers.RandomNormal(mean=0.0, stddev=0.05, seed=None)))\n",
    "model_csgd.add(layers.Dense(300, activation='tanh',kernel_initializer=tf.keras.initializers.RandomNormal(mean=0.0, stddev=0.05, seed=None)))\n",
    "model_csgd.add(layers.Dense(300, activation='tanh',kernel_initializer=tf.keras.initializers.RandomNormal(mean=0.0, stddev=0.05, seed=None)))\n",
    "model_csgd.add(layers.Dense(1,activation='tanh',kernel_initializer=tf.keras.initializers.RandomNormal(mean=0.0, stddev=0.001, seed=None)))"
   ]
  },
  {
   "cell_type": "code",
   "execution_count": 22,
   "metadata": {},
   "outputs": [],
   "source": [
    "learning_rate=0.05\n",
    "decay_rate=1E-5\n",
    "sgd = SGD(lr=learning_rate,  decay=decay_rate, nesterov=False)\n",
    "model_csgd.compile(loss='binary_crossentropy', optimizer=sgd, metrics=['accuracy'])"
   ]
  },
  {
   "cell_type": "code",
   "execution_count": 23,
   "metadata": {},
   "outputs": [
    {
     "name": "stdout",
     "output_type": "stream",
     "text": [
      "Train on 1000000 samples\n",
      "Epoch 1/5\n",
      "1000000/1000000 [==============================] - 33s 33us/sample - loss: 7.2116 - accuracy: 0.5296 - loss: 7\n",
      "Epoch 2/5\n",
      "1000000/1000000 [==============================] - 36s 36us/sample - loss: 7.2116 - accuracy: 0.5297\n",
      "Epoch 3/5\n",
      "1000000/1000000 [==============================] - 33s 33us/sample - loss: 7.2116 - accuracy: 0.5297\n",
      "Epoch 4/5\n",
      "1000000/1000000 [==============================] - 32s 32us/sample - loss: 7.2116 - accuracy: 0.5297\n",
      "Epoch 5/5\n",
      "1000000/1000000 [==============================] - 33s 33us/sample - loss: 7.2116 - accuracy: 0.5297\n"
     ]
    },
    {
     "data": {
      "text/plain": [
       "<tensorflow.python.keras.callbacks.History at 0x1a34119a20>"
      ]
     },
     "execution_count": 23,
     "metadata": {},
     "output_type": "execute_result"
    }
   ],
   "source": [
    "model_csgd.fit(scaled_train_df.values, y, epochs=5, batch_size=100)"
   ]
  },
  {
   "cell_type": "code",
   "execution_count": 28,
   "metadata": {},
   "outputs": [],
   "source": [
    "import tensorflow.keras.backend as K\n",
    "def scheduler(epoch):\n",
    "    if epoch <= 200:\n",
    "        k.set_value(self.model.optimizer.momentum, (0.09/200)*epoch)\n",
    "    else:\n",
    "        k.set_value(model.optimizer.momentum,0.09)\n",
    "    return K.get_value(model.optimizer.momentum)"
   ]
  },
  {
   "cell_type": "markdown",
   "metadata": {},
   "source": [
    "<a id='stopping'></a>\n",
    "<a href=\"#stoppingmethods\">Back to Top</a>"
   ]
  },
  {
   "cell_type": "code",
   "execution_count": 31,
   "metadata": {},
   "outputs": [
    {
     "name": "stdout",
     "output_type": "stream",
     "text": [
      "Train on 700000 samples, validate on 300000 samples\n",
      "Epoch 1/40\n",
      "700000/700000 - 25s - loss: 7.2146 - accuracy: 0.5295 - val_loss: 7.2048 - val_accuracy: 0.5301\n",
      "Epoch 2/40\n",
      "700000/700000 - 25s - loss: 7.2146 - accuracy: 0.5295 - val_loss: 7.2048 - val_accuracy: 0.5301\n",
      "Epoch 3/40\n",
      "700000/700000 - 25s - loss: 7.2146 - accuracy: 0.5295 - val_loss: 7.2048 - val_accuracy: 0.5301\n",
      "Epoch 4/40\n",
      "700000/700000 - 26s - loss: 7.2146 - accuracy: 0.5295 - val_loss: 7.2048 - val_accuracy: 0.5301\n",
      "Epoch 5/40\n",
      "700000/700000 - 25s - loss: 7.2146 - accuracy: 0.5295 - val_loss: 7.2048 - val_accuracy: 0.5301\n",
      "Epoch 6/40\n",
      "700000/700000 - 25s - loss: 7.2146 - accuracy: 0.5295 - val_loss: 7.2048 - val_accuracy: 0.5301\n",
      "Epoch 7/40\n",
      "700000/700000 - 25s - loss: 7.2146 - accuracy: 0.5295 - val_loss: 7.2048 - val_accuracy: 0.5301\n",
      "Epoch 8/40\n",
      "700000/700000 - 25s - loss: 7.2146 - accuracy: 0.5295 - val_loss: 7.2048 - val_accuracy: 0.5301\n",
      "Epoch 9/40\n",
      "700000/700000 - 25s - loss: 7.2146 - accuracy: 0.5295 - val_loss: 7.2048 - val_accuracy: 0.5301\n",
      "Epoch 10/40\n",
      "700000/700000 - 25s - loss: 7.2146 - accuracy: 0.5295 - val_loss: 7.2048 - val_accuracy: 0.5301\n",
      "Epoch 11/40\n",
      "700000/700000 - 25s - loss: 7.2146 - accuracy: 0.5295 - val_loss: 7.2048 - val_accuracy: 0.5301\n"
     ]
    },
    {
     "data": {
      "text/plain": [
       "<tensorflow.python.keras.callbacks.History at 0x1a34711b00>"
      ]
     },
     "execution_count": 31,
     "metadata": {},
     "output_type": "execute_result"
    }
   ],
   "source": [
    "# learning schedule callback\n",
    "lrate = LearningRateScheduler(get_lrate)\n",
    "#momentum_upd = MomentumScheduler(scheduler)\n",
    "earlystopper= EarlyStopping(monitor='val_loss',min_delta=0.00001,patience=10)\n",
    "\n",
    "callbacks_list = [lrate,earlystopper]\n",
    "\n",
    "# Fit the model\n",
    "model_csgd.fit(scaled_train_df.values, y, validation_split=0.3, epochs=40, batch_size=100, callbacks=callbacks_list, verbose=2)"
   ]
  },
  {
   "cell_type": "code",
   "execution_count": 35,
   "metadata": {},
   "outputs": [
    {
     "name": "stdout",
     "output_type": "stream",
     "text": [
      "0.5\n"
     ]
    }
   ],
   "source": [
    "predictions_csgd = model_csgd.predict(np.asarray(scaled_train_df.values))\n",
    "fpr_keras_csgd, tpr_keras_csgd, thresholds_keras_csgd = metrics.roc_curve(y,predictions_csgd,pos_label=None)\n",
    "auc_keras_csgd = metrics.auc(fpr_keras_csgd, tpr_keras_csgd)\n",
    "print(auc_keras_csgd)"
   ]
  },
  {
   "cell_type": "code",
   "execution_count": 36,
   "metadata": {},
   "outputs": [
    {
     "data": {
      "image/png": "[encoded data removed]",
      "text/plain": [
       "<Figure size 432x288 with 1 Axes>"
      ]
     },
     "metadata": {
      "needs_background": "light"
     },
     "output_type": "display_data"
    }
   ],
   "source": [
    "plt.figure(1)\n",
    "plt.plot([0, 1], 'k--')\n",
    "plt.plot(fpr_keras_csgd, tpr_keras_csgd, label='Keras (area = {:.3f})'.format(auc_keras_csgd))\n",
    "plt.xlabel('False positive rate')\n",
    "plt.ylabel('True positive rate')\n",
    "plt.title('ROC curve')\n",
    "plt.legend(loc='best')\n",
    "plt.show()"
   ]
  },
  {
   "cell_type": "markdown",
   "metadata": {},
   "source": [
    "<a id='adam'></a>\n",
    "<a href=\"#stoppingmethods\">Back to Results</a>\n",
    "\n",
    "### newer model using 'adam' optimizer"
   ]
  },
  {
   "cell_type": "code",
   "execution_count": 37,
   "metadata": {},
   "outputs": [],
   "source": [
    "model_new = tf.keras.Sequential()\n",
    "model_new.add(layers.Dense(300, activation='tanh',kernel_initializer=tf.keras.initializers.RandomNormal(mean=0.0, stddev=0.1, seed=None)))\n",
    "model_new.add(layers.Dense(300, activation='tanh',kernel_initializer=tf.keras.initializers.RandomNormal(mean=0.0, stddev=0.05, seed=None)))\n",
    "model_new.add(layers.Dense(300, activation='tanh',kernel_initializer=tf.keras.initializers.RandomNormal(mean=0.0, stddev=0.05, seed=None)))\n",
    "model_new.add(layers.Dense(300, activation='tanh',kernel_initializer=tf.keras.initializers.RandomNormal(mean=0.0, stddev=0.05, seed=None)))\n",
    "model_new.add(layers.Dense(300, activation='tanh',kernel_initializer=tf.keras.initializers.RandomNormal(mean=0.0, stddev=0.05, seed=None)))\n",
    "model_new.add(layers.Dense(1,activation='sigmoid',kernel_initializer=tf.keras.initializers.RandomNormal(mean=0.0, stddev=0.001, seed=None)))"
   ]
  },
  {
   "cell_type": "code",
   "execution_count": 38,
   "metadata": {},
   "outputs": [],
   "source": [
    "model_new.compile(loss='binary_crossentropy', optimizer='adam', metrics=['accuracy'])"
   ]
  },
  {
   "cell_type": "code",
   "execution_count": 39,
   "metadata": {},
   "outputs": [
    {
     "name": "stdout",
     "output_type": "stream",
     "text": [
      "Train on 700000 samples, validate on 300000 samples\n",
      "Epoch 1/10\n",
      "700000/700000 - 21s - loss: 0.6355 - accuracy: 0.6329 - val_loss: 0.6123 - val_accuracy: 0.6656\n",
      "Epoch 2/10\n",
      "700000/700000 - 21s - loss: 0.5889 - accuracy: 0.6853 - val_loss: 0.5758 - val_accuracy: 0.6956\n",
      "Epoch 3/10\n",
      "700000/700000 - 21s - loss: 0.5703 - accuracy: 0.7006 - val_loss: 0.5810 - val_accuracy: 0.6913\n",
      "Epoch 4/10\n",
      "700000/700000 - 22s - loss: 0.5585 - accuracy: 0.7096 - val_loss: 0.5614 - val_accuracy: 0.7080\n",
      "Epoch 5/10\n",
      "700000/700000 - 23s - loss: 0.5528 - accuracy: 0.7137 - val_loss: 0.5491 - val_accuracy: 0.7160\n",
      "Epoch 6/10\n",
      "700000/700000 - 21s - loss: 0.5462 - accuracy: 0.7184 - val_loss: 0.5414 - val_accuracy: 0.7229\n",
      "Epoch 7/10\n",
      "700000/700000 - 23s - loss: 0.5401 - accuracy: 0.7227 - val_loss: 0.5378 - val_accuracy: 0.7238\n",
      "Epoch 8/10\n",
      "700000/700000 - 22s - loss: 0.5341 - accuracy: 0.7271 - val_loss: 0.5309 - val_accuracy: 0.7291\n",
      "Epoch 9/10\n",
      "700000/700000 - 21s - loss: 0.5285 - accuracy: 0.7315 - val_loss: 0.5225 - val_accuracy: 0.7361\n",
      "Epoch 10/10\n",
      "700000/700000 - 21s - loss: 0.5246 - accuracy: 0.7340 - val_loss: 0.5179 - val_accuracy: 0.7389\n"
     ]
    },
    {
     "data": {
      "text/plain": [
       "<tensorflow.python.keras.callbacks.History at 0x1a327473c8>"
      ]
     },
     "execution_count": 39,
     "metadata": {},
     "output_type": "execute_result"
    }
   ],
   "source": [
    "model_new.fit(scaled_train_df.values, y, validation_split=0.3, epochs=10, batch_size=200,  verbose=2)"
   ]
  },
  {
   "cell_type": "code",
   "execution_count": 40,
   "metadata": {},
   "outputs": [
    {
     "name": "stdout",
     "output_type": "stream",
     "text": [
      "0.8229165258346218\n"
     ]
    }
   ],
   "source": [
    "predictions_adam = model_new.predict(np.asarray(scaled_train_df.values))\n",
    "fpr_keras_adam, tpr_keras_adam, thresholds_keras_adam = metrics.roc_curve(y,predictions_adam,pos_label=None)\n",
    "auc_keras_adam = metrics.auc(fpr_keras_adam, tpr_keras_adam)\n",
    "print(auc_keras_adam)"
   ]
  },
  {
   "cell_type": "code",
   "execution_count": 41,
   "metadata": {},
   "outputs": [
    {
     "data": {
      "image/png": "[encoded data removed]",
      "text/plain": [
       "<Figure size 432x288 with 1 Axes>"
      ]
     },
     "metadata": {
      "needs_background": "light"
     },
     "output_type": "display_data"
    }
   ],
   "source": [
    "plt.figure(1)\n",
    "plt.plot([0, 1], 'k--')\n",
    "plt.plot(fpr_keras_adam, tpr_keras_adam, label='Keras (area = {:.3f})'.format(auc_keras_adam))\n",
    "plt.xlabel('False positive rate')\n",
    "plt.ylabel('True positive rate')\n",
    "plt.title('ROC curve')\n",
    "plt.legend(loc='best')\n",
    "plt.show()"
   ]
  },
  {
   "cell_type": "code",
   "execution_count": null,
   "metadata": {},
   "outputs": [],
   "source": []
  }
 ],
 "metadata": {
  "kernelspec": {
   "display_name": "Python3.6 (tensorflow)",
   "language": "python",
   "name": "tensorflow"
  },
  "language_info": {
   "codemirror_mode": {
    "name": "ipython",
    "version": 3
   },
   "file_extension": ".py",
   "mimetype": "text/x-python",
   "name": "python",
   "nbconvert_exporter": "python",
   "pygments_lexer": "ipython3",
   "version": "3.6.9"
  }
 },
 "nbformat": 4,
 "nbformat_minor": 2
}
